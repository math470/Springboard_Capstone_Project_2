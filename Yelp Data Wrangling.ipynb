{
 "cells": [
  {
   "cell_type": "markdown",
   "metadata": {},
   "source": [
    "<a id='Top'></a>\n",
    "\n",
    "# Yelp Recommender System Project\n",
    "## Part 1 Data Wrangling"
   ]
  },
  {
   "cell_type": "markdown",
   "metadata": {},
   "source": [
    "### Overview\n",
    "\n",
    "1. <a href='#business'>Business data</a>\n",
    "1. <a href='#Review'>Review data</a> \n",
    "1. <a href='#User'>User data</a>\n",
    "1. <a href='#Summary'>Summary</a>"
   ]
  },
  {
   "cell_type": "markdown",
   "metadata": {},
   "source": [
    "#### Converting json files to csv files\n",
    "\n",
    "I updated json_to_csv_converter.py from https://github.com/Yelp/dataset-examples/blob/master/json_to_csv_converter.py\n",
    "to make it work for Python 3 using the following steps:\n",
    "1. iteritems() --> items()\n",
    "2. Add this argument encoding=\"utf8\" whenever opening json files\n",
    "https://stackoverflow.com/questions/9233027/unicodedecodeerror-charmap-codec-cant-decode-byte-x-in-position-y-character\n",
    "3. 'wb+' -->'w+'\n",
    "https://stackoverflow.com/questions/34283178/typeerror-a-bytes-like-object-is-required-not-str-in-python-and-csv\n",
    "4. 'unicode' --> 'str'\n",
    "https://stackoverflow.com/questions/19877306/nameerror-global-name-unicode-is-not-defined-in-python-3\n",
    "\n",
    "Then I ran this command \"python json_to_csv_converter_updated.py yelp_academic_dataset_review.json\" in cmd for review, user, and business files. The file 'yelp_academic_dataset_business.json' threw an error, but converting it to a csv file was unnecessary since pd.read_json() worked.\n",
    "\n",
    "I found using pd.read_json() is more simple to read json files than the above method, but the csv file for reviews converted by the above method was useful for loading selected columns (to avoid memory error)."
   ]
  },
  {
   "cell_type": "code",
   "execution_count": 181,
   "metadata": {},
   "outputs": [],
   "source": [
    "import pandas as pd"
   ]
  },
  {
   "cell_type": "markdown",
   "metadata": {},
   "source": [
    "<a id='business'></a>\n",
    "\n",
    "### 1. Business Data"
   ]
  },
  {
   "cell_type": "code",
   "execution_count": 182,
   "metadata": {},
   "outputs": [],
   "source": [
    "# load json as string\n",
    "#import json\n",
    "#json.load((open('yelp_academic_dataset_business.json',encoding=\"utf8\")))"
   ]
  },
  {
   "cell_type": "markdown",
   "metadata": {},
   "source": [
    "The above threw an error, so I tried the below code and it worked"
   ]
  },
  {
   "cell_type": "code",
   "execution_count": 183,
   "metadata": {
    "scrolled": false
   },
   "outputs": [
    {
     "name": "stdout",
     "output_type": "stream",
     "text": [
      "{'business_id': 'Apn5Q_b6Nz61Tq4XzPdf9A', 'name': 'Minhas Micro Brewery', 'neighborhood': '', 'address': '1314 44 Avenue NE', 'city': 'Calgary', 'state': 'AB', 'postal_code': 'T2E 6L6', 'latitude': 51.0918130155, 'longitude': -114.031674872, 'stars': 4.0, 'review_count': 24, 'is_open': 1, 'attributes': {'BikeParking': 'False', 'BusinessAcceptsCreditCards': 'True', 'BusinessParking': \"{'garage': False, 'street': True, 'validated': False, 'lot': False, 'valet': False}\", 'GoodForKids': 'True', 'HasTV': 'True', 'NoiseLevel': 'average', 'OutdoorSeating': 'False', 'RestaurantsAttire': 'casual', 'RestaurantsDelivery': 'False', 'RestaurantsGoodForGroups': 'True', 'RestaurantsPriceRange2': '2', 'RestaurantsReservations': 'True', 'RestaurantsTakeOut': 'True'}, 'categories': 'Tours, Breweries, Pizza, Restaurants, Food, Hotels & Travel', 'hours': {'Monday': '8:30-17:0', 'Tuesday': '11:0-21:0', 'Wednesday': '11:0-21:0', 'Thursday': '11:0-21:0', 'Friday': '11:0-21:0', 'Saturday': '11:0-21:0'}}\n"
     ]
    }
   ],
   "source": [
    "import simplejson as json\n",
    "\n",
    "with open('yelp_academic_dataset_business.json',encoding=\"utf8\") as fin:\n",
    "    for line in fin:\n",
    "        print(json.loads(line))\n",
    "        break # to check only one line"
   ]
  },
  {
   "cell_type": "markdown",
   "metadata": {},
   "source": [
    "This is hard to read. I will make it look better."
   ]
  },
  {
   "cell_type": "code",
   "execution_count": 184,
   "metadata": {
    "scrolled": true
   },
   "outputs": [
    {
     "name": "stdout",
     "output_type": "stream",
     "text": [
      "business_id :   Apn5Q_b6Nz61Tq4XzPdf9A\n",
      "name :   Minhas Micro Brewery\n",
      "neighborhood :   \n",
      "address :   1314 44 Avenue NE\n",
      "city :   Calgary\n",
      "state :   AB\n",
      "postal_code :   T2E 6L6\n",
      "latitude :   51.0918130155\n",
      "longitude :   -114.031674872\n",
      "stars :   4.0\n",
      "review_count :   24\n",
      "is_open :   1\n",
      "attributes :   {'BikeParking': 'False', 'BusinessAcceptsCreditCards': 'True', 'BusinessParking': \"{'garage': False, 'street': True, 'validated': False, 'lot': False, 'valet': False}\", 'GoodForKids': 'True', 'HasTV': 'True', 'NoiseLevel': 'average', 'OutdoorSeating': 'False', 'RestaurantsAttire': 'casual', 'RestaurantsDelivery': 'False', 'RestaurantsGoodForGroups': 'True', 'RestaurantsPriceRange2': '2', 'RestaurantsReservations': 'True', 'RestaurantsTakeOut': 'True'}\n",
      "categories :   Tours, Breweries, Pizza, Restaurants, Food, Hotels & Travel\n",
      "hours :   {'Monday': '8:30-17:0', 'Tuesday': '11:0-21:0', 'Wednesday': '11:0-21:0', 'Thursday': '11:0-21:0', 'Friday': '11:0-21:0', 'Saturday': '11:0-21:0'}\n"
     ]
    }
   ],
   "source": [
    "with open('yelp_academic_dataset_business.json',encoding=\"utf8\") as fin:\n",
    "    for line in fin:\n",
    "        business_columns = list(json.loads(line).keys())\n",
    "        \n",
    "        for key, value in json.loads(line).items():\n",
    "            print(key,\":  \", value)\n",
    "        break # to check only one line"
   ]
  },
  {
   "cell_type": "code",
   "execution_count": 185,
   "metadata": {},
   "outputs": [
    {
     "data": {
      "text/plain": [
       "['business_id',\n",
       " 'name',\n",
       " 'neighborhood',\n",
       " 'address',\n",
       " 'city',\n",
       " 'state',\n",
       " 'postal_code',\n",
       " 'latitude',\n",
       " 'longitude',\n",
       " 'stars',\n",
       " 'review_count',\n",
       " 'is_open',\n",
       " 'attributes',\n",
       " 'categories',\n",
       " 'hours']"
      ]
     },
     "execution_count": 185,
     "metadata": {},
     "output_type": "execute_result"
    }
   ],
   "source": [
    "business_columns"
   ]
  },
  {
   "cell_type": "code",
   "execution_count": 186,
   "metadata": {
    "scrolled": true
   },
   "outputs": [],
   "source": [
    "business_df = pd.read_json('yelp_academic_dataset_business.json', lines=True)"
   ]
  },
  {
   "cell_type": "markdown",
   "metadata": {},
   "source": [
    "Without lines=True, this threw error  \"trailing data\", but I found a helful answer here https://stackoverflow.com/questions/30088006/loading-a-file-with-more-than-one-line-of-json-into-pythons-pandas"
   ]
  },
  {
   "cell_type": "code",
   "execution_count": 187,
   "metadata": {},
   "outputs": [],
   "source": [
    "business_df=business_df[business_columns]"
   ]
  },
  {
   "cell_type": "code",
   "execution_count": 188,
   "metadata": {
    "scrolled": true
   },
   "outputs": [
    {
     "data": {
      "text/html": [
       "<div>\n",
       "<style scoped>\n",
       "    .dataframe tbody tr th:only-of-type {\n",
       "        vertical-align: middle;\n",
       "    }\n",
       "\n",
       "    .dataframe tbody tr th {\n",
       "        vertical-align: top;\n",
       "    }\n",
       "\n",
       "    .dataframe thead th {\n",
       "        text-align: right;\n",
       "    }\n",
       "</style>\n",
       "<table border=\"1\" class=\"dataframe\">\n",
       "  <thead>\n",
       "    <tr style=\"text-align: right;\">\n",
       "      <th></th>\n",
       "      <th>business_id</th>\n",
       "      <th>name</th>\n",
       "      <th>neighborhood</th>\n",
       "      <th>address</th>\n",
       "      <th>city</th>\n",
       "      <th>state</th>\n",
       "      <th>postal_code</th>\n",
       "      <th>latitude</th>\n",
       "      <th>longitude</th>\n",
       "      <th>stars</th>\n",
       "      <th>review_count</th>\n",
       "      <th>is_open</th>\n",
       "      <th>attributes</th>\n",
       "      <th>categories</th>\n",
       "      <th>hours</th>\n",
       "    </tr>\n",
       "  </thead>\n",
       "  <tbody>\n",
       "    <tr>\n",
       "      <th>0</th>\n",
       "      <td>Apn5Q_b6Nz61Tq4XzPdf9A</td>\n",
       "      <td>Minhas Micro Brewery</td>\n",
       "      <td></td>\n",
       "      <td>1314 44 Avenue NE</td>\n",
       "      <td>Calgary</td>\n",
       "      <td>AB</td>\n",
       "      <td>T2E 6L6</td>\n",
       "      <td>51.091813</td>\n",
       "      <td>-114.031675</td>\n",
       "      <td>4.0</td>\n",
       "      <td>24</td>\n",
       "      <td>1</td>\n",
       "      <td>{'BikeParking': 'False', 'BusinessAcceptsCredi...</td>\n",
       "      <td>Tours, Breweries, Pizza, Restaurants, Food, Ho...</td>\n",
       "      <td>{'Monday': '8:30-17:0', 'Tuesday': '11:0-21:0'...</td>\n",
       "    </tr>\n",
       "    <tr>\n",
       "      <th>1</th>\n",
       "      <td>AjEbIBw6ZFfln7ePHha9PA</td>\n",
       "      <td>CK'S BBQ &amp; Catering</td>\n",
       "      <td></td>\n",
       "      <td></td>\n",
       "      <td>Henderson</td>\n",
       "      <td>NV</td>\n",
       "      <td>89002</td>\n",
       "      <td>35.960734</td>\n",
       "      <td>-114.939821</td>\n",
       "      <td>4.5</td>\n",
       "      <td>3</td>\n",
       "      <td>0</td>\n",
       "      <td>{'Alcohol': 'none', 'BikeParking': 'False', 'B...</td>\n",
       "      <td>Chicken Wings, Burgers, Caterers, Street Vendo...</td>\n",
       "      <td>{'Friday': '17:0-23:0', 'Saturday': '17:0-23:0...</td>\n",
       "    </tr>\n",
       "    <tr>\n",
       "      <th>2</th>\n",
       "      <td>O8S5hYJ1SMc8fA4QBtVujA</td>\n",
       "      <td>La Bastringue</td>\n",
       "      <td>Rosemont-La Petite-Patrie</td>\n",
       "      <td>1335 rue Beaubien E</td>\n",
       "      <td>MontrÃ©al</td>\n",
       "      <td>QC</td>\n",
       "      <td>H2G 1K7</td>\n",
       "      <td>45.540503</td>\n",
       "      <td>-73.599300</td>\n",
       "      <td>4.0</td>\n",
       "      <td>5</td>\n",
       "      <td>0</td>\n",
       "      <td>{'Alcohol': 'beer_and_wine', 'Ambience': '{'ro...</td>\n",
       "      <td>Breakfast &amp; Brunch, Restaurants, French, Sandw...</td>\n",
       "      <td>{'Monday': '10:0-22:0', 'Tuesday': '10:0-22:0'...</td>\n",
       "    </tr>\n",
       "    <tr>\n",
       "      <th>3</th>\n",
       "      <td>bFzdJJ3wp3PZssNEsyU23g</td>\n",
       "      <td>Geico Insurance</td>\n",
       "      <td></td>\n",
       "      <td>211 W Monroe St</td>\n",
       "      <td>Phoenix</td>\n",
       "      <td>AZ</td>\n",
       "      <td>85003</td>\n",
       "      <td>33.449999</td>\n",
       "      <td>-112.076979</td>\n",
       "      <td>1.5</td>\n",
       "      <td>8</td>\n",
       "      <td>1</td>\n",
       "      <td>None</td>\n",
       "      <td>Insurance, Financial Services</td>\n",
       "      <td>None</td>\n",
       "    </tr>\n",
       "    <tr>\n",
       "      <th>4</th>\n",
       "      <td>8USyCYqpScwiNEb58Bt6CA</td>\n",
       "      <td>Action Engine</td>\n",
       "      <td></td>\n",
       "      <td>2005 Alyth Place SE</td>\n",
       "      <td>Calgary</td>\n",
       "      <td>AB</td>\n",
       "      <td>T2H 0N5</td>\n",
       "      <td>51.035591</td>\n",
       "      <td>-114.027366</td>\n",
       "      <td>2.0</td>\n",
       "      <td>4</td>\n",
       "      <td>1</td>\n",
       "      <td>{'BusinessAcceptsCreditCards': 'True'}</td>\n",
       "      <td>Home &amp; Garden, Nurseries &amp; Gardening, Shopping...</td>\n",
       "      <td>{'Monday': '8:0-17:0', 'Tuesday': '8:0-17:0', ...</td>\n",
       "    </tr>\n",
       "  </tbody>\n",
       "</table>\n",
       "</div>"
      ],
      "text/plain": [
       "              business_id                  name               neighborhood  \\\n",
       "0  Apn5Q_b6Nz61Tq4XzPdf9A  Minhas Micro Brewery                              \n",
       "1  AjEbIBw6ZFfln7ePHha9PA   CK'S BBQ & Catering                              \n",
       "2  O8S5hYJ1SMc8fA4QBtVujA         La Bastringue  Rosemont-La Petite-Patrie   \n",
       "3  bFzdJJ3wp3PZssNEsyU23g       Geico Insurance                              \n",
       "4  8USyCYqpScwiNEb58Bt6CA         Action Engine                              \n",
       "\n",
       "               address       city state postal_code   latitude   longitude  \\\n",
       "0    1314 44 Avenue NE    Calgary    AB     T2E 6L6  51.091813 -114.031675   \n",
       "1                       Henderson    NV       89002  35.960734 -114.939821   \n",
       "2  1335 rue Beaubien E  MontrÃ©al    QC     H2G 1K7  45.540503  -73.599300   \n",
       "3      211 W Monroe St    Phoenix    AZ       85003  33.449999 -112.076979   \n",
       "4  2005 Alyth Place SE    Calgary    AB     T2H 0N5  51.035591 -114.027366   \n",
       "\n",
       "   stars  review_count  is_open  \\\n",
       "0    4.0            24        1   \n",
       "1    4.5             3        0   \n",
       "2    4.0             5        0   \n",
       "3    1.5             8        1   \n",
       "4    2.0             4        1   \n",
       "\n",
       "                                          attributes  \\\n",
       "0  {'BikeParking': 'False', 'BusinessAcceptsCredi...   \n",
       "1  {'Alcohol': 'none', 'BikeParking': 'False', 'B...   \n",
       "2  {'Alcohol': 'beer_and_wine', 'Ambience': '{'ro...   \n",
       "3                                               None   \n",
       "4             {'BusinessAcceptsCreditCards': 'True'}   \n",
       "\n",
       "                                          categories  \\\n",
       "0  Tours, Breweries, Pizza, Restaurants, Food, Ho...   \n",
       "1  Chicken Wings, Burgers, Caterers, Street Vendo...   \n",
       "2  Breakfast & Brunch, Restaurants, French, Sandw...   \n",
       "3                      Insurance, Financial Services   \n",
       "4  Home & Garden, Nurseries & Gardening, Shopping...   \n",
       "\n",
       "                                               hours  \n",
       "0  {'Monday': '8:30-17:0', 'Tuesday': '11:0-21:0'...  \n",
       "1  {'Friday': '17:0-23:0', 'Saturday': '17:0-23:0...  \n",
       "2  {'Monday': '10:0-22:0', 'Tuesday': '10:0-22:0'...  \n",
       "3                                               None  \n",
       "4  {'Monday': '8:0-17:0', 'Tuesday': '8:0-17:0', ...  "
      ]
     },
     "execution_count": 188,
     "metadata": {},
     "output_type": "execute_result"
    }
   ],
   "source": [
    "business_df.head()"
   ]
  },
  {
   "cell_type": "code",
   "execution_count": 189,
   "metadata": {
    "scrolled": true
   },
   "outputs": [
    {
     "name": "stdout",
     "output_type": "stream",
     "text": [
      "<class 'pandas.core.frame.DataFrame'>\n",
      "RangeIndex: 188593 entries, 0 to 188592\n",
      "Data columns (total 15 columns):\n",
      "business_id     188593 non-null object\n",
      "name            188593 non-null object\n",
      "neighborhood    188593 non-null object\n",
      "address         188593 non-null object\n",
      "city            188593 non-null object\n",
      "state           188593 non-null object\n",
      "postal_code     188593 non-null object\n",
      "latitude        188587 non-null float64\n",
      "longitude       188587 non-null float64\n",
      "stars           188593 non-null float64\n",
      "review_count    188593 non-null int64\n",
      "is_open         188593 non-null int64\n",
      "attributes      162807 non-null object\n",
      "categories      188052 non-null object\n",
      "hours           143791 non-null object\n",
      "dtypes: float64(3), int64(2), object(10)\n",
      "memory usage: 21.6+ MB\n"
     ]
    }
   ],
   "source": [
    "business_df.info()"
   ]
  },
  {
   "cell_type": "code",
   "execution_count": 190,
   "metadata": {},
   "outputs": [
    {
     "data": {
      "text/plain": [
       "business_id         0\n",
       "name                0\n",
       "neighborhood        0\n",
       "address             0\n",
       "city                0\n",
       "state               0\n",
       "postal_code         0\n",
       "latitude            6\n",
       "longitude           6\n",
       "stars               0\n",
       "review_count        0\n",
       "is_open             0\n",
       "attributes      25786\n",
       "categories        541\n",
       "hours           44802\n",
       "dtype: int64"
      ]
     },
     "execution_count": 190,
     "metadata": {},
     "output_type": "execute_result"
    }
   ],
   "source": [
    "# Count missing values\n",
    "business_df.isna().sum()"
   ]
  },
  {
   "cell_type": "markdown",
   "metadata": {},
   "source": [
    "Note that there can be also missing values even if the above list shows zero for missing values (e.g. blank string). I will take care of missing values later. For now, I need to extract restaurants and places to eat which are businesses in my interest."
   ]
  },
  {
   "cell_type": "code",
   "execution_count": 191,
   "metadata": {
    "scrolled": true
   },
   "outputs": [
    {
     "data": {
      "text/plain": [
       "0    Tours, Breweries, Pizza, Restaurants, Food, Ho...\n",
       "1    Chicken Wings, Burgers, Caterers, Street Vendo...\n",
       "2    Breakfast & Brunch, Restaurants, French, Sandw...\n",
       "3                        Insurance, Financial Services\n",
       "4    Home & Garden, Nurseries & Gardening, Shopping...\n",
       "Name: categories, dtype: object"
      ]
     },
     "execution_count": 191,
     "metadata": {},
     "output_type": "execute_result"
    }
   ],
   "source": [
    "business_df['categories'][0:5]"
   ]
  },
  {
   "cell_type": "code",
   "execution_count": 192,
   "metadata": {},
   "outputs": [
    {
     "data": {
      "text/plain": [
       "'Tours, Breweries, Pizza, Restaurants, Food, Hotels & Travel'"
      ]
     },
     "execution_count": 192,
     "metadata": {},
     "output_type": "execute_result"
    }
   ],
   "source": [
    "business_df['categories'][0]"
   ]
  },
  {
   "cell_type": "markdown",
   "metadata": {},
   "source": [
    "This is one string, so I need to split it into a list of strings to find a list of all categories appearing in the column."
   ]
  },
  {
   "cell_type": "code",
   "execution_count": 193,
   "metadata": {
    "scrolled": true
   },
   "outputs": [
    {
     "data": {
      "text/plain": [
       "['Tours', ' Breweries', ' Pizza', ' Restaurants', ' Food', ' Hotels & Travel']"
      ]
     },
     "execution_count": 193,
     "metadata": {},
     "output_type": "execute_result"
    }
   ],
   "source": [
    "business_df.categories[0].split(\",\")"
   ]
  },
  {
   "cell_type": "markdown",
   "metadata": {},
   "source": [
    "Some have white space in the beginning."
   ]
  },
  {
   "cell_type": "code",
   "execution_count": 194,
   "metadata": {},
   "outputs": [
    {
     "data": {
      "text/plain": [
       "['Tours', 'Breweries', 'Pizza', 'Restaurants', 'Food', 'Hotels & Travel']"
      ]
     },
     "execution_count": 194,
     "metadata": {},
     "output_type": "execute_result"
    }
   ],
   "source": [
    "[y.strip() for y in business_df.categories[0].split(\",\")]"
   ]
  },
  {
   "cell_type": "code",
   "execution_count": 195,
   "metadata": {},
   "outputs": [],
   "source": [
    "business_df['categories'] = business_df['categories'].apply(lambda x: [y.strip() for y in x.split(\",\")] if x else None)"
   ]
  },
  {
   "cell_type": "code",
   "execution_count": 196,
   "metadata": {},
   "outputs": [
    {
     "data": {
      "text/plain": [
       "['Tours', 'Breweries', 'Pizza', 'Restaurants', 'Food', 'Hotels & Travel']"
      ]
     },
     "execution_count": 196,
     "metadata": {},
     "output_type": "execute_result"
    }
   ],
   "source": [
    "business_df['categories'][0]"
   ]
  },
  {
   "cell_type": "code",
   "execution_count": 197,
   "metadata": {},
   "outputs": [],
   "source": [
    "# Make a set of business categories\n",
    "business_categories =set()\n",
    "\n",
    "for categories in business_df['categories']:\n",
    "    if categories:\n",
    "        business_categories.update(set(categories))"
   ]
  },
  {
   "cell_type": "code",
   "execution_count": 198,
   "metadata": {},
   "outputs": [
    {
     "data": {
      "text/plain": [
       "1305"
      ]
     },
     "execution_count": 198,
     "metadata": {},
     "output_type": "execute_result"
    }
   ],
   "source": [
    "len(business_categories)"
   ]
  },
  {
   "cell_type": "code",
   "execution_count": 199,
   "metadata": {},
   "outputs": [],
   "source": [
    "business_categories = [x for x in sorted(list(business_categories))]"
   ]
  },
  {
   "cell_type": "code",
   "execution_count": 462,
   "metadata": {
    "scrolled": true
   },
   "outputs": [
    {
     "data": {
      "text/plain": [
       "['& Probates',\n",
       " '3D Printing',\n",
       " 'ATV Rentals/Tours',\n",
       " 'Acai Bowls',\n",
       " 'Accessories',\n",
       " 'Accountants',\n",
       " 'Acne Treatment',\n",
       " 'Active Life',\n",
       " 'Acupuncture',\n",
       " 'Addiction Medicine',\n",
       " 'Adoption Services',\n",
       " 'Adult',\n",
       " 'Adult Education',\n",
       " 'Adult Entertainment',\n",
       " 'Advertising',\n",
       " 'Aerial Fitness',\n",
       " 'Aerial Tours',\n",
       " 'Aestheticians',\n",
       " 'Afghan',\n",
       " 'African']"
      ]
     },
     "execution_count": 462,
     "metadata": {},
     "output_type": "execute_result"
    }
   ],
   "source": [
    "business_categories[:20]"
   ]
  },
  {
   "cell_type": "markdown",
   "metadata": {},
   "source": [
    "- I found there are 1305 categories in total, so it is hard to find restaurant related categories manually. \n",
    "- Fortunately, I found the category list from https://www.yelp.com/developers/documentation/v3/all_category_list. Categories are hierarchical with many subcategories over 3 layers deep. \n",
    "- By inspecting the webpage, I found there are only two top categories related to eating places, Food and Restaurants. I will use only businesses in the two categories. \n",
    "- Note that the Food category includes some subcategories that might not be the places to eat such as Grocery and Convenience Stores.\n",
    "- The category information is also available as a json file in the website, but I found it useless for my analysis (see below for my exploration)."
   ]
  },
  {
   "cell_type": "code",
   "execution_count": 201,
   "metadata": {
    "scrolled": true
   },
   "outputs": [
    {
     "data": {
      "text/plain": [
       "[{'alias': '3dprinting', 'parents': ['localservices'], 'title': '3D Printing'},\n",
       " {'alias': 'abruzzese',\n",
       "  'country_whitelist': ['IT'],\n",
       "  'parents': ['italian'],\n",
       "  'title': 'Abruzzese'},\n",
       " {'alias': 'absinthebars',\n",
       "  'country_whitelist': ['CZ'],\n",
       "  'parents': ['bars'],\n",
       "  'title': 'Absinthe Bars'},\n",
       " {'alias': 'acaibowls',\n",
       "  'country_blacklist': ['CL', 'PL', 'IT', 'AR', 'MX', 'TR'],\n",
       "  'parents': ['food'],\n",
       "  'title': 'Acai Bowls'},\n",
       " {'alias': 'accessories', 'parents': ['fashion'], 'title': 'Accessories'}]"
      ]
     },
     "execution_count": 201,
     "metadata": {},
     "output_type": "execute_result"
    }
   ],
   "source": [
    "# load json as string\n",
    "import json\n",
    "json.load((open('categories.json',encoding=\"utf8\")))[:5] # check the first 5"
   ]
  },
  {
   "cell_type": "code",
   "execution_count": 202,
   "metadata": {},
   "outputs": [],
   "source": [
    "categories_df = pd.read_json('categories.json')"
   ]
  },
  {
   "cell_type": "code",
   "execution_count": 203,
   "metadata": {},
   "outputs": [
    {
     "data": {
      "text/html": [
       "<div>\n",
       "<style scoped>\n",
       "    .dataframe tbody tr th:only-of-type {\n",
       "        vertical-align: middle;\n",
       "    }\n",
       "\n",
       "    .dataframe tbody tr th {\n",
       "        vertical-align: top;\n",
       "    }\n",
       "\n",
       "    .dataframe thead th {\n",
       "        text-align: right;\n",
       "    }\n",
       "</style>\n",
       "<table border=\"1\" class=\"dataframe\">\n",
       "  <thead>\n",
       "    <tr style=\"text-align: right;\">\n",
       "      <th></th>\n",
       "      <th>alias</th>\n",
       "      <th>country_blacklist</th>\n",
       "      <th>country_whitelist</th>\n",
       "      <th>parents</th>\n",
       "      <th>title</th>\n",
       "    </tr>\n",
       "  </thead>\n",
       "  <tbody>\n",
       "    <tr>\n",
       "      <th>0</th>\n",
       "      <td>3dprinting</td>\n",
       "      <td>NaN</td>\n",
       "      <td>NaN</td>\n",
       "      <td>[localservices]</td>\n",
       "      <td>3D Printing</td>\n",
       "    </tr>\n",
       "    <tr>\n",
       "      <th>1</th>\n",
       "      <td>abruzzese</td>\n",
       "      <td>NaN</td>\n",
       "      <td>[IT]</td>\n",
       "      <td>[italian]</td>\n",
       "      <td>Abruzzese</td>\n",
       "    </tr>\n",
       "    <tr>\n",
       "      <th>2</th>\n",
       "      <td>absinthebars</td>\n",
       "      <td>NaN</td>\n",
       "      <td>[CZ]</td>\n",
       "      <td>[bars]</td>\n",
       "      <td>Absinthe Bars</td>\n",
       "    </tr>\n",
       "    <tr>\n",
       "      <th>3</th>\n",
       "      <td>acaibowls</td>\n",
       "      <td>[CL, PL, IT, AR, MX, TR]</td>\n",
       "      <td>NaN</td>\n",
       "      <td>[food]</td>\n",
       "      <td>Acai Bowls</td>\n",
       "    </tr>\n",
       "    <tr>\n",
       "      <th>4</th>\n",
       "      <td>accessories</td>\n",
       "      <td>NaN</td>\n",
       "      <td>NaN</td>\n",
       "      <td>[fashion]</td>\n",
       "      <td>Accessories</td>\n",
       "    </tr>\n",
       "  </tbody>\n",
       "</table>\n",
       "</div>"
      ],
      "text/plain": [
       "          alias         country_blacklist country_whitelist          parents  \\\n",
       "0    3dprinting                       NaN               NaN  [localservices]   \n",
       "1     abruzzese                       NaN              [IT]        [italian]   \n",
       "2  absinthebars                       NaN              [CZ]           [bars]   \n",
       "3     acaibowls  [CL, PL, IT, AR, MX, TR]               NaN           [food]   \n",
       "4   accessories                       NaN               NaN        [fashion]   \n",
       "\n",
       "           title  \n",
       "0    3D Printing  \n",
       "1      Abruzzese  \n",
       "2  Absinthe Bars  \n",
       "3     Acai Bowls  \n",
       "4    Accessories  "
      ]
     },
     "execution_count": 203,
     "metadata": {},
     "output_type": "execute_result"
    }
   ],
   "source": [
    "categories_df.head()"
   ]
  },
  {
   "cell_type": "code",
   "execution_count": 204,
   "metadata": {
    "scrolled": true
   },
   "outputs": [
    {
     "data": {
      "text/plain": [
       "118"
      ]
     },
     "execution_count": 204,
     "metadata": {},
     "output_type": "execute_result"
    }
   ],
   "source": [
    "categories_df.parents.apply(lambda x: x[0] if x else None).nunique()\n",
    "#categories_df.parents.apply(lambda x: x[0] if x else None).unique()"
   ]
  },
  {
   "cell_type": "code",
   "execution_count": 205,
   "metadata": {
    "scrolled": true
   },
   "outputs": [
    {
     "data": {
      "text/html": [
       "<div>\n",
       "<style scoped>\n",
       "    .dataframe tbody tr th:only-of-type {\n",
       "        vertical-align: middle;\n",
       "    }\n",
       "\n",
       "    .dataframe tbody tr th {\n",
       "        vertical-align: top;\n",
       "    }\n",
       "\n",
       "    .dataframe thead th {\n",
       "        text-align: right;\n",
       "    }\n",
       "</style>\n",
       "<table border=\"1\" class=\"dataframe\">\n",
       "  <thead>\n",
       "    <tr style=\"text-align: right;\">\n",
       "      <th></th>\n",
       "      <th>alias</th>\n",
       "      <th>country_blacklist</th>\n",
       "      <th>country_whitelist</th>\n",
       "      <th>parents</th>\n",
       "      <th>title</th>\n",
       "    </tr>\n",
       "  </thead>\n",
       "  <tbody>\n",
       "    <tr>\n",
       "      <th>523</th>\n",
       "      <td>food</td>\n",
       "      <td>NaN</td>\n",
       "      <td>NaN</td>\n",
       "      <td>[]</td>\n",
       "      <td>Food</td>\n",
       "    </tr>\n",
       "  </tbody>\n",
       "</table>\n",
       "</div>"
      ],
      "text/plain": [
       "    alias country_blacklist country_whitelist parents title\n",
       "523  food               NaN               NaN      []  Food"
      ]
     },
     "execution_count": 205,
     "metadata": {},
     "output_type": "execute_result"
    }
   ],
   "source": [
    "categories_df[categories_df.alias =='food']"
   ]
  },
  {
   "cell_type": "code",
   "execution_count": 206,
   "metadata": {},
   "outputs": [
    {
     "data": {
      "text/html": [
       "<div>\n",
       "<style scoped>\n",
       "    .dataframe tbody tr th:only-of-type {\n",
       "        vertical-align: middle;\n",
       "    }\n",
       "\n",
       "    .dataframe tbody tr th {\n",
       "        vertical-align: top;\n",
       "    }\n",
       "\n",
       "    .dataframe thead th {\n",
       "        text-align: right;\n",
       "    }\n",
       "</style>\n",
       "<table border=\"1\" class=\"dataframe\">\n",
       "  <thead>\n",
       "    <tr style=\"text-align: right;\">\n",
       "      <th></th>\n",
       "      <th>alias</th>\n",
       "      <th>country_blacklist</th>\n",
       "      <th>country_whitelist</th>\n",
       "      <th>parents</th>\n",
       "      <th>title</th>\n",
       "    </tr>\n",
       "  </thead>\n",
       "  <tbody>\n",
       "    <tr>\n",
       "      <th>1164</th>\n",
       "      <td>restaurants</td>\n",
       "      <td>NaN</td>\n",
       "      <td>NaN</td>\n",
       "      <td>[]</td>\n",
       "      <td>Restaurants</td>\n",
       "    </tr>\n",
       "  </tbody>\n",
       "</table>\n",
       "</div>"
      ],
      "text/plain": [
       "            alias country_blacklist country_whitelist parents        title\n",
       "1164  restaurants               NaN               NaN      []  Restaurants"
      ]
     },
     "execution_count": 206,
     "metadata": {},
     "output_type": "execute_result"
    }
   ],
   "source": [
    "categories_df[categories_df.alias =='restaurants']"
   ]
  },
  {
   "cell_type": "markdown",
   "metadata": {},
   "source": [
    "The dataframe shows all categories and their parents (right above category) if any. This might be useful information later, but not now."
   ]
  },
  {
   "cell_type": "markdown",
   "metadata": {},
   "source": [
    "#### Select Food and Restaurant businesses"
   ]
  },
  {
   "cell_type": "markdown",
   "metadata": {},
   "source": [
    "I will first make two new columns called 'restaurant' and 'food' with values 1 and 0 indicating True and False. Then I will make a column called 'food_and_restaurant' that has 1 for businesses in Food and Restaurants categories and 0 for other businesses."
   ]
  },
  {
   "cell_type": "code",
   "execution_count": 207,
   "metadata": {},
   "outputs": [],
   "source": [
    "business_df[\"restaurant\"] = business_df.categories.apply(lambda x: (\"Restaurants\" in x)*1 if x else 0)"
   ]
  },
  {
   "cell_type": "code",
   "execution_count": 208,
   "metadata": {},
   "outputs": [
    {
     "data": {
      "text/plain": [
       "array([1, 0], dtype=int64)"
      ]
     },
     "execution_count": 208,
     "metadata": {},
     "output_type": "execute_result"
    }
   ],
   "source": [
    "business_df[\"restaurant\"].unique()"
   ]
  },
  {
   "cell_type": "code",
   "execution_count": 209,
   "metadata": {
    "scrolled": true
   },
   "outputs": [
    {
     "data": {
      "text/plain": [
       "57173"
      ]
     },
     "execution_count": 209,
     "metadata": {},
     "output_type": "execute_result"
    }
   ],
   "source": [
    "# Number of restaurants\n",
    "business_df[\"restaurant\"].sum()"
   ]
  },
  {
   "cell_type": "code",
   "execution_count": 210,
   "metadata": {
    "scrolled": true
   },
   "outputs": [
    {
     "data": {
      "text/html": [
       "<div>\n",
       "<style scoped>\n",
       "    .dataframe tbody tr th:only-of-type {\n",
       "        vertical-align: middle;\n",
       "    }\n",
       "\n",
       "    .dataframe tbody tr th {\n",
       "        vertical-align: top;\n",
       "    }\n",
       "\n",
       "    .dataframe thead th {\n",
       "        text-align: right;\n",
       "    }\n",
       "</style>\n",
       "<table border=\"1\" class=\"dataframe\">\n",
       "  <thead>\n",
       "    <tr style=\"text-align: right;\">\n",
       "      <th></th>\n",
       "      <th>categories</th>\n",
       "      <th>restaurant</th>\n",
       "    </tr>\n",
       "  </thead>\n",
       "  <tbody>\n",
       "    <tr>\n",
       "      <th>0</th>\n",
       "      <td>[Tours, Breweries, Pizza, Restaurants, Food, H...</td>\n",
       "      <td>1</td>\n",
       "    </tr>\n",
       "    <tr>\n",
       "      <th>1</th>\n",
       "      <td>[Chicken Wings, Burgers, Caterers, Street Vend...</td>\n",
       "      <td>1</td>\n",
       "    </tr>\n",
       "    <tr>\n",
       "      <th>2</th>\n",
       "      <td>[Breakfast &amp; Brunch, Restaurants, French, Sand...</td>\n",
       "      <td>1</td>\n",
       "    </tr>\n",
       "    <tr>\n",
       "      <th>3</th>\n",
       "      <td>[Insurance, Financial Services]</td>\n",
       "      <td>0</td>\n",
       "    </tr>\n",
       "    <tr>\n",
       "      <th>4</th>\n",
       "      <td>[Home &amp; Garden, Nurseries &amp; Gardening, Shoppin...</td>\n",
       "      <td>0</td>\n",
       "    </tr>\n",
       "    <tr>\n",
       "      <th>5</th>\n",
       "      <td>[Coffee &amp; Tea, Food]</td>\n",
       "      <td>0</td>\n",
       "    </tr>\n",
       "    <tr>\n",
       "      <th>6</th>\n",
       "      <td>[Food, Bakeries]</td>\n",
       "      <td>0</td>\n",
       "    </tr>\n",
       "    <tr>\n",
       "      <th>7</th>\n",
       "      <td>[Restaurants, Thai]</td>\n",
       "      <td>1</td>\n",
       "    </tr>\n",
       "    <tr>\n",
       "      <th>8</th>\n",
       "      <td>[Mexican, Restaurants]</td>\n",
       "      <td>1</td>\n",
       "    </tr>\n",
       "    <tr>\n",
       "      <th>9</th>\n",
       "      <td>[Flowers &amp; Gifts, Gift Shops, Shopping]</td>\n",
       "      <td>0</td>\n",
       "    </tr>\n",
       "  </tbody>\n",
       "</table>\n",
       "</div>"
      ],
      "text/plain": [
       "                                          categories  restaurant\n",
       "0  [Tours, Breweries, Pizza, Restaurants, Food, H...           1\n",
       "1  [Chicken Wings, Burgers, Caterers, Street Vend...           1\n",
       "2  [Breakfast & Brunch, Restaurants, French, Sand...           1\n",
       "3                    [Insurance, Financial Services]           0\n",
       "4  [Home & Garden, Nurseries & Gardening, Shoppin...           0\n",
       "5                               [Coffee & Tea, Food]           0\n",
       "6                                   [Food, Bakeries]           0\n",
       "7                                [Restaurants, Thai]           1\n",
       "8                             [Mexican, Restaurants]           1\n",
       "9            [Flowers & Gifts, Gift Shops, Shopping]           0"
      ]
     },
     "execution_count": 210,
     "metadata": {},
     "output_type": "execute_result"
    }
   ],
   "source": [
    "business_df[[\"categories\", \"restaurant\"]][:10]"
   ]
  },
  {
   "cell_type": "code",
   "execution_count": 211,
   "metadata": {},
   "outputs": [],
   "source": [
    "business_df[\"food\"] = business_df.categories.apply(lambda x: (\"Food\" in x)*1 if x else 0)"
   ]
  },
  {
   "cell_type": "code",
   "execution_count": 212,
   "metadata": {},
   "outputs": [
    {
     "data": {
      "text/plain": [
       "array([1, 0], dtype=int64)"
      ]
     },
     "execution_count": 212,
     "metadata": {},
     "output_type": "execute_result"
    }
   ],
   "source": [
    "business_df[\"food\"].unique()"
   ]
  },
  {
   "cell_type": "code",
   "execution_count": 213,
   "metadata": {},
   "outputs": [
    {
     "data": {
      "text/plain": [
       "27118"
      ]
     },
     "execution_count": 213,
     "metadata": {},
     "output_type": "execute_result"
    }
   ],
   "source": [
    "# Number of food businesses\n",
    "business_df[\"food\"].sum()"
   ]
  },
  {
   "cell_type": "code",
   "execution_count": 214,
   "metadata": {},
   "outputs": [
    {
     "data": {
      "text/html": [
       "<div>\n",
       "<style scoped>\n",
       "    .dataframe tbody tr th:only-of-type {\n",
       "        vertical-align: middle;\n",
       "    }\n",
       "\n",
       "    .dataframe tbody tr th {\n",
       "        vertical-align: top;\n",
       "    }\n",
       "\n",
       "    .dataframe thead th {\n",
       "        text-align: right;\n",
       "    }\n",
       "</style>\n",
       "<table border=\"1\" class=\"dataframe\">\n",
       "  <thead>\n",
       "    <tr style=\"text-align: right;\">\n",
       "      <th></th>\n",
       "      <th>categories</th>\n",
       "      <th>food</th>\n",
       "    </tr>\n",
       "  </thead>\n",
       "  <tbody>\n",
       "    <tr>\n",
       "      <th>0</th>\n",
       "      <td>[Tours, Breweries, Pizza, Restaurants, Food, H...</td>\n",
       "      <td>1</td>\n",
       "    </tr>\n",
       "    <tr>\n",
       "      <th>1</th>\n",
       "      <td>[Chicken Wings, Burgers, Caterers, Street Vend...</td>\n",
       "      <td>1</td>\n",
       "    </tr>\n",
       "    <tr>\n",
       "      <th>2</th>\n",
       "      <td>[Breakfast &amp; Brunch, Restaurants, French, Sand...</td>\n",
       "      <td>0</td>\n",
       "    </tr>\n",
       "    <tr>\n",
       "      <th>3</th>\n",
       "      <td>[Insurance, Financial Services]</td>\n",
       "      <td>0</td>\n",
       "    </tr>\n",
       "    <tr>\n",
       "      <th>4</th>\n",
       "      <td>[Home &amp; Garden, Nurseries &amp; Gardening, Shoppin...</td>\n",
       "      <td>0</td>\n",
       "    </tr>\n",
       "    <tr>\n",
       "      <th>5</th>\n",
       "      <td>[Coffee &amp; Tea, Food]</td>\n",
       "      <td>1</td>\n",
       "    </tr>\n",
       "    <tr>\n",
       "      <th>6</th>\n",
       "      <td>[Food, Bakeries]</td>\n",
       "      <td>1</td>\n",
       "    </tr>\n",
       "    <tr>\n",
       "      <th>7</th>\n",
       "      <td>[Restaurants, Thai]</td>\n",
       "      <td>0</td>\n",
       "    </tr>\n",
       "    <tr>\n",
       "      <th>8</th>\n",
       "      <td>[Mexican, Restaurants]</td>\n",
       "      <td>0</td>\n",
       "    </tr>\n",
       "    <tr>\n",
       "      <th>9</th>\n",
       "      <td>[Flowers &amp; Gifts, Gift Shops, Shopping]</td>\n",
       "      <td>0</td>\n",
       "    </tr>\n",
       "  </tbody>\n",
       "</table>\n",
       "</div>"
      ],
      "text/plain": [
       "                                          categories  food\n",
       "0  [Tours, Breweries, Pizza, Restaurants, Food, H...     1\n",
       "1  [Chicken Wings, Burgers, Caterers, Street Vend...     1\n",
       "2  [Breakfast & Brunch, Restaurants, French, Sand...     0\n",
       "3                    [Insurance, Financial Services]     0\n",
       "4  [Home & Garden, Nurseries & Gardening, Shoppin...     0\n",
       "5                               [Coffee & Tea, Food]     1\n",
       "6                                   [Food, Bakeries]     1\n",
       "7                                [Restaurants, Thai]     0\n",
       "8                             [Mexican, Restaurants]     0\n",
       "9            [Flowers & Gifts, Gift Shops, Shopping]     0"
      ]
     },
     "execution_count": 214,
     "metadata": {},
     "output_type": "execute_result"
    }
   ],
   "source": [
    "business_df[[\"categories\", \"food\"]][:10]"
   ]
  },
  {
   "cell_type": "code",
   "execution_count": 215,
   "metadata": {},
   "outputs": [],
   "source": [
    "business_df[\"food_and_restaurant\"] = business_df.categories.apply(lambda x: (\"Food\" in x)|(\"Restaurants\" in x)*1 if x else 0)"
   ]
  },
  {
   "cell_type": "code",
   "execution_count": 216,
   "metadata": {},
   "outputs": [
    {
     "data": {
      "text/plain": [
       "array([1, 0], dtype=int64)"
      ]
     },
     "execution_count": 216,
     "metadata": {},
     "output_type": "execute_result"
    }
   ],
   "source": [
    "business_df[\"food_and_restaurant\"].unique()"
   ]
  },
  {
   "cell_type": "code",
   "execution_count": 217,
   "metadata": {},
   "outputs": [
    {
     "data": {
      "text/plain": [
       "72624"
      ]
     },
     "execution_count": 217,
     "metadata": {},
     "output_type": "execute_result"
    }
   ],
   "source": [
    "# Number of food and restaurants businesses \n",
    "business_df[\"food_and_restaurant\"].sum()"
   ]
  },
  {
   "cell_type": "code",
   "execution_count": 218,
   "metadata": {},
   "outputs": [
    {
     "data": {
      "text/html": [
       "<div>\n",
       "<style scoped>\n",
       "    .dataframe tbody tr th:only-of-type {\n",
       "        vertical-align: middle;\n",
       "    }\n",
       "\n",
       "    .dataframe tbody tr th {\n",
       "        vertical-align: top;\n",
       "    }\n",
       "\n",
       "    .dataframe thead th {\n",
       "        text-align: right;\n",
       "    }\n",
       "</style>\n",
       "<table border=\"1\" class=\"dataframe\">\n",
       "  <thead>\n",
       "    <tr style=\"text-align: right;\">\n",
       "      <th></th>\n",
       "      <th>categories</th>\n",
       "      <th>food_and_restaurant</th>\n",
       "    </tr>\n",
       "  </thead>\n",
       "  <tbody>\n",
       "    <tr>\n",
       "      <th>0</th>\n",
       "      <td>[Tours, Breweries, Pizza, Restaurants, Food, H...</td>\n",
       "      <td>1</td>\n",
       "    </tr>\n",
       "    <tr>\n",
       "      <th>1</th>\n",
       "      <td>[Chicken Wings, Burgers, Caterers, Street Vend...</td>\n",
       "      <td>1</td>\n",
       "    </tr>\n",
       "    <tr>\n",
       "      <th>2</th>\n",
       "      <td>[Breakfast &amp; Brunch, Restaurants, French, Sand...</td>\n",
       "      <td>1</td>\n",
       "    </tr>\n",
       "    <tr>\n",
       "      <th>3</th>\n",
       "      <td>[Insurance, Financial Services]</td>\n",
       "      <td>0</td>\n",
       "    </tr>\n",
       "    <tr>\n",
       "      <th>4</th>\n",
       "      <td>[Home &amp; Garden, Nurseries &amp; Gardening, Shoppin...</td>\n",
       "      <td>0</td>\n",
       "    </tr>\n",
       "    <tr>\n",
       "      <th>5</th>\n",
       "      <td>[Coffee &amp; Tea, Food]</td>\n",
       "      <td>1</td>\n",
       "    </tr>\n",
       "    <tr>\n",
       "      <th>6</th>\n",
       "      <td>[Food, Bakeries]</td>\n",
       "      <td>1</td>\n",
       "    </tr>\n",
       "    <tr>\n",
       "      <th>7</th>\n",
       "      <td>[Restaurants, Thai]</td>\n",
       "      <td>1</td>\n",
       "    </tr>\n",
       "    <tr>\n",
       "      <th>8</th>\n",
       "      <td>[Mexican, Restaurants]</td>\n",
       "      <td>1</td>\n",
       "    </tr>\n",
       "    <tr>\n",
       "      <th>9</th>\n",
       "      <td>[Flowers &amp; Gifts, Gift Shops, Shopping]</td>\n",
       "      <td>0</td>\n",
       "    </tr>\n",
       "  </tbody>\n",
       "</table>\n",
       "</div>"
      ],
      "text/plain": [
       "                                          categories  food_and_restaurant\n",
       "0  [Tours, Breweries, Pizza, Restaurants, Food, H...                    1\n",
       "1  [Chicken Wings, Burgers, Caterers, Street Vend...                    1\n",
       "2  [Breakfast & Brunch, Restaurants, French, Sand...                    1\n",
       "3                    [Insurance, Financial Services]                    0\n",
       "4  [Home & Garden, Nurseries & Gardening, Shoppin...                    0\n",
       "5                               [Coffee & Tea, Food]                    1\n",
       "6                                   [Food, Bakeries]                    1\n",
       "7                                [Restaurants, Thai]                    1\n",
       "8                             [Mexican, Restaurants]                    1\n",
       "9            [Flowers & Gifts, Gift Shops, Shopping]                    0"
      ]
     },
     "execution_count": 218,
     "metadata": {},
     "output_type": "execute_result"
    }
   ],
   "source": [
    "business_df[[\"categories\", \"food_and_restaurant\"]][:10]"
   ]
  },
  {
   "cell_type": "code",
   "execution_count": 219,
   "metadata": {},
   "outputs": [
    {
     "data": {
      "text/html": [
       "<div>\n",
       "<style scoped>\n",
       "    .dataframe tbody tr th:only-of-type {\n",
       "        vertical-align: middle;\n",
       "    }\n",
       "\n",
       "    .dataframe tbody tr th {\n",
       "        vertical-align: top;\n",
       "    }\n",
       "\n",
       "    .dataframe thead th {\n",
       "        text-align: right;\n",
       "    }\n",
       "</style>\n",
       "<table border=\"1\" class=\"dataframe\">\n",
       "  <thead>\n",
       "    <tr style=\"text-align: right;\">\n",
       "      <th></th>\n",
       "      <th>latitude</th>\n",
       "      <th>longitude</th>\n",
       "      <th>stars</th>\n",
       "      <th>review_count</th>\n",
       "      <th>is_open</th>\n",
       "      <th>restaurant</th>\n",
       "      <th>food</th>\n",
       "      <th>food_and_restaurant</th>\n",
       "    </tr>\n",
       "  </thead>\n",
       "  <tbody>\n",
       "    <tr>\n",
       "      <th>count</th>\n",
       "      <td>188587.000000</td>\n",
       "      <td>188587.000000</td>\n",
       "      <td>188593.000000</td>\n",
       "      <td>188593.000000</td>\n",
       "      <td>188593.000000</td>\n",
       "      <td>188593.000000</td>\n",
       "      <td>188593.000000</td>\n",
       "      <td>188593.000000</td>\n",
       "    </tr>\n",
       "    <tr>\n",
       "      <th>mean</th>\n",
       "      <td>38.506793</td>\n",
       "      <td>-97.490873</td>\n",
       "      <td>3.631550</td>\n",
       "      <td>31.797310</td>\n",
       "      <td>0.830391</td>\n",
       "      <td>0.303155</td>\n",
       "      <td>0.143791</td>\n",
       "      <td>0.385083</td>\n",
       "    </tr>\n",
       "    <tr>\n",
       "      <th>std</th>\n",
       "      <td>5.122684</td>\n",
       "      <td>17.693360</td>\n",
       "      <td>1.016783</td>\n",
       "      <td>104.124212</td>\n",
       "      <td>0.375290</td>\n",
       "      <td>0.459623</td>\n",
       "      <td>0.350879</td>\n",
       "      <td>0.486616</td>\n",
       "    </tr>\n",
       "    <tr>\n",
       "      <th>min</th>\n",
       "      <td>-71.753941</td>\n",
       "      <td>-180.000000</td>\n",
       "      <td>1.000000</td>\n",
       "      <td>3.000000</td>\n",
       "      <td>0.000000</td>\n",
       "      <td>0.000000</td>\n",
       "      <td>0.000000</td>\n",
       "      <td>0.000000</td>\n",
       "    </tr>\n",
       "    <tr>\n",
       "      <th>25%</th>\n",
       "      <td>33.630878</td>\n",
       "      <td>-112.279276</td>\n",
       "      <td>3.000000</td>\n",
       "      <td>4.000000</td>\n",
       "      <td>1.000000</td>\n",
       "      <td>0.000000</td>\n",
       "      <td>0.000000</td>\n",
       "      <td>0.000000</td>\n",
       "    </tr>\n",
       "    <tr>\n",
       "      <th>50%</th>\n",
       "      <td>36.143595</td>\n",
       "      <td>-111.777460</td>\n",
       "      <td>3.500000</td>\n",
       "      <td>9.000000</td>\n",
       "      <td>1.000000</td>\n",
       "      <td>0.000000</td>\n",
       "      <td>0.000000</td>\n",
       "      <td>0.000000</td>\n",
       "    </tr>\n",
       "    <tr>\n",
       "      <th>75%</th>\n",
       "      <td>43.593106</td>\n",
       "      <td>-79.982958</td>\n",
       "      <td>4.500000</td>\n",
       "      <td>24.000000</td>\n",
       "      <td>1.000000</td>\n",
       "      <td>1.000000</td>\n",
       "      <td>0.000000</td>\n",
       "      <td>1.000000</td>\n",
       "    </tr>\n",
       "    <tr>\n",
       "      <th>max</th>\n",
       "      <td>85.051129</td>\n",
       "      <td>115.086769</td>\n",
       "      <td>5.000000</td>\n",
       "      <td>7968.000000</td>\n",
       "      <td>1.000000</td>\n",
       "      <td>1.000000</td>\n",
       "      <td>1.000000</td>\n",
       "      <td>1.000000</td>\n",
       "    </tr>\n",
       "  </tbody>\n",
       "</table>\n",
       "</div>"
      ],
      "text/plain": [
       "            latitude      longitude          stars   review_count  \\\n",
       "count  188587.000000  188587.000000  188593.000000  188593.000000   \n",
       "mean       38.506793     -97.490873       3.631550      31.797310   \n",
       "std         5.122684      17.693360       1.016783     104.124212   \n",
       "min       -71.753941    -180.000000       1.000000       3.000000   \n",
       "25%        33.630878    -112.279276       3.000000       4.000000   \n",
       "50%        36.143595    -111.777460       3.500000       9.000000   \n",
       "75%        43.593106     -79.982958       4.500000      24.000000   \n",
       "max        85.051129     115.086769       5.000000    7968.000000   \n",
       "\n",
       "             is_open     restaurant           food  food_and_restaurant  \n",
       "count  188593.000000  188593.000000  188593.000000        188593.000000  \n",
       "mean        0.830391       0.303155       0.143791             0.385083  \n",
       "std         0.375290       0.459623       0.350879             0.486616  \n",
       "min         0.000000       0.000000       0.000000             0.000000  \n",
       "25%         1.000000       0.000000       0.000000             0.000000  \n",
       "50%         1.000000       0.000000       0.000000             0.000000  \n",
       "75%         1.000000       1.000000       0.000000             1.000000  \n",
       "max         1.000000       1.000000       1.000000             1.000000  "
      ]
     },
     "execution_count": 219,
     "metadata": {},
     "output_type": "execute_result"
    }
   ],
   "source": [
    "business_df.describe()"
   ]
  },
  {
   "cell_type": "code",
   "execution_count": 220,
   "metadata": {},
   "outputs": [],
   "source": [
    "food_restaurant_business_df = business_df[business_df.food_and_restaurant==1]"
   ]
  },
  {
   "cell_type": "code",
   "execution_count": 221,
   "metadata": {
    "scrolled": true
   },
   "outputs": [
    {
     "name": "stdout",
     "output_type": "stream",
     "text": [
      "<class 'pandas.core.frame.DataFrame'>\n",
      "Int64Index: 72624 entries, 0 to 188590\n",
      "Data columns (total 18 columns):\n",
      "business_id            72624 non-null object\n",
      "name                   72624 non-null object\n",
      "neighborhood           72624 non-null object\n",
      "address                72624 non-null object\n",
      "city                   72624 non-null object\n",
      "state                  72624 non-null object\n",
      "postal_code            72624 non-null object\n",
      "latitude               72623 non-null float64\n",
      "longitude              72624 non-null float64\n",
      "stars                  72624 non-null float64\n",
      "review_count           72624 non-null int64\n",
      "is_open                72624 non-null int64\n",
      "attributes             70671 non-null object\n",
      "categories             72624 non-null object\n",
      "hours                  54491 non-null object\n",
      "restaurant             72624 non-null int64\n",
      "food                   72624 non-null int64\n",
      "food_and_restaurant    72624 non-null int64\n",
      "dtypes: float64(3), int64(5), object(10)\n",
      "memory usage: 10.5+ MB\n"
     ]
    }
   ],
   "source": [
    "food_restaurant_business_df.info()"
   ]
  },
  {
   "cell_type": "code",
   "execution_count": 222,
   "metadata": {},
   "outputs": [
    {
     "data": {
      "text/plain": [
       "817"
      ]
     },
     "execution_count": 222,
     "metadata": {},
     "output_type": "execute_result"
    }
   ],
   "source": [
    "# Number of cities\n",
    "food_restaurant_business_df.city.nunique()"
   ]
  },
  {
   "cell_type": "code",
   "execution_count": 223,
   "metadata": {
    "scrolled": false
   },
   "outputs": [
    {
     "data": {
      "text/plain": [
       "Toronto        9674\n",
       "Las Vegas      7971\n",
       "Phoenix        4996\n",
       "MontrÃ©al      4251\n",
       "Calgary        3565\n",
       "Charlotte      3354\n",
       "Pittsburgh     3009\n",
       "Scottsdale     1954\n",
       "Cleveland      1774\n",
       "Mississauga    1678\n",
       "Mesa           1529\n",
       "Madison        1424\n",
       "Tempe          1304\n",
       "Henderson      1137\n",
       "Chandler       1102\n",
       "Markham        1018\n",
       "Glendale        892\n",
       "Gilbert         753\n",
       "Scarborough     652\n",
       "Brampton        594\n",
       "Name: city, dtype: int64"
      ]
     },
     "execution_count": 223,
     "metadata": {},
     "output_type": "execute_result"
    }
   ],
   "source": [
    "food_restaurant_business_df.city.value_counts()[:20]"
   ]
  },
  {
   "cell_type": "markdown",
   "metadata": {},
   "source": [
    "Should I filter some cities or use only one city?"
   ]
  },
  {
   "cell_type": "code",
   "execution_count": 224,
   "metadata": {
    "scrolled": true
   },
   "outputs": [
    {
     "data": {
      "text/plain": [
       "3     7334\n",
       "4     4741\n",
       "5     3848\n",
       "6     3236\n",
       "7     2796\n",
       "8     2336\n",
       "9     2082\n",
       "10    1944\n",
       "11    1734\n",
       "12    1513\n",
       "13    1455\n",
       "14    1309\n",
       "15    1256\n",
       "16    1167\n",
       "17    1042\n",
       "18     960\n",
       "19     934\n",
       "20     921\n",
       "21     791\n",
       "22     781\n",
       "Name: review_count, dtype: int64"
      ]
     },
     "execution_count": 224,
     "metadata": {},
     "output_type": "execute_result"
    }
   ],
   "source": [
    "food_restaurant_business_df.review_count.value_counts()[:20]"
   ]
  },
  {
   "cell_type": "markdown",
   "metadata": {},
   "source": [
    "Should I filter some businesses with small reviews counts?"
   ]
  },
  {
   "cell_type": "markdown",
   "metadata": {},
   "source": [
    "#### Check missing values"
   ]
  },
  {
   "cell_type": "code",
   "execution_count": 225,
   "metadata": {
    "scrolled": true
   },
   "outputs": [
    {
     "data": {
      "text/plain": [
       "business_id                0\n",
       "name                       0\n",
       "neighborhood               0\n",
       "address                    0\n",
       "city                       0\n",
       "state                      0\n",
       "postal_code                0\n",
       "latitude                   1\n",
       "longitude                  0\n",
       "stars                      0\n",
       "review_count               0\n",
       "is_open                    0\n",
       "attributes              1953\n",
       "categories                 0\n",
       "hours                  18133\n",
       "restaurant                 0\n",
       "food                       0\n",
       "food_and_restaurant        0\n",
       "dtype: int64"
      ]
     },
     "execution_count": 225,
     "metadata": {},
     "output_type": "execute_result"
    }
   ],
   "source": [
    "# Count missing values\n",
    "food_restaurant_business_df.isna().sum()"
   ]
  },
  {
   "cell_type": "markdown",
   "metadata": {},
   "source": [
    "As mentioned ealier, some of columns with 0 above can also have missing values, so I will check each column carefully. First, I will check the data type of each column."
   ]
  },
  {
   "cell_type": "code",
   "execution_count": 234,
   "metadata": {},
   "outputs": [
    {
     "name": "stdout",
     "output_type": "stream",
     "text": [
      "business_id <class 'str'>\n",
      "name <class 'str'>\n",
      "neighborhood <class 'str'>\n",
      "address <class 'str'>\n",
      "city <class 'str'>\n",
      "state <class 'str'>\n",
      "postal_code <class 'str'>\n",
      "latitude <class 'numpy.float64'>\n",
      "longitude <class 'numpy.float64'>\n",
      "stars <class 'numpy.float64'>\n",
      "review_count <class 'numpy.int64'>\n",
      "is_open <class 'numpy.int64'>\n",
      "attributes <class 'dict'>\n",
      "categories <class 'list'>\n",
      "hours <class 'dict'>\n",
      "restaurant <class 'numpy.int64'>\n",
      "food <class 'numpy.int64'>\n",
      "food_and_restaurant <class 'numpy.int64'>\n"
     ]
    }
   ],
   "source": [
    "# check column types\n",
    "for col in food_restaurant_business_df.columns:\n",
    "    print(col, type(food_restaurant_business_df[col][0]))"
   ]
  },
  {
   "cell_type": "markdown",
   "metadata": {},
   "source": [
    "There are string, numeric (float and integer), list, and dictionary type. If columns are numeric, missing values can be caught by isna() (as above) or by checking ranges. Sometimes zeros or weired values represent missing values."
   ]
  },
  {
   "cell_type": "markdown",
   "metadata": {},
   "source": [
    "##### Numeric columns"
   ]
  },
  {
   "cell_type": "code",
   "execution_count": 237,
   "metadata": {},
   "outputs": [
    {
     "data": {
      "text/html": [
       "<div>\n",
       "<style scoped>\n",
       "    .dataframe tbody tr th:only-of-type {\n",
       "        vertical-align: middle;\n",
       "    }\n",
       "\n",
       "    .dataframe tbody tr th {\n",
       "        vertical-align: top;\n",
       "    }\n",
       "\n",
       "    .dataframe thead th {\n",
       "        text-align: right;\n",
       "    }\n",
       "</style>\n",
       "<table border=\"1\" class=\"dataframe\">\n",
       "  <thead>\n",
       "    <tr style=\"text-align: right;\">\n",
       "      <th></th>\n",
       "      <th>latitude</th>\n",
       "      <th>longitude</th>\n",
       "      <th>stars</th>\n",
       "      <th>review_count</th>\n",
       "      <th>is_open</th>\n",
       "      <th>restaurant</th>\n",
       "      <th>food</th>\n",
       "      <th>food_and_restaurant</th>\n",
       "    </tr>\n",
       "  </thead>\n",
       "  <tbody>\n",
       "    <tr>\n",
       "      <th>count</th>\n",
       "      <td>72623.000000</td>\n",
       "      <td>72624.000000</td>\n",
       "      <td>72624.000000</td>\n",
       "      <td>72624.000000</td>\n",
       "      <td>72624.000000</td>\n",
       "      <td>72624.000000</td>\n",
       "      <td>72624.000000</td>\n",
       "      <td>72624.0</td>\n",
       "    </tr>\n",
       "    <tr>\n",
       "      <th>mean</th>\n",
       "      <td>40.035622</td>\n",
       "      <td>-92.265142</td>\n",
       "      <td>3.492034</td>\n",
       "      <td>55.323571</td>\n",
       "      <td>0.740348</td>\n",
       "      <td>0.787247</td>\n",
       "      <td>0.373403</td>\n",
       "      <td>1.0</td>\n",
       "    </tr>\n",
       "    <tr>\n",
       "      <th>std</th>\n",
       "      <td>5.361185</td>\n",
       "      <td>18.114046</td>\n",
       "      <td>0.825614</td>\n",
       "      <td>146.925646</td>\n",
       "      <td>0.438447</td>\n",
       "      <td>0.409257</td>\n",
       "      <td>0.483711</td>\n",
       "      <td>0.0</td>\n",
       "    </tr>\n",
       "    <tr>\n",
       "      <th>min</th>\n",
       "      <td>-71.753941</td>\n",
       "      <td>-123.587426</td>\n",
       "      <td>1.000000</td>\n",
       "      <td>3.000000</td>\n",
       "      <td>0.000000</td>\n",
       "      <td>0.000000</td>\n",
       "      <td>0.000000</td>\n",
       "      <td>1.0</td>\n",
       "    </tr>\n",
       "    <tr>\n",
       "      <th>25%</th>\n",
       "      <td>35.233345</td>\n",
       "      <td>-112.072092</td>\n",
       "      <td>3.000000</td>\n",
       "      <td>6.000000</td>\n",
       "      <td>0.000000</td>\n",
       "      <td>1.000000</td>\n",
       "      <td>0.000000</td>\n",
       "      <td>1.0</td>\n",
       "    </tr>\n",
       "    <tr>\n",
       "      <th>50%</th>\n",
       "      <td>41.154740</td>\n",
       "      <td>-81.437532</td>\n",
       "      <td>3.500000</td>\n",
       "      <td>16.000000</td>\n",
       "      <td>1.000000</td>\n",
       "      <td>1.000000</td>\n",
       "      <td>0.000000</td>\n",
       "      <td>1.0</td>\n",
       "    </tr>\n",
       "    <tr>\n",
       "      <th>75%</th>\n",
       "      <td>43.700188</td>\n",
       "      <td>-79.432284</td>\n",
       "      <td>4.000000</td>\n",
       "      <td>49.000000</td>\n",
       "      <td>1.000000</td>\n",
       "      <td>1.000000</td>\n",
       "      <td>1.000000</td>\n",
       "      <td>1.0</td>\n",
       "    </tr>\n",
       "    <tr>\n",
       "      <th>max</th>\n",
       "      <td>59.438181</td>\n",
       "      <td>115.086769</td>\n",
       "      <td>5.000000</td>\n",
       "      <td>7968.000000</td>\n",
       "      <td>1.000000</td>\n",
       "      <td>1.000000</td>\n",
       "      <td>1.000000</td>\n",
       "      <td>1.0</td>\n",
       "    </tr>\n",
       "  </tbody>\n",
       "</table>\n",
       "</div>"
      ],
      "text/plain": [
       "           latitude     longitude         stars  review_count       is_open  \\\n",
       "count  72623.000000  72624.000000  72624.000000  72624.000000  72624.000000   \n",
       "mean      40.035622    -92.265142      3.492034     55.323571      0.740348   \n",
       "std        5.361185     18.114046      0.825614    146.925646      0.438447   \n",
       "min      -71.753941   -123.587426      1.000000      3.000000      0.000000   \n",
       "25%       35.233345   -112.072092      3.000000      6.000000      0.000000   \n",
       "50%       41.154740    -81.437532      3.500000     16.000000      1.000000   \n",
       "75%       43.700188    -79.432284      4.000000     49.000000      1.000000   \n",
       "max       59.438181    115.086769      5.000000   7968.000000      1.000000   \n",
       "\n",
       "         restaurant          food  food_and_restaurant  \n",
       "count  72624.000000  72624.000000              72624.0  \n",
       "mean       0.787247      0.373403                  1.0  \n",
       "std        0.409257      0.483711                  0.0  \n",
       "min        0.000000      0.000000                  1.0  \n",
       "25%        1.000000      0.000000                  1.0  \n",
       "50%        1.000000      0.000000                  1.0  \n",
       "75%        1.000000      1.000000                  1.0  \n",
       "max        1.000000      1.000000                  1.0  "
      ]
     },
     "execution_count": 237,
     "metadata": {},
     "output_type": "execute_result"
    }
   ],
   "source": [
    "# check ranges of numeric columns for missing values\n",
    "food_restaurant_business_df.describe()"
   ]
  },
  {
   "cell_type": "code",
   "execution_count": 241,
   "metadata": {},
   "outputs": [
    {
     "data": {
      "image/png": "[encoded data removed]",
      "text/plain": [
       "<Figure size 720x576 with 9 Axes>"
      ]
     },
     "metadata": {},
     "output_type": "display_data"
    }
   ],
   "source": [
    "import matplotlib.pyplot as plt\n",
    "food_restaurant_business_df.hist(bins=20, figsize=(10,8))\n",
    "plt.show()"
   ]
  },
  {
   "cell_type": "code",
   "execution_count": 354,
   "metadata": {
    "scrolled": true
   },
   "outputs": [
    {
     "data": {
      "image/png": "[encoded data removed]",
      "text/plain": [
       "<Figure size 432x288 with 1 Axes>"
      ]
     },
     "metadata": {},
     "output_type": "display_data"
    }
   ],
   "source": [
    "food_restaurant_business_df.review_count.hist(bins=50)\n",
    "plt.yscale('log')\n",
    "plt.title('Histogram of business review count')\n",
    "plt.ylabel('frequency')\n",
    "plt.xlabel('review_count')\n",
    "plt.show()"
   ]
  },
  {
   "cell_type": "markdown",
   "metadata": {},
   "source": [
    "It loos like these numeric columns except for reivew_count have values in normal range and do not show any suspicious values or outliers. The column 'review_count' is very interesting and has some extremely high values, but it will be more closely investigated in EDA."
   ]
  },
  {
   "cell_type": "markdown",
   "metadata": {},
   "source": [
    "Note that the earlier list created by isna() showed there is one missing value in latitude. "
   ]
  },
  {
   "cell_type": "code",
   "execution_count": 249,
   "metadata": {},
   "outputs": [
    {
     "data": {
      "text/html": [
       "<div>\n",
       "<style scoped>\n",
       "    .dataframe tbody tr th:only-of-type {\n",
       "        vertical-align: middle;\n",
       "    }\n",
       "\n",
       "    .dataframe tbody tr th {\n",
       "        vertical-align: top;\n",
       "    }\n",
       "\n",
       "    .dataframe thead th {\n",
       "        text-align: right;\n",
       "    }\n",
       "</style>\n",
       "<table border=\"1\" class=\"dataframe\">\n",
       "  <thead>\n",
       "    <tr style=\"text-align: right;\">\n",
       "      <th></th>\n",
       "      <th>business_id</th>\n",
       "      <th>name</th>\n",
       "      <th>neighborhood</th>\n",
       "      <th>address</th>\n",
       "      <th>city</th>\n",
       "      <th>state</th>\n",
       "      <th>postal_code</th>\n",
       "      <th>latitude</th>\n",
       "      <th>longitude</th>\n",
       "      <th>stars</th>\n",
       "      <th>review_count</th>\n",
       "      <th>is_open</th>\n",
       "      <th>attributes</th>\n",
       "      <th>categories</th>\n",
       "      <th>hours</th>\n",
       "      <th>restaurant</th>\n",
       "      <th>food</th>\n",
       "      <th>food_and_restaurant</th>\n",
       "    </tr>\n",
       "  </thead>\n",
       "  <tbody>\n",
       "    <tr>\n",
       "      <th>155342</th>\n",
       "      <td>33Ryoh0OVhopQ4zv_ITppw</td>\n",
       "      <td>7-Eleven</td>\n",
       "      <td></td>\n",
       "      <td>2202 Paradise Rd</td>\n",
       "      <td>Las Vegas</td>\n",
       "      <td>NV</td>\n",
       "      <td>89104</td>\n",
       "      <td>NaN</td>\n",
       "      <td>-115.154606</td>\n",
       "      <td>3.0</td>\n",
       "      <td>3</td>\n",
       "      <td>1</td>\n",
       "      <td>{'BikeParking': 'True', 'BusinessAcceptsCredit...</td>\n",
       "      <td>[Food, Convenience Stores, Coffee &amp; Tea]</td>\n",
       "      <td>{'Monday': '0:0-0:0', 'Tuesday': '0:0-0:0', 'W...</td>\n",
       "      <td>0</td>\n",
       "      <td>1</td>\n",
       "      <td>1</td>\n",
       "    </tr>\n",
       "  </tbody>\n",
       "</table>\n",
       "</div>"
      ],
      "text/plain": [
       "                   business_id      name neighborhood           address  \\\n",
       "155342  33Ryoh0OVhopQ4zv_ITppw  7-Eleven               2202 Paradise Rd   \n",
       "\n",
       "             city state postal_code  latitude   longitude  stars  \\\n",
       "155342  Las Vegas    NV       89104       NaN -115.154606    3.0   \n",
       "\n",
       "        review_count  is_open  \\\n",
       "155342             3        1   \n",
       "\n",
       "                                               attributes  \\\n",
       "155342  {'BikeParking': 'True', 'BusinessAcceptsCredit...   \n",
       "\n",
       "                                      categories  \\\n",
       "155342  [Food, Convenience Stores, Coffee & Tea]   \n",
       "\n",
       "                                                    hours  restaurant  food  \\\n",
       "155342  {'Monday': '0:0-0:0', 'Tuesday': '0:0-0:0', 'W...           0     1   \n",
       "\n",
       "        food_and_restaurant  \n",
       "155342                    1  "
      ]
     },
     "execution_count": 249,
     "metadata": {},
     "output_type": "execute_result"
    }
   ],
   "source": [
    "# Missing latitude\n",
    "food_restaurant_business_df[food_restaurant_business_df.latitude.isna()]"
   ]
  },
  {
   "cell_type": "markdown",
   "metadata": {},
   "source": [
    "I found this 7-eleven has latitude 36.144889 in the Google map."
   ]
  },
  {
   "cell_type": "code",
   "execution_count": 250,
   "metadata": {},
   "outputs": [],
   "source": [
    "food_restaurant_business_df.at[155342,'latitude'] = 36.144889"
   ]
  },
  {
   "cell_type": "code",
   "execution_count": 251,
   "metadata": {},
   "outputs": [
    {
     "data": {
      "text/plain": [
       "36.144889"
      ]
     },
     "execution_count": 251,
     "metadata": {},
     "output_type": "execute_result"
    }
   ],
   "source": [
    "food_restaurant_business_df.loc[155342,'latitude']"
   ]
  },
  {
   "cell_type": "markdown",
   "metadata": {},
   "source": [
    "##### String columns"
   ]
  },
  {
   "cell_type": "markdown",
   "metadata": {},
   "source": [
    "Now I will take care of string type columns for missing values."
   ]
  },
  {
   "cell_type": "code",
   "execution_count": 252,
   "metadata": {},
   "outputs": [
    {
     "name": "stdout",
     "output_type": "stream",
     "text": [
      "\n",
      " string columns: ['business_id', 'name', 'neighborhood', 'address', 'city', 'state', 'postal_code']\n"
     ]
    }
   ],
   "source": [
    "# find string columns\n",
    "str_columns =[]\n",
    "for col in food_restaurant_business_df.columns:\n",
    "    if isinstance(food_restaurant_business_df[col][0],str):\n",
    "        str_columns.append(col)\n",
    "        \n",
    "print(\"\\n string columns:\", str_columns)"
   ]
  },
  {
   "cell_type": "code",
   "execution_count": 258,
   "metadata": {},
   "outputs": [
    {
     "name": "stdout",
     "output_type": "stream",
     "text": [
      "business_id 0\n",
      "name 0\n",
      "neighborhood 42071\n",
      "address 789\n",
      "city 3\n",
      "state 0\n",
      "postal_code 223\n"
     ]
    }
   ],
   "source": [
    "# count empty strings\n",
    "for col in str_columns:\n",
    "    print(col, sum([1 for x in food_restaurant_business_df[col] if (x=='')]))"
   ]
  },
  {
   "cell_type": "markdown",
   "metadata": {},
   "source": [
    "Wow, there are many missing values! 'neighborhood' column has too many missing values, so I will drop the column. 'address' and 'postal_code' will not be used in my analysis, so I will also drop the columns. Now let's check which city values are missing."
   ]
  },
  {
   "cell_type": "code",
   "execution_count": 259,
   "metadata": {},
   "outputs": [
    {
     "data": {
      "text/html": [
       "<div>\n",
       "<style scoped>\n",
       "    .dataframe tbody tr th:only-of-type {\n",
       "        vertical-align: middle;\n",
       "    }\n",
       "\n",
       "    .dataframe tbody tr th {\n",
       "        vertical-align: top;\n",
       "    }\n",
       "\n",
       "    .dataframe thead th {\n",
       "        text-align: right;\n",
       "    }\n",
       "</style>\n",
       "<table border=\"1\" class=\"dataframe\">\n",
       "  <thead>\n",
       "    <tr style=\"text-align: right;\">\n",
       "      <th></th>\n",
       "      <th>business_id</th>\n",
       "      <th>name</th>\n",
       "      <th>neighborhood</th>\n",
       "      <th>address</th>\n",
       "      <th>city</th>\n",
       "      <th>state</th>\n",
       "      <th>postal_code</th>\n",
       "      <th>latitude</th>\n",
       "      <th>longitude</th>\n",
       "      <th>stars</th>\n",
       "      <th>review_count</th>\n",
       "      <th>is_open</th>\n",
       "      <th>attributes</th>\n",
       "      <th>categories</th>\n",
       "      <th>hours</th>\n",
       "      <th>restaurant</th>\n",
       "      <th>food</th>\n",
       "      <th>food_and_restaurant</th>\n",
       "    </tr>\n",
       "  </thead>\n",
       "  <tbody>\n",
       "    <tr>\n",
       "      <th>41372</th>\n",
       "      <td>c5zlRPjGoJsvZtIpKDIs8Q</td>\n",
       "      <td>Boojum</td>\n",
       "      <td></td>\n",
       "      <td>5 Quay Lane</td>\n",
       "      <td></td>\n",
       "      <td>G</td>\n",
       "      <td></td>\n",
       "      <td>53.270268</td>\n",
       "      <td>-9.053923</td>\n",
       "      <td>4.5</td>\n",
       "      <td>11</td>\n",
       "      <td>1</td>\n",
       "      <td>{'Ambience': '{'romantic': False, 'intimate': ...</td>\n",
       "      <td>[Mexican, Restaurants]</td>\n",
       "      <td>None</td>\n",
       "      <td>1</td>\n",
       "      <td>0</td>\n",
       "      <td>1</td>\n",
       "    </tr>\n",
       "    <tr>\n",
       "      <th>111036</th>\n",
       "      <td>uM-zXJpjD9SIB2dnRP1Hsg</td>\n",
       "      <td>Char-Grill</td>\n",
       "      <td></td>\n",
       "      <td>1800 John Brantley Blvd</td>\n",
       "      <td></td>\n",
       "      <td>NC</td>\n",
       "      <td>27623</td>\n",
       "      <td>35.873847</td>\n",
       "      <td>-78.790256</td>\n",
       "      <td>2.5</td>\n",
       "      <td>21</td>\n",
       "      <td>1</td>\n",
       "      <td>{'Alcohol': 'none', 'Ambience': '{'romantic': ...</td>\n",
       "      <td>[Burgers, American (Traditional), Restaurants]</td>\n",
       "      <td>{'Monday': '5:0-20:0', 'Tuesday': '5:0-20:0', ...</td>\n",
       "      <td>1</td>\n",
       "      <td>0</td>\n",
       "      <td>1</td>\n",
       "    </tr>\n",
       "    <tr>\n",
       "      <th>125792</th>\n",
       "      <td>6hQFxiTVleaEwheMrad76A</td>\n",
       "      <td>Corrib Tea Room</td>\n",
       "      <td></td>\n",
       "      <td>No 3 Waterside, Woodquay</td>\n",
       "      <td></td>\n",
       "      <td>G</td>\n",
       "      <td></td>\n",
       "      <td>53.276381</td>\n",
       "      <td>-9.054807</td>\n",
       "      <td>5.0</td>\n",
       "      <td>5</td>\n",
       "      <td>1</td>\n",
       "      <td>{'BikeParking': 'False', 'BusinessParking': '{...</td>\n",
       "      <td>[Coffee &amp; Tea, Food, Guest Houses, Hotels &amp; Tr...</td>\n",
       "      <td>None</td>\n",
       "      <td>0</td>\n",
       "      <td>1</td>\n",
       "      <td>1</td>\n",
       "    </tr>\n",
       "  </tbody>\n",
       "</table>\n",
       "</div>"
      ],
      "text/plain": [
       "                   business_id             name neighborhood  \\\n",
       "41372   c5zlRPjGoJsvZtIpKDIs8Q           Boojum                \n",
       "111036  uM-zXJpjD9SIB2dnRP1Hsg       Char-Grill                \n",
       "125792  6hQFxiTVleaEwheMrad76A  Corrib Tea Room                \n",
       "\n",
       "                         address city state postal_code   latitude  longitude  \\\n",
       "41372                5 Quay Lane          G              53.270268  -9.053923   \n",
       "111036   1800 John Brantley Blvd         NC       27623  35.873847 -78.790256   \n",
       "125792  No 3 Waterside, Woodquay          G              53.276381  -9.054807   \n",
       "\n",
       "        stars  review_count  is_open  \\\n",
       "41372     4.5            11        1   \n",
       "111036    2.5            21        1   \n",
       "125792    5.0             5        1   \n",
       "\n",
       "                                               attributes  \\\n",
       "41372   {'Ambience': '{'romantic': False, 'intimate': ...   \n",
       "111036  {'Alcohol': 'none', 'Ambience': '{'romantic': ...   \n",
       "125792  {'BikeParking': 'False', 'BusinessParking': '{...   \n",
       "\n",
       "                                               categories  \\\n",
       "41372                              [Mexican, Restaurants]   \n",
       "111036     [Burgers, American (Traditional), Restaurants]   \n",
       "125792  [Coffee & Tea, Food, Guest Houses, Hotels & Tr...   \n",
       "\n",
       "                                                    hours  restaurant  food  \\\n",
       "41372                                                None           1     0   \n",
       "111036  {'Monday': '5:0-20:0', 'Tuesday': '5:0-20:0', ...           1     0   \n",
       "125792                                               None           0     1   \n",
       "\n",
       "        food_and_restaurant  \n",
       "41372                     1  \n",
       "111036                    1  \n",
       "125792                    1  "
      ]
     },
     "execution_count": 259,
     "metadata": {},
     "output_type": "execute_result"
    }
   ],
   "source": [
    "# Missing cities\n",
    "food_restaurant_business_df[food_restaurant_business_df.city =='']"
   ]
  },
  {
   "cell_type": "code",
   "execution_count": 260,
   "metadata": {},
   "outputs": [
    {
     "data": {
      "text/plain": [
       "'Galway'"
      ]
     },
     "execution_count": 260,
     "metadata": {},
     "output_type": "execute_result"
    }
   ],
   "source": [
    "food_restaurant_business_df.at[41372,'city'] = 'Galway'\n",
    "food_restaurant_business_df.loc[41372,'city']"
   ]
  },
  {
   "cell_type": "code",
   "execution_count": 261,
   "metadata": {},
   "outputs": [
    {
     "data": {
      "text/plain": [
       "'Morrisville'"
      ]
     },
     "execution_count": 261,
     "metadata": {},
     "output_type": "execute_result"
    }
   ],
   "source": [
    "food_restaurant_business_df.at[111036,'city'] = 'Morrisville'\n",
    "food_restaurant_business_df.loc[111036,'city']"
   ]
  },
  {
   "cell_type": "code",
   "execution_count": 262,
   "metadata": {
    "scrolled": true
   },
   "outputs": [
    {
     "data": {
      "text/plain": [
       "'Galway'"
      ]
     },
     "execution_count": 262,
     "metadata": {},
     "output_type": "execute_result"
    }
   ],
   "source": [
    "food_restaurant_business_df.at[125792,'city'] = 'Galway'\n",
    "food_restaurant_business_df.loc[125792,'city']"
   ]
  },
  {
   "cell_type": "code",
   "execution_count": 263,
   "metadata": {
    "scrolled": true
   },
   "outputs": [
    {
     "data": {
      "text/plain": [
       "41372          Galway\n",
       "111036    Morrisville\n",
       "125792         Galway\n",
       "Name: city, dtype: object"
      ]
     },
     "execution_count": 263,
     "metadata": {},
     "output_type": "execute_result"
    }
   ],
   "source": [
    "food_restaurant_business_df.loc[[41372,111036,125792],'city']"
   ]
  },
  {
   "cell_type": "markdown",
   "metadata": {},
   "source": [
    "There is no more missing value left in string columns"
   ]
  },
  {
   "cell_type": "markdown",
   "metadata": {},
   "source": [
    "##### List columns"
   ]
  },
  {
   "cell_type": "code",
   "execution_count": 295,
   "metadata": {},
   "outputs": [
    {
     "data": {
      "text/plain": [
       "0"
      ]
     },
     "execution_count": 295,
     "metadata": {},
     "output_type": "execute_result"
    }
   ],
   "source": [
    "sum(food_restaurant_business_df.categories.isna())"
   ]
  },
  {
   "cell_type": "code",
   "execution_count": 297,
   "metadata": {},
   "outputs": [
    {
     "data": {
      "text/plain": [
       "0"
      ]
     },
     "execution_count": 297,
     "metadata": {},
     "output_type": "execute_result"
    }
   ],
   "source": [
    "# count empty list\n",
    "sum([1 for x in food_restaurant_business_df.categories if x==[]])"
   ]
  },
  {
   "cell_type": "code",
   "execution_count": 299,
   "metadata": {
    "scrolled": true
   },
   "outputs": [
    {
     "data": {
      "text/plain": [
       "2     22800\n",
       "3     13628\n",
       "4     13106\n",
       "5      9170\n",
       "6      5853\n",
       "7      3549\n",
       "8      1889\n",
       "9      1104\n",
       "10      527\n",
       "1       366\n",
       "11      283\n",
       "12      163\n",
       "13       83\n",
       "14       47\n",
       "15       30\n",
       "16       10\n",
       "17        6\n",
       "18        4\n",
       "22        2\n",
       "24        1\n",
       "19        1\n",
       "20        1\n",
       "37        1\n",
       "Name: categories, dtype: int64"
      ]
     },
     "execution_count": 299,
     "metadata": {},
     "output_type": "execute_result"
    }
   ],
   "source": [
    "food_restaurant_business_df.categories.apply(lambda x: len(x)).value_counts()"
   ]
  },
  {
   "cell_type": "markdown",
   "metadata": {},
   "source": [
    "There are some lists with 1 value inside. If they are not missing values, they have to be the top categories, 'Food' or 'Restaurants'. I will check it."
   ]
  },
  {
   "cell_type": "code",
   "execution_count": 308,
   "metadata": {},
   "outputs": [
    {
     "data": {
      "text/plain": [
       "72624"
      ]
     },
     "execution_count": 308,
     "metadata": {},
     "output_type": "execute_result"
    }
   ],
   "source": [
    "sum(food_restaurant_business_df.categories.apply(lambda x: (x[0]=='Food')|(x[0]=='Restaurants') if len(x)==1 else True))"
   ]
  },
  {
   "cell_type": "markdown",
   "metadata": {},
   "source": [
    "There are no missing values in categories!!"
   ]
  },
  {
   "cell_type": "markdown",
   "metadata": {},
   "source": [
    "##### Dictionary columns"
   ]
  },
  {
   "cell_type": "markdown",
   "metadata": {},
   "source": [
    "The only columns with missing values left are 'attributes' and 'hours' which have dictionaries. I will not use hours in my analysis, so now the 'attributes' column is only needed to be investigated."
   ]
  },
  {
   "cell_type": "code",
   "execution_count": 264,
   "metadata": {
    "scrolled": true
   },
   "outputs": [
    {
     "data": {
      "text/plain": [
       "1953"
      ]
     },
     "execution_count": 264,
     "metadata": {},
     "output_type": "execute_result"
    }
   ],
   "source": [
    "# Missing values in 'attributes' column\n",
    "food_restaurant_business_df.attributes.isna().sum()"
   ]
  },
  {
   "cell_type": "markdown",
   "metadata": {},
   "source": [
    "Let's look into the column more closely."
   ]
  },
  {
   "cell_type": "code",
   "execution_count": 265,
   "metadata": {
    "scrolled": true
   },
   "outputs": [
    {
     "data": {
      "text/plain": [
       "{'BikeParking',\n",
       " 'BusinessAcceptsCreditCards',\n",
       " 'BusinessParking',\n",
       " 'GoodForKids',\n",
       " 'HasTV',\n",
       " 'NoiseLevel',\n",
       " 'OutdoorSeating',\n",
       " 'RestaurantsAttire',\n",
       " 'RestaurantsDelivery',\n",
       " 'RestaurantsGoodForGroups',\n",
       " 'RestaurantsPriceRange2',\n",
       " 'RestaurantsReservations',\n",
       " 'RestaurantsTakeOut'}"
      ]
     },
     "execution_count": 265,
     "metadata": {},
     "output_type": "execute_result"
    }
   ],
   "source": [
    "# check the attribute keys in the first row\n",
    "food_restaurant_business_df.attributes.apply(lambda x: set(x.keys()) if x else None)[0]"
   ]
  },
  {
   "cell_type": "code",
   "execution_count": 266,
   "metadata": {},
   "outputs": [],
   "source": [
    "# Make a set of business attributes \n",
    "business_attributes =set()\n",
    "\n",
    "for attributes in business_df.attributes:\n",
    "    if attributes:\n",
    "        business_attributes.update(set(attributes.keys()))"
   ]
  },
  {
   "cell_type": "code",
   "execution_count": 267,
   "metadata": {
    "scrolled": true
   },
   "outputs": [
    {
     "name": "stdout",
     "output_type": "stream",
     "text": [
      "{'DogsAllowed', 'RestaurantsPriceRange2', 'RestaurantsReservations', 'RestaurantsDelivery', 'GoodForMeal', 'RestaurantsAttire', 'RestaurantsGoodForGroups', 'HairSpecializesIn', 'BusinessAcceptsCreditCards', 'BusinessAcceptsBitcoin', 'BYOB', 'BYOBCorkage', 'Alcohol', 'AgesAllowed', 'DietaryRestrictions', 'Caters', 'Ambience', 'BikeParking', 'ByAppointmentOnly', 'WiFi', 'AcceptsInsurance', 'Smoking', 'BestNights', 'CoatCheck', 'Corkage', 'HappyHour', 'GoodForKids', 'OutdoorSeating', 'WheelchairAccessible', 'Music', 'HasTV', 'Open24Hours', 'RestaurantsTakeOut', 'RestaurantsCounterService', 'NoiseLevel', 'RestaurantsTableService', 'BusinessParking', 'GoodForDancing', 'DriveThru'}\n"
     ]
    }
   ],
   "source": [
    "print(business_attributes)"
   ]
  },
  {
   "cell_type": "code",
   "execution_count": 268,
   "metadata": {
    "scrolled": true
   },
   "outputs": [
    {
     "data": {
      "text/plain": [
       "39"
      ]
     },
     "execution_count": 268,
     "metadata": {},
     "output_type": "execute_result"
    }
   ],
   "source": [
    "len(business_attributes)"
   ]
  },
  {
   "cell_type": "markdown",
   "metadata": {},
   "source": [
    "The 'attributes' column has dictionaries and each row can have different dictionary keys. The above number shows the number of possible business attributes. These can be useful information for a restaurant recommender. Thus, I will make each attribute into a column in the dataframe."
   ]
  },
  {
   "cell_type": "code",
   "execution_count": 269,
   "metadata": {},
   "outputs": [],
   "source": [
    "food_restaurant_business_df = pd.concat([food_restaurant_business_df, \n",
    "                                        food_restaurant_business_df['attributes'].apply(pd.Series)], \n",
    "                                        axis=1)"
   ]
  },
  {
   "cell_type": "code",
   "execution_count": 270,
   "metadata": {
    "scrolled": false
   },
   "outputs": [
    {
     "name": "stdout",
     "output_type": "stream",
     "text": [
      "<class 'pandas.core.frame.DataFrame'>\n",
      "Int64Index: 72624 entries, 0 to 188590\n",
      "Data columns (total 57 columns):\n",
      "business_id                   72624 non-null object\n",
      "name                          72624 non-null object\n",
      "neighborhood                  72624 non-null object\n",
      "address                       72624 non-null object\n",
      "city                          72624 non-null object\n",
      "state                         72624 non-null object\n",
      "postal_code                   72624 non-null object\n",
      "latitude                      72624 non-null float64\n",
      "longitude                     72624 non-null float64\n",
      "stars                         72624 non-null float64\n",
      "review_count                  72624 non-null int64\n",
      "is_open                       72624 non-null int64\n",
      "attributes                    70671 non-null object\n",
      "categories                    72624 non-null object\n",
      "hours                         54491 non-null object\n",
      "restaurant                    72624 non-null int64\n",
      "food                          72624 non-null int64\n",
      "food_and_restaurant           72624 non-null int64\n",
      "AcceptsInsurance              113 non-null object\n",
      "AgesAllowed                   74 non-null object\n",
      "Alcohol                       44778 non-null object\n",
      "Ambience                      44721 non-null object\n",
      "BYOB                          910 non-null object\n",
      "BYOBCorkage                   1409 non-null object\n",
      "BestNights                    4598 non-null object\n",
      "BikeParking                   49517 non-null object\n",
      "BusinessAcceptsBitcoin        3889 non-null object\n",
      "BusinessAcceptsCreditCards    61979 non-null object\n",
      "BusinessParking               60412 non-null object\n",
      "ByAppointmentOnly             1471 non-null object\n",
      "Caters                        40023 non-null object\n",
      "CoatCheck                     5815 non-null object\n",
      "Corkage                       657 non-null object\n",
      "DietaryRestrictions           138 non-null object\n",
      "DogsAllowed                   8463 non-null object\n",
      "DriveThru                     6754 non-null object\n",
      "GoodForDancing                6345 non-null object\n",
      "GoodForKids                   50162 non-null object\n",
      "GoodForMeal                   47464 non-null object\n",
      "HairSpecializesIn             8 non-null object\n",
      "HappyHour                     6401 non-null object\n",
      "HasTV                         44636 non-null object\n",
      "Music                         5946 non-null object\n",
      "NoiseLevel                    41134 non-null object\n",
      "Open24Hours                   281 non-null object\n",
      "OutdoorSeating                51016 non-null object\n",
      "RestaurantsAttire             48166 non-null object\n",
      "RestaurantsCounterService     397 non-null object\n",
      "RestaurantsDelivery           51013 non-null object\n",
      "RestaurantsGoodForGroups      50542 non-null object\n",
      "RestaurantsPriceRange2        65295 non-null object\n",
      "RestaurantsReservations       49757 non-null object\n",
      "RestaurantsTableService       43315 non-null object\n",
      "RestaurantsTakeOut            61176 non-null object\n",
      "Smoking                       5482 non-null object\n",
      "WheelchairAccessible          29178 non-null object\n",
      "WiFi                          44714 non-null object\n",
      "dtypes: float64(3), int64(5), object(49)\n",
      "memory usage: 34.6+ MB\n"
     ]
    }
   ],
   "source": [
    "food_restaurant_business_df.info()"
   ]
  },
  {
   "cell_type": "markdown",
   "metadata": {},
   "source": [
    "Now 39 business attributes are added, so the number of columns is now 57. There are many missing values in the newly created attribute columns."
   ]
  },
  {
   "cell_type": "code",
   "execution_count": 271,
   "metadata": {},
   "outputs": [],
   "source": [
    "# count missing values\n",
    "#food_restaurant_business_df.isna().sum()"
   ]
  },
  {
   "cell_type": "code",
   "execution_count": 272,
   "metadata": {},
   "outputs": [],
   "source": [
    "def columns_with_NAs(df, threshold):\n",
    "    '''\n",
    "    Return columns with missing value rates more than threshold\n",
    "    print those columns with missing value rates\n",
    "    '''\n",
    "    na_percents = df.isna().sum()/len(df)\n",
    "    columns_many_NAs = na_percents[na_percents > threshold]\n",
    "    print(columns_many_NAs)\n",
    "    return list(columns_many_NAs.keys())"
   ]
  },
  {
   "cell_type": "code",
   "execution_count": 273,
   "metadata": {},
   "outputs": [
    {
     "name": "stdout",
     "output_type": "stream",
     "text": [
      "hours                        0.249683\n",
      "AcceptsInsurance             0.998444\n",
      "AgesAllowed                  0.998981\n",
      "Alcohol                      0.383427\n",
      "Ambience                     0.384212\n",
      "BYOB                         0.987470\n",
      "BYOBCorkage                  0.980599\n",
      "BestNights                   0.936688\n",
      "BikeParking                  0.318173\n",
      "BusinessAcceptsBitcoin       0.946450\n",
      "ByAppointmentOnly            0.979745\n",
      "Caters                       0.448901\n",
      "CoatCheck                    0.919930\n",
      "Corkage                      0.990953\n",
      "DietaryRestrictions          0.998100\n",
      "DogsAllowed                  0.883468\n",
      "DriveThru                    0.907000\n",
      "GoodForDancing               0.912632\n",
      "GoodForKids                  0.309292\n",
      "GoodForMeal                  0.346442\n",
      "HairSpecializesIn            0.999890\n",
      "HappyHour                    0.911861\n",
      "HasTV                        0.385382\n",
      "Music                        0.918126\n",
      "NoiseLevel                   0.433603\n",
      "Open24Hours                  0.996131\n",
      "OutdoorSeating               0.297532\n",
      "RestaurantsAttire            0.336776\n",
      "RestaurantsCounterService    0.994533\n",
      "RestaurantsDelivery          0.297574\n",
      "RestaurantsGoodForGroups     0.304059\n",
      "RestaurantsReservations      0.314868\n",
      "RestaurantsTableService      0.403572\n",
      "Smoking                      0.924515\n",
      "WheelchairAccessible         0.598232\n",
      "WiFi                         0.384308\n",
      "dtype: float64\n"
     ]
    }
   ],
   "source": [
    "columns_80percent_NAs = columns_with_NAs(food_restaurant_business_df, .2)"
   ]
  },
  {
   "cell_type": "code",
   "execution_count": 274,
   "metadata": {},
   "outputs": [
    {
     "data": {
      "text/plain": [
       "36"
      ]
     },
     "execution_count": 274,
     "metadata": {},
     "output_type": "execute_result"
    }
   ],
   "source": [
    "len(columns_80percent_NAs)"
   ]
  },
  {
   "cell_type": "markdown",
   "metadata": {},
   "source": [
    "The above are the columns with over 20% missing values. Except for 'hours' (the first one), they are all columns derived from the 'attributes' column of the original dataframe. I will remove these columns."
   ]
  },
  {
   "cell_type": "code",
   "execution_count": 275,
   "metadata": {
    "scrolled": true
   },
   "outputs": [],
   "source": [
    "food_restaurant_business_df = food_restaurant_business_df.drop(columns = columns_80percent_NAs)"
   ]
  },
  {
   "cell_type": "markdown",
   "metadata": {},
   "source": [
    "Finally, I will also drop 'attributes', 'neighborhood', 'address', and 'postal_code' columns."
   ]
  },
  {
   "cell_type": "code",
   "execution_count": 276,
   "metadata": {},
   "outputs": [],
   "source": [
    "columns_to_drop = ['attributes', 'neighborhood', 'address','postal_code']"
   ]
  },
  {
   "cell_type": "code",
   "execution_count": 277,
   "metadata": {},
   "outputs": [],
   "source": [
    "food_restaurant_business_df = food_restaurant_business_df.drop(columns = columns_to_drop)"
   ]
  },
  {
   "cell_type": "code",
   "execution_count": 278,
   "metadata": {
    "scrolled": false
   },
   "outputs": [
    {
     "name": "stdout",
     "output_type": "stream",
     "text": [
      "<class 'pandas.core.frame.DataFrame'>\n",
      "Int64Index: 72624 entries, 0 to 188590\n",
      "Data columns (total 17 columns):\n",
      "business_id                   72624 non-null object\n",
      "name                          72624 non-null object\n",
      "city                          72624 non-null object\n",
      "state                         72624 non-null object\n",
      "latitude                      72624 non-null float64\n",
      "longitude                     72624 non-null float64\n",
      "stars                         72624 non-null float64\n",
      "review_count                  72624 non-null int64\n",
      "is_open                       72624 non-null int64\n",
      "categories                    72624 non-null object\n",
      "restaurant                    72624 non-null int64\n",
      "food                          72624 non-null int64\n",
      "food_and_restaurant           72624 non-null int64\n",
      "BusinessAcceptsCreditCards    61979 non-null object\n",
      "BusinessParking               60412 non-null object\n",
      "RestaurantsPriceRange2        65295 non-null object\n",
      "RestaurantsTakeOut            61176 non-null object\n",
      "dtypes: float64(3), int64(5), object(9)\n",
      "memory usage: 12.5+ MB\n"
     ]
    }
   ],
   "source": [
    "food_restaurant_business_df.info()"
   ]
  },
  {
   "cell_type": "code",
   "execution_count": 279,
   "metadata": {},
   "outputs": [
    {
     "data": {
      "text/plain": [
       "Index(['BusinessAcceptsCreditCards', 'BusinessParking',\n",
       "       'RestaurantsPriceRange2', 'RestaurantsTakeOut'],\n",
       "      dtype='object')"
      ]
     },
     "execution_count": 279,
     "metadata": {},
     "output_type": "execute_result"
    }
   ],
   "source": [
    "food_restaurant_business_df.columns[-4:]"
   ]
  },
  {
   "cell_type": "markdown",
   "metadata": {},
   "source": [
    "Only 17 columns are left and the last 4 are the columns from 'attributes' and they are object types. I will check the 4 columns more carefully to see what types of values they are. Note that there are missing values in these columns."
   ]
  },
  {
   "cell_type": "code",
   "execution_count": 280,
   "metadata": {
    "scrolled": false
   },
   "outputs": [
    {
     "data": {
      "text/plain": [
       "business_id                                              Apn5Q_b6Nz61Tq4XzPdf9A\n",
       "name                                                       Minhas Micro Brewery\n",
       "city                                                                    Calgary\n",
       "state                                                                        AB\n",
       "latitude                                                                51.0918\n",
       "longitude                                                              -114.032\n",
       "stars                                                                         4\n",
       "review_count                                                                 24\n",
       "is_open                                                                       1\n",
       "categories                    [Tours, Breweries, Pizza, Restaurants, Food, H...\n",
       "restaurant                                                                    1\n",
       "food                                                                          1\n",
       "food_and_restaurant                                                           1\n",
       "BusinessAcceptsCreditCards                                                 True\n",
       "BusinessParking               {'garage': False, 'street': True, 'validated':...\n",
       "RestaurantsPriceRange2                                                        2\n",
       "RestaurantsTakeOut                                                         True\n",
       "Name: 0, dtype: object"
      ]
     },
     "execution_count": 280,
     "metadata": {},
     "output_type": "execute_result"
    }
   ],
   "source": [
    "food_restaurant_business_df.iloc[0]"
   ]
  },
  {
   "cell_type": "markdown",
   "metadata": {},
   "source": [
    "_BusinessAcceptsCreditCards_"
   ]
  },
  {
   "cell_type": "code",
   "execution_count": 281,
   "metadata": {
    "scrolled": true
   },
   "outputs": [
    {
     "data": {
      "text/plain": [
       "True     59304\n",
       "False     2675\n",
       "Name: BusinessAcceptsCreditCards, dtype: int64"
      ]
     },
     "execution_count": 281,
     "metadata": {},
     "output_type": "execute_result"
    }
   ],
   "source": [
    "food_restaurant_business_df.BusinessAcceptsCreditCards.value_counts()"
   ]
  },
  {
   "cell_type": "code",
   "execution_count": 282,
   "metadata": {
    "scrolled": true
   },
   "outputs": [
    {
     "data": {
      "text/plain": [
       "'True'"
      ]
     },
     "execution_count": 282,
     "metadata": {},
     "output_type": "execute_result"
    }
   ],
   "source": [
    "food_restaurant_business_df.BusinessAcceptsCreditCards[0]"
   ]
  },
  {
   "cell_type": "markdown",
   "metadata": {},
   "source": [
    "This is a string, not a boolean. Thus, multiplying by 1 cannot transform True and False into 1 and 0. Thus, I will use replace() function instead."
   ]
  },
  {
   "cell_type": "code",
   "execution_count": 283,
   "metadata": {},
   "outputs": [],
   "source": [
    "food_restaurant_business_df['BusinessAcceptsCreditCards'] = food_restaurant_business_df.BusinessAcceptsCreditCards.replace({'True':1, 'False':0})"
   ]
  },
  {
   "cell_type": "code",
   "execution_count": 285,
   "metadata": {
    "scrolled": true
   },
   "outputs": [
    {
     "data": {
      "text/plain": [
       "1.0    59304\n",
       "0.0     2675\n",
       "Name: BusinessAcceptsCreditCards, dtype: int64"
      ]
     },
     "execution_count": 285,
     "metadata": {},
     "output_type": "execute_result"
    }
   ],
   "source": [
    "food_restaurant_business_df.BusinessAcceptsCreditCards.value_counts()"
   ]
  },
  {
   "cell_type": "code",
   "execution_count": 287,
   "metadata": {
    "scrolled": false
   },
   "outputs": [
    {
     "data": {
      "text/plain": [
       "10645"
      ]
     },
     "execution_count": 287,
     "metadata": {},
     "output_type": "execute_result"
    }
   ],
   "source": [
    "# Number of missing values\n",
    "sum(food_restaurant_business_df.BusinessAcceptsCreditCards.isna())"
   ]
  },
  {
   "cell_type": "code",
   "execution_count": 312,
   "metadata": {},
   "outputs": [
    {
     "data": {
      "text/plain": [
       "72624"
      ]
     },
     "execution_count": 312,
     "metadata": {},
     "output_type": "execute_result"
    }
   ],
   "source": [
    "59304+2675+10645"
   ]
  },
  {
   "cell_type": "code",
   "execution_count": 319,
   "metadata": {},
   "outputs": [
    {
     "data": {
      "text/plain": [
       "(0.9568402200745414, 1.0)"
      ]
     },
     "execution_count": 319,
     "metadata": {},
     "output_type": "execute_result"
    }
   ],
   "source": [
    "# mean and median\n",
    "food_restaurant_business_df.BusinessAcceptsCreditCards.mean(), food_restaurant_business_df.BusinessAcceptsCreditCards.median()"
   ]
  },
  {
   "cell_type": "markdown",
   "metadata": {},
   "source": [
    "The mean and median values are very different. "
   ]
  },
  {
   "cell_type": "markdown",
   "metadata": {},
   "source": [
    "_RestaurantsTakeOut_"
   ]
  },
  {
   "cell_type": "code",
   "execution_count": 320,
   "metadata": {
    "scrolled": false
   },
   "outputs": [
    {
     "data": {
      "text/plain": [
       "True     55811\n",
       "False     5365\n",
       "Name: RestaurantsTakeOut, dtype: int64"
      ]
     },
     "execution_count": 320,
     "metadata": {},
     "output_type": "execute_result"
    }
   ],
   "source": [
    "food_restaurant_business_df.RestaurantsTakeOut.value_counts()"
   ]
  },
  {
   "cell_type": "code",
   "execution_count": 321,
   "metadata": {
    "scrolled": true
   },
   "outputs": [
    {
     "data": {
      "text/plain": [
       "'True'"
      ]
     },
     "execution_count": 321,
     "metadata": {},
     "output_type": "execute_result"
    }
   ],
   "source": [
    "food_restaurant_business_df.RestaurantsTakeOut[0]"
   ]
  },
  {
   "cell_type": "markdown",
   "metadata": {},
   "source": [
    "Same as BusinessAcceptsCreditCards!! I will do the same thing."
   ]
  },
  {
   "cell_type": "code",
   "execution_count": 322,
   "metadata": {},
   "outputs": [],
   "source": [
    "food_restaurant_business_df['RestaurantsTakeOut'] = food_restaurant_business_df.RestaurantsTakeOut.replace({'True':1, 'False':0})"
   ]
  },
  {
   "cell_type": "code",
   "execution_count": 323,
   "metadata": {},
   "outputs": [
    {
     "data": {
      "text/plain": [
       "1.0    55811\n",
       "0.0     5365\n",
       "Name: RestaurantsTakeOut, dtype: int64"
      ]
     },
     "execution_count": 323,
     "metadata": {},
     "output_type": "execute_result"
    }
   ],
   "source": [
    "food_restaurant_business_df.RestaurantsTakeOut.value_counts()"
   ]
  },
  {
   "cell_type": "code",
   "execution_count": 324,
   "metadata": {},
   "outputs": [
    {
     "data": {
      "text/plain": [
       "11448"
      ]
     },
     "execution_count": 324,
     "metadata": {},
     "output_type": "execute_result"
    }
   ],
   "source": [
    "# Number of missing values\n",
    "sum(food_restaurant_business_df.RestaurantsTakeOut.isna())"
   ]
  },
  {
   "cell_type": "code",
   "execution_count": 325,
   "metadata": {},
   "outputs": [
    {
     "data": {
      "text/plain": [
       "72624"
      ]
     },
     "execution_count": 325,
     "metadata": {},
     "output_type": "execute_result"
    }
   ],
   "source": [
    "55811+5365+11448"
   ]
  },
  {
   "cell_type": "code",
   "execution_count": 337,
   "metadata": {},
   "outputs": [
    {
     "data": {
      "text/plain": [
       "(0.9123022100170002, 1.0)"
      ]
     },
     "execution_count": 337,
     "metadata": {},
     "output_type": "execute_result"
    }
   ],
   "source": [
    "# mean and median\n",
    "food_restaurant_business_df.RestaurantsTakeOut.mean(), food_restaurant_business_df.RestaurantsTakeOut.median()"
   ]
  },
  {
   "cell_type": "markdown",
   "metadata": {},
   "source": [
    "_RestaurantsPriceRange2_"
   ]
  },
  {
   "cell_type": "code",
   "execution_count": 326,
   "metadata": {
    "scrolled": false
   },
   "outputs": [
    {
     "data": {
      "text/plain": [
       "2    34521\n",
       "1    26379\n",
       "3     3756\n",
       "4      639\n",
       "Name: RestaurantsPriceRange2, dtype: int64"
      ]
     },
     "execution_count": 326,
     "metadata": {},
     "output_type": "execute_result"
    }
   ],
   "source": [
    "food_restaurant_business_df.RestaurantsPriceRange2.value_counts()"
   ]
  },
  {
   "cell_type": "code",
   "execution_count": 327,
   "metadata": {},
   "outputs": [
    {
     "data": {
      "text/plain": [
       "'2'"
      ]
     },
     "execution_count": 327,
     "metadata": {},
     "output_type": "execute_result"
    }
   ],
   "source": [
    "food_restaurant_business_df.RestaurantsPriceRange2[0]"
   ]
  },
  {
   "cell_type": "markdown",
   "metadata": {},
   "source": [
    "Again, the values 1 to 4 in 'RestaurantsPriceRange2' are strings. I will make them integers."
   ]
  },
  {
   "cell_type": "code",
   "execution_count": 75,
   "metadata": {},
   "outputs": [],
   "source": [
    "# food_restaurant_business_df.RestaurantsPriceRange2.astype(int)"
   ]
  },
  {
   "cell_type": "markdown",
   "metadata": {},
   "source": [
    "The above command line threw 'ValueError: cannot convert float NaN to integer'."
   ]
  },
  {
   "cell_type": "code",
   "execution_count": 76,
   "metadata": {},
   "outputs": [],
   "source": [
    "#food_restaurant_business_df.RestaurantsPriceRange2.apply(lambda x: int(x) if x else None)"
   ]
  },
  {
   "cell_type": "markdown",
   "metadata": {},
   "source": [
    "This also does not work."
   ]
  },
  {
   "cell_type": "code",
   "execution_count": 328,
   "metadata": {},
   "outputs": [
    {
     "data": {
      "text/plain": [
       "nan"
      ]
     },
     "execution_count": 328,
     "metadata": {},
     "output_type": "execute_result"
    }
   ],
   "source": [
    "food_restaurant_business_df.RestaurantsPriceRange2.loc[10]"
   ]
  },
  {
   "cell_type": "code",
   "execution_count": 329,
   "metadata": {
    "scrolled": true
   },
   "outputs": [
    {
     "data": {
      "text/plain": [
       "float"
      ]
     },
     "execution_count": 329,
     "metadata": {},
     "output_type": "execute_result"
    }
   ],
   "source": [
    "type(food_restaurant_business_df.RestaurantsPriceRange2.loc[10])"
   ]
  },
  {
   "cell_type": "code",
   "execution_count": 330,
   "metadata": {},
   "outputs": [
    {
     "data": {
      "text/plain": [
       "False"
      ]
     },
     "execution_count": 330,
     "metadata": {},
     "output_type": "execute_result"
    }
   ],
   "source": [
    "food_restaurant_business_df.RestaurantsPriceRange2.loc[10] is None #why lambda x: int(x) if x else None didn't work"
   ]
  },
  {
   "cell_type": "markdown",
   "metadata": {},
   "source": [
    "I found the missing values are not regular None value, but float NaN values (Reference: https://stackoverflow.com/questions/17534106/what-is-the-difference-between-nan-and-none )"
   ]
  },
  {
   "cell_type": "code",
   "execution_count": 331,
   "metadata": {},
   "outputs": [],
   "source": [
    "food_restaurant_business_df['RestaurantsPriceRange2'] = pd.to_numeric(food_restaurant_business_df.RestaurantsPriceRange2, errors='coerce')"
   ]
  },
  {
   "cell_type": "code",
   "execution_count": 332,
   "metadata": {
    "scrolled": true
   },
   "outputs": [
    {
     "data": {
      "text/plain": [
       "2.0"
      ]
     },
     "execution_count": 332,
     "metadata": {},
     "output_type": "execute_result"
    }
   ],
   "source": [
    "food_restaurant_business_df['RestaurantsPriceRange2'][0]"
   ]
  },
  {
   "cell_type": "code",
   "execution_count": 333,
   "metadata": {},
   "outputs": [
    {
     "data": {
      "text/plain": [
       "nan"
      ]
     },
     "execution_count": 333,
     "metadata": {},
     "output_type": "execute_result"
    }
   ],
   "source": [
    "food_restaurant_business_df['RestaurantsPriceRange2'][10]"
   ]
  },
  {
   "cell_type": "code",
   "execution_count": 334,
   "metadata": {
    "scrolled": true
   },
   "outputs": [
    {
     "data": {
      "text/plain": [
       "7329"
      ]
     },
     "execution_count": 334,
     "metadata": {},
     "output_type": "execute_result"
    }
   ],
   "source": [
    "sum(food_restaurant_business_df['RestaurantsPriceRange2'].isna())"
   ]
  },
  {
   "cell_type": "code",
   "execution_count": 336,
   "metadata": {},
   "outputs": [
    {
     "data": {
      "text/plain": [
       "(1.6730990121755112, 2.0)"
      ]
     },
     "execution_count": 336,
     "metadata": {},
     "output_type": "execute_result"
    }
   ],
   "source": [
    "# mean and median\n",
    "food_restaurant_business_df.RestaurantsPriceRange2.mean(), food_restaurant_business_df.RestaurantsPriceRange2.median()"
   ]
  },
  {
   "cell_type": "markdown",
   "metadata": {},
   "source": [
    "Now the strings were changed to numeric values, but the missing values are still missing with float NaN type (not None). This will be taken care of later."
   ]
  },
  {
   "cell_type": "markdown",
   "metadata": {},
   "source": [
    "_BusinessParking_"
   ]
  },
  {
   "cell_type": "code",
   "execution_count": 91,
   "metadata": {
    "scrolled": true
   },
   "outputs": [
    {
     "data": {
      "text/plain": [
       "str"
      ]
     },
     "execution_count": 91,
     "metadata": {},
     "output_type": "execute_result"
    }
   ],
   "source": [
    "type(food_restaurant_business_df.BusinessParking[0])"
   ]
  },
  {
   "cell_type": "code",
   "execution_count": 92,
   "metadata": {},
   "outputs": [],
   "source": [
    "import ast"
   ]
  },
  {
   "cell_type": "code",
   "execution_count": 104,
   "metadata": {
    "scrolled": false
   },
   "outputs": [],
   "source": [
    "#food_restaurant_business_df['BusinessParking'] = food_restaurant_business_df.BusinessParking.apply(lambda x: ast.literal_eval(x) if x else None)"
   ]
  },
  {
   "cell_type": "markdown",
   "metadata": {},
   "source": [
    "The above command again threw an error 'ValueError: malformed node or string: nan' due to float NaNs."
   ]
  },
  {
   "cell_type": "code",
   "execution_count": 100,
   "metadata": {},
   "outputs": [
    {
     "data": {
      "text/plain": [
       "False"
      ]
     },
     "execution_count": 100,
     "metadata": {},
     "output_type": "execute_result"
    }
   ],
   "source": [
    "isinstance(food_restaurant_business_df.BusinessParking[10], str)"
   ]
  },
  {
   "cell_type": "code",
   "execution_count": 101,
   "metadata": {},
   "outputs": [
    {
     "data": {
      "text/plain": [
       "0     {'garage': False, 'street': True, 'validated':...\n",
       "1     {'garage': False, 'street': True, 'validated':...\n",
       "2     {'garage': False, 'street': False, 'validated'...\n",
       "5     {'garage': False, 'street': False, 'validated'...\n",
       "6     {'garage': False, 'street': False, 'validated'...\n",
       "7     {'garage': False, 'street': False, 'validated'...\n",
       "8     {'garage': False, 'street': False, 'validated'...\n",
       "10                                                 None\n",
       "11    {'garage': False, 'street': True, 'validated':...\n",
       "12    {'garage': False, 'street': False, 'validated'...\n",
       "Name: BusinessParking, dtype: object"
      ]
     },
     "execution_count": 101,
     "metadata": {},
     "output_type": "execute_result"
    }
   ],
   "source": [
    "food_restaurant_business_df.BusinessParking[:10].apply(lambda x: ast.literal_eval(x) if isinstance(x,str) else None)"
   ]
  },
  {
   "cell_type": "code",
   "execution_count": 106,
   "metadata": {},
   "outputs": [],
   "source": [
    "food_restaurant_business_df['BusinessParking'] = food_restaurant_business_df.BusinessParking.apply(lambda x: ast.literal_eval(x) if isinstance(x,str) else None)"
   ]
  },
  {
   "cell_type": "code",
   "execution_count": 112,
   "metadata": {
    "scrolled": true
   },
   "outputs": [
    {
     "data": {
      "text/plain": [
       "dict"
      ]
     },
     "execution_count": 112,
     "metadata": {},
     "output_type": "execute_result"
    }
   ],
   "source": [
    "type(food_restaurant_business_df.BusinessParking[0])"
   ]
  },
  {
   "cell_type": "code",
   "execution_count": 116,
   "metadata": {},
   "outputs": [
    {
     "data": {
      "text/plain": [
       "dict_keys(['garage', 'street', 'validated', 'lot', 'valet'])"
      ]
     },
     "execution_count": 116,
     "metadata": {},
     "output_type": "execute_result"
    }
   ],
   "source": [
    "food_restaurant_business_df.BusinessParking[0].keys()"
   ]
  },
  {
   "cell_type": "code",
   "execution_count": 115,
   "metadata": {},
   "outputs": [
    {
     "name": "stdout",
     "output_type": "stream",
     "text": [
      "None\n"
     ]
    }
   ],
   "source": [
    "print(food_restaurant_business_df.BusinessParking[10])"
   ]
  },
  {
   "cell_type": "code",
   "execution_count": 313,
   "metadata": {
    "scrolled": false
   },
   "outputs": [
    {
     "data": {
      "text/plain": [
       "12212"
      ]
     },
     "execution_count": 313,
     "metadata": {},
     "output_type": "execute_result"
    }
   ],
   "source": [
    "# Number of missing values\n",
    "sum(food_restaurant_business_df.BusinessParking.isna())"
   ]
  },
  {
   "cell_type": "code",
   "execution_count": 471,
   "metadata": {},
   "outputs": [
    {
     "data": {
      "text/plain": [
       "0.1681537783652787"
      ]
     },
     "execution_count": 471,
     "metadata": {},
     "output_type": "execute_result"
    }
   ],
   "source": [
    "12212/len(food_restaurant_business_df)"
   ]
  },
  {
   "cell_type": "markdown",
   "metadata": {},
   "source": [
    "These missing dictionary values can be filled with medians after being transforemd to a separate column for each key, but I am not sure how much these columns will be useful in my model. I will remove this 'BusinessParking' attribute. Finally, the 4 columns were tranformed to the right type of values and now I will fill the missing values with median."
   ]
  },
  {
   "cell_type": "code",
   "execution_count": 314,
   "metadata": {},
   "outputs": [],
   "source": [
    "food_restaurant_business_df = food_restaurant_business_df.drop(columns = 'BusinessParking')"
   ]
  },
  {
   "cell_type": "code",
   "execution_count": 315,
   "metadata": {},
   "outputs": [
    {
     "data": {
      "text/plain": [
       "business_id                       0\n",
       "name                              0\n",
       "city                              0\n",
       "state                             0\n",
       "latitude                          0\n",
       "longitude                         0\n",
       "stars                             0\n",
       "review_count                      0\n",
       "is_open                           0\n",
       "categories                        0\n",
       "restaurant                        0\n",
       "food                              0\n",
       "food_and_restaurant               0\n",
       "BusinessAcceptsCreditCards    10645\n",
       "RestaurantsPriceRange2         7329\n",
       "RestaurantsTakeOut            11448\n",
       "dtype: int64"
      ]
     },
     "execution_count": 315,
     "metadata": {},
     "output_type": "execute_result"
    }
   ],
   "source": [
    "# Count missing values\n",
    "food_restaurant_business_df.isna().sum()"
   ]
  },
  {
   "cell_type": "code",
   "execution_count": 340,
   "metadata": {},
   "outputs": [
    {
     "data": {
      "text/plain": [
       "['BusinessAcceptsCreditCards', 'RestaurantsPriceRange2', 'RestaurantsTakeOut']"
      ]
     },
     "execution_count": 340,
     "metadata": {},
     "output_type": "execute_result"
    }
   ],
   "source": [
    "columns_to_fill = list(food_restaurant_business_df.columns[-3:])\n",
    "columns_to_fill"
   ]
  },
  {
   "cell_type": "code",
   "execution_count": 341,
   "metadata": {},
   "outputs": [],
   "source": [
    "for col in columns_to_fill:\n",
    "    median =food_restaurant_business_df[col].median()\n",
    "    food_restaurant_business_df[col]=food_restaurant_business_df[col].fillna(median)"
   ]
  },
  {
   "cell_type": "code",
   "execution_count": 342,
   "metadata": {
    "scrolled": true
   },
   "outputs": [
    {
     "data": {
      "text/plain": [
       "business_id                   0\n",
       "name                          0\n",
       "city                          0\n",
       "state                         0\n",
       "latitude                      0\n",
       "longitude                     0\n",
       "stars                         0\n",
       "review_count                  0\n",
       "is_open                       0\n",
       "categories                    0\n",
       "restaurant                    0\n",
       "food                          0\n",
       "food_and_restaurant           0\n",
       "BusinessAcceptsCreditCards    0\n",
       "RestaurantsPriceRange2        0\n",
       "RestaurantsTakeOut            0\n",
       "dtype: int64"
      ]
     },
     "execution_count": 342,
     "metadata": {},
     "output_type": "execute_result"
    }
   ],
   "source": [
    "# Count missing values\n",
    "food_restaurant_business_df.isna().sum()"
   ]
  },
  {
   "cell_type": "markdown",
   "metadata": {},
   "source": [
    "They are all filled!"
   ]
  },
  {
   "cell_type": "markdown",
   "metadata": {},
   "source": [
    "#### categories"
   ]
  },
  {
   "cell_type": "markdown",
   "metadata": {},
   "source": [
    "The 'categories' column was used to select food and restaurant businesses. There was 1305 different categories altogather before selecting only food and restaurants. Let's see how much they were reduced."
   ]
  },
  {
   "cell_type": "code",
   "execution_count": 141,
   "metadata": {},
   "outputs": [],
   "source": [
    "# Make a set of business categories\n",
    "food_restaurant_categories =set()\n",
    "\n",
    "for categories in food_restaurant_business_df['categories']:\n",
    "    if categories:\n",
    "        food_restaurant_categories.update(set(categories))"
   ]
  },
  {
   "cell_type": "code",
   "execution_count": 142,
   "metadata": {
    "scrolled": true
   },
   "outputs": [
    {
     "data": {
      "text/plain": [
       "809"
      ]
     },
     "execution_count": 142,
     "metadata": {},
     "output_type": "execute_result"
    }
   ],
   "source": [
    "len(food_restaurant_categories)"
   ]
  },
  {
   "cell_type": "markdown",
   "metadata": {},
   "source": [
    "There are still too many categories to make a column for each category. Now I will used the categories_df made from a json file above to find how many second top categories there are; those categories have 'food' and 'restaurants' as parents."
   ]
  },
  {
   "cell_type": "code",
   "execution_count": 143,
   "metadata": {},
   "outputs": [
    {
     "data": {
      "text/plain": [
       "['localservices']"
      ]
     },
     "execution_count": 143,
     "metadata": {},
     "output_type": "execute_result"
    }
   ],
   "source": [
    "categories_df.parents[0]"
   ]
  },
  {
   "cell_type": "markdown",
   "metadata": {},
   "source": [
    "The column 'parents' have a list value and the right below line did not work."
   ]
  },
  {
   "cell_type": "code",
   "execution_count": 412,
   "metadata": {},
   "outputs": [],
   "source": [
    "# categories_df[(categories_df.parents ==['food'])|(categories_df.parents ==['restaurants'])]\n",
    "# This gives an error"
   ]
  },
  {
   "cell_type": "code",
   "execution_count": 144,
   "metadata": {
    "scrolled": true
   },
   "outputs": [
    {
     "data": {
      "text/html": [
       "<div>\n",
       "<style scoped>\n",
       "    .dataframe tbody tr th:only-of-type {\n",
       "        vertical-align: middle;\n",
       "    }\n",
       "\n",
       "    .dataframe tbody tr th {\n",
       "        vertical-align: top;\n",
       "    }\n",
       "\n",
       "    .dataframe thead th {\n",
       "        text-align: right;\n",
       "    }\n",
       "</style>\n",
       "<table border=\"1\" class=\"dataframe\">\n",
       "  <thead>\n",
       "    <tr style=\"text-align: right;\">\n",
       "      <th></th>\n",
       "      <th>alias</th>\n",
       "      <th>country_blacklist</th>\n",
       "      <th>country_whitelist</th>\n",
       "      <th>parents</th>\n",
       "      <th>title</th>\n",
       "    </tr>\n",
       "  </thead>\n",
       "  <tbody>\n",
       "    <tr>\n",
       "      <th>3</th>\n",
       "      <td>acaibowls</td>\n",
       "      <td>[CL, PL, IT, AR, MX, TR]</td>\n",
       "      <td>NaN</td>\n",
       "      <td>[food]</td>\n",
       "      <td>Acai Bowls</td>\n",
       "    </tr>\n",
       "    <tr>\n",
       "      <th>105</th>\n",
       "      <td>backshop</td>\n",
       "      <td>NaN</td>\n",
       "      <td>[AT, CH, DE]</td>\n",
       "      <td>[food]</td>\n",
       "      <td>Backshop</td>\n",
       "    </tr>\n",
       "    <tr>\n",
       "      <th>108</th>\n",
       "      <td>bagels</td>\n",
       "      <td>[AU, ES]</td>\n",
       "      <td>NaN</td>\n",
       "      <td>[food]</td>\n",
       "      <td>Bagels</td>\n",
       "    </tr>\n",
       "    <tr>\n",
       "      <th>111</th>\n",
       "      <td>bakeries</td>\n",
       "      <td>NaN</td>\n",
       "      <td>NaN</td>\n",
       "      <td>[food]</td>\n",
       "      <td>Bakeries</td>\n",
       "    </tr>\n",
       "    <tr>\n",
       "      <th>136</th>\n",
       "      <td>beer_and_wine</td>\n",
       "      <td>NaN</td>\n",
       "      <td>NaN</td>\n",
       "      <td>[food]</td>\n",
       "      <td>Beer, Wine &amp; Spirits</td>\n",
       "    </tr>\n",
       "    <tr>\n",
       "      <th>146</th>\n",
       "      <td>bento</td>\n",
       "      <td>NaN</td>\n",
       "      <td>[JP]</td>\n",
       "      <td>[food]</td>\n",
       "      <td>Bento</td>\n",
       "    </tr>\n",
       "    <tr>\n",
       "      <th>150</th>\n",
       "      <td>beverage_stores</td>\n",
       "      <td>NaN</td>\n",
       "      <td>[AU, CL, ES, IT, DE, PT, AT, NL, CH, US, BE, TR]</td>\n",
       "      <td>[food]</td>\n",
       "      <td>Beverage Store</td>\n",
       "    </tr>\n",
       "    <tr>\n",
       "      <th>195</th>\n",
       "      <td>breweries</td>\n",
       "      <td>NaN</td>\n",
       "      <td>NaN</td>\n",
       "      <td>[food]</td>\n",
       "      <td>Breweries</td>\n",
       "    </tr>\n",
       "    <tr>\n",
       "      <th>201</th>\n",
       "      <td>bubbletea</td>\n",
       "      <td>[ES, AT, CH, AR, MX, TR]</td>\n",
       "      <td>NaN</td>\n",
       "      <td>[food]</td>\n",
       "      <td>Bubble Tea</td>\n",
       "    </tr>\n",
       "    <tr>\n",
       "      <th>217</th>\n",
       "      <td>butcher</td>\n",
       "      <td>[CH, AT, DE]</td>\n",
       "      <td>NaN</td>\n",
       "      <td>[food]</td>\n",
       "      <td>Butcher</td>\n",
       "    </tr>\n",
       "  </tbody>\n",
       "</table>\n",
       "</div>"
      ],
      "text/plain": [
       "               alias         country_blacklist  \\\n",
       "3          acaibowls  [CL, PL, IT, AR, MX, TR]   \n",
       "105         backshop                       NaN   \n",
       "108           bagels                  [AU, ES]   \n",
       "111         bakeries                       NaN   \n",
       "136    beer_and_wine                       NaN   \n",
       "146            bento                       NaN   \n",
       "150  beverage_stores                       NaN   \n",
       "195        breweries                       NaN   \n",
       "201        bubbletea  [ES, AT, CH, AR, MX, TR]   \n",
       "217          butcher              [CH, AT, DE]   \n",
       "\n",
       "                                    country_whitelist parents  \\\n",
       "3                                                 NaN  [food]   \n",
       "105                                      [AT, CH, DE]  [food]   \n",
       "108                                               NaN  [food]   \n",
       "111                                               NaN  [food]   \n",
       "136                                               NaN  [food]   \n",
       "146                                              [JP]  [food]   \n",
       "150  [AU, CL, ES, IT, DE, PT, AT, NL, CH, US, BE, TR]  [food]   \n",
       "195                                               NaN  [food]   \n",
       "201                                               NaN  [food]   \n",
       "217                                               NaN  [food]   \n",
       "\n",
       "                    title  \n",
       "3              Acai Bowls  \n",
       "105              Backshop  \n",
       "108                Bagels  \n",
       "111              Bakeries  \n",
       "136  Beer, Wine & Spirits  \n",
       "146                 Bento  \n",
       "150        Beverage Store  \n",
       "195             Breweries  \n",
       "201            Bubble Tea  \n",
       "217               Butcher  "
      ]
     },
     "execution_count": 144,
     "metadata": {},
     "output_type": "execute_result"
    }
   ],
   "source": [
    "categories_df[(categories_df.parents.apply(lambda x: x[0]=='food' if x else False))][:10]"
   ]
  },
  {
   "cell_type": "code",
   "execution_count": 145,
   "metadata": {},
   "outputs": [
    {
     "data": {
      "text/plain": [
       "66"
      ]
     },
     "execution_count": 145,
     "metadata": {},
     "output_type": "execute_result"
    }
   ],
   "source": [
    "categories_df[(categories_df.parents.apply(lambda x: x[0]=='food' if x else False))].alias.nunique()"
   ]
  },
  {
   "cell_type": "code",
   "execution_count": 146,
   "metadata": {},
   "outputs": [
    {
     "data": {
      "text/html": [
       "<div>\n",
       "<style scoped>\n",
       "    .dataframe tbody tr th:only-of-type {\n",
       "        vertical-align: middle;\n",
       "    }\n",
       "\n",
       "    .dataframe tbody tr th {\n",
       "        vertical-align: top;\n",
       "    }\n",
       "\n",
       "    .dataframe thead th {\n",
       "        text-align: right;\n",
       "    }\n",
       "</style>\n",
       "<table border=\"1\" class=\"dataframe\">\n",
       "  <thead>\n",
       "    <tr style=\"text-align: right;\">\n",
       "      <th></th>\n",
       "      <th>alias</th>\n",
       "      <th>country_blacklist</th>\n",
       "      <th>country_whitelist</th>\n",
       "      <th>parents</th>\n",
       "      <th>title</th>\n",
       "    </tr>\n",
       "  </thead>\n",
       "  <tbody>\n",
       "    <tr>\n",
       "      <th>18</th>\n",
       "      <td>afghani</td>\n",
       "      <td>[MX, TR]</td>\n",
       "      <td>NaN</td>\n",
       "      <td>[restaurants]</td>\n",
       "      <td>Afghan</td>\n",
       "    </tr>\n",
       "    <tr>\n",
       "      <th>19</th>\n",
       "      <td>african</td>\n",
       "      <td>[TR]</td>\n",
       "      <td>NaN</td>\n",
       "      <td>[restaurants]</td>\n",
       "      <td>African</td>\n",
       "    </tr>\n",
       "    <tr>\n",
       "      <th>39</th>\n",
       "      <td>andalusian</td>\n",
       "      <td>NaN</td>\n",
       "      <td>[IT, ES]</td>\n",
       "      <td>[restaurants]</td>\n",
       "      <td>Andalusian</td>\n",
       "    </tr>\n",
       "    <tr>\n",
       "      <th>53</th>\n",
       "      <td>arabian</td>\n",
       "      <td>[DK]</td>\n",
       "      <td>NaN</td>\n",
       "      <td>[restaurants]</td>\n",
       "      <td>Arabian</td>\n",
       "    </tr>\n",
       "    <tr>\n",
       "      <th>59</th>\n",
       "      <td>argentine</td>\n",
       "      <td>[FI]</td>\n",
       "      <td>NaN</td>\n",
       "      <td>[restaurants]</td>\n",
       "      <td>Argentine</td>\n",
       "    </tr>\n",
       "    <tr>\n",
       "      <th>60</th>\n",
       "      <td>armenian</td>\n",
       "      <td>NaN</td>\n",
       "      <td>[ES, PL, IT, AR, CZ, US, FR, BE, GB, TR]</td>\n",
       "      <td>[restaurants]</td>\n",
       "      <td>Armenian</td>\n",
       "    </tr>\n",
       "    <tr>\n",
       "      <th>72</th>\n",
       "      <td>asianfusion</td>\n",
       "      <td>NaN</td>\n",
       "      <td>NaN</td>\n",
       "      <td>[restaurants]</td>\n",
       "      <td>Asian Fusion</td>\n",
       "    </tr>\n",
       "    <tr>\n",
       "      <th>75</th>\n",
       "      <td>asturian</td>\n",
       "      <td>NaN</td>\n",
       "      <td>[ES]</td>\n",
       "      <td>[restaurants]</td>\n",
       "      <td>Asturian</td>\n",
       "    </tr>\n",
       "    <tr>\n",
       "      <th>82</th>\n",
       "      <td>australian</td>\n",
       "      <td>NaN</td>\n",
       "      <td>NaN</td>\n",
       "      <td>[restaurants]</td>\n",
       "      <td>Australian</td>\n",
       "    </tr>\n",
       "    <tr>\n",
       "      <th>83</th>\n",
       "      <td>austrian</td>\n",
       "      <td>[DK, ES]</td>\n",
       "      <td>NaN</td>\n",
       "      <td>[restaurants]</td>\n",
       "      <td>Austrian</td>\n",
       "    </tr>\n",
       "    <tr>\n",
       "      <th>109</th>\n",
       "      <td>baguettes</td>\n",
       "      <td>NaN</td>\n",
       "      <td>[IT, SE, DE, MX, PT, CZ, NO, TR]</td>\n",
       "      <td>[restaurants]</td>\n",
       "      <td>Baguettes</td>\n",
       "    </tr>\n",
       "    <tr>\n",
       "      <th>113</th>\n",
       "      <td>bangladeshi</td>\n",
       "      <td>[PT, ES, DK, MX, TR]</td>\n",
       "      <td>NaN</td>\n",
       "      <td>[restaurants]</td>\n",
       "      <td>Bangladeshi</td>\n",
       "    </tr>\n",
       "    <tr>\n",
       "      <th>124</th>\n",
       "      <td>basque</td>\n",
       "      <td>[AU, PT, CZ, SG, DK, TR]</td>\n",
       "      <td>NaN</td>\n",
       "      <td>[restaurants]</td>\n",
       "      <td>Basque</td>\n",
       "    </tr>\n",
       "    <tr>\n",
       "      <th>128</th>\n",
       "      <td>bavarian</td>\n",
       "      <td>NaN</td>\n",
       "      <td>[CH, AT, DE]</td>\n",
       "      <td>[restaurants]</td>\n",
       "      <td>Bavarian</td>\n",
       "    </tr>\n",
       "    <tr>\n",
       "      <th>129</th>\n",
       "      <td>bbq</td>\n",
       "      <td>[AU, BR]</td>\n",
       "      <td>NaN</td>\n",
       "      <td>[restaurants]</td>\n",
       "      <td>Barbeque</td>\n",
       "    </tr>\n",
       "    <tr>\n",
       "      <th>138</th>\n",
       "      <td>beergarden</td>\n",
       "      <td>NaN</td>\n",
       "      <td>[CZ, CH, AT, DE]</td>\n",
       "      <td>[restaurants]</td>\n",
       "      <td>Beer Garden</td>\n",
       "    </tr>\n",
       "    <tr>\n",
       "      <th>140</th>\n",
       "      <td>beerhall</td>\n",
       "      <td>NaN</td>\n",
       "      <td>[CH, AT, DE]</td>\n",
       "      <td>[restaurants]</td>\n",
       "      <td>Beer Hall</td>\n",
       "    </tr>\n",
       "    <tr>\n",
       "      <th>144</th>\n",
       "      <td>beisl</td>\n",
       "      <td>NaN</td>\n",
       "      <td>[AT]</td>\n",
       "      <td>[restaurants]</td>\n",
       "      <td>Beisl</td>\n",
       "    </tr>\n",
       "    <tr>\n",
       "      <th>145</th>\n",
       "      <td>belgian</td>\n",
       "      <td>NaN</td>\n",
       "      <td>NaN</td>\n",
       "      <td>[restaurants]</td>\n",
       "      <td>Belgian</td>\n",
       "    </tr>\n",
       "    <tr>\n",
       "      <th>165</th>\n",
       "      <td>bistros</td>\n",
       "      <td>[US]</td>\n",
       "      <td>NaN</td>\n",
       "      <td>[restaurants]</td>\n",
       "      <td>Bistros</td>\n",
       "    </tr>\n",
       "  </tbody>\n",
       "</table>\n",
       "</div>"
      ],
      "text/plain": [
       "           alias         country_blacklist  \\\n",
       "18       afghani                  [MX, TR]   \n",
       "19       african                      [TR]   \n",
       "39    andalusian                       NaN   \n",
       "53       arabian                      [DK]   \n",
       "59     argentine                      [FI]   \n",
       "60      armenian                       NaN   \n",
       "72   asianfusion                       NaN   \n",
       "75      asturian                       NaN   \n",
       "82    australian                       NaN   \n",
       "83      austrian                  [DK, ES]   \n",
       "109    baguettes                       NaN   \n",
       "113  bangladeshi      [PT, ES, DK, MX, TR]   \n",
       "124       basque  [AU, PT, CZ, SG, DK, TR]   \n",
       "128     bavarian                       NaN   \n",
       "129          bbq                  [AU, BR]   \n",
       "138   beergarden                       NaN   \n",
       "140     beerhall                       NaN   \n",
       "144        beisl                       NaN   \n",
       "145      belgian                       NaN   \n",
       "165      bistros                      [US]   \n",
       "\n",
       "                            country_whitelist        parents         title  \n",
       "18                                        NaN  [restaurants]        Afghan  \n",
       "19                                        NaN  [restaurants]       African  \n",
       "39                                   [IT, ES]  [restaurants]    Andalusian  \n",
       "53                                        NaN  [restaurants]       Arabian  \n",
       "59                                        NaN  [restaurants]     Argentine  \n",
       "60   [ES, PL, IT, AR, CZ, US, FR, BE, GB, TR]  [restaurants]      Armenian  \n",
       "72                                        NaN  [restaurants]  Asian Fusion  \n",
       "75                                       [ES]  [restaurants]      Asturian  \n",
       "82                                        NaN  [restaurants]    Australian  \n",
       "83                                        NaN  [restaurants]      Austrian  \n",
       "109          [IT, SE, DE, MX, PT, CZ, NO, TR]  [restaurants]     Baguettes  \n",
       "113                                       NaN  [restaurants]   Bangladeshi  \n",
       "124                                       NaN  [restaurants]        Basque  \n",
       "128                              [CH, AT, DE]  [restaurants]      Bavarian  \n",
       "129                                       NaN  [restaurants]      Barbeque  \n",
       "138                          [CZ, CH, AT, DE]  [restaurants]   Beer Garden  \n",
       "140                              [CH, AT, DE]  [restaurants]     Beer Hall  \n",
       "144                                      [AT]  [restaurants]         Beisl  \n",
       "145                                       NaN  [restaurants]       Belgian  \n",
       "165                                       NaN  [restaurants]       Bistros  "
      ]
     },
     "execution_count": 146,
     "metadata": {},
     "output_type": "execute_result"
    }
   ],
   "source": [
    "categories_df[(categories_df.parents.apply(lambda x: x[0]=='restaurants' if x else False))][:20]"
   ]
  },
  {
   "cell_type": "code",
   "execution_count": 147,
   "metadata": {},
   "outputs": [
    {
     "data": {
      "text/plain": [
       "190"
      ]
     },
     "execution_count": 147,
     "metadata": {},
     "output_type": "execute_result"
    }
   ],
   "source": [
    "categories_df[(categories_df.parents.apply(lambda x: x[0]=='restaurants' if x else False))].alias.nunique()"
   ]
  },
  {
   "cell_type": "code",
   "execution_count": 148,
   "metadata": {},
   "outputs": [],
   "source": [
    "subcategories = (categories_df[(categories_df.parents.apply(lambda x: x[0]=='restaurants' if x else False))|\n",
    "             (categories_df.parents.apply(lambda x: x[0]=='food' if x else False))]).title.tolist()"
   ]
  },
  {
   "cell_type": "code",
   "execution_count": 149,
   "metadata": {},
   "outputs": [
    {
     "data": {
      "text/plain": [
       "256"
      ]
     },
     "execution_count": 149,
     "metadata": {},
     "output_type": "execute_result"
    }
   ],
   "source": [
    "len(subcategories)"
   ]
  },
  {
   "cell_type": "code",
   "execution_count": 153,
   "metadata": {},
   "outputs": [
    {
     "name": "stdout",
     "output_type": "stream",
     "text": [
      "['Acai Bowls', 'Afghan', 'African', 'Andalusian', 'Arabian', 'Argentine', 'Armenian', 'Asian Fusion', 'Asturian', 'Australian', 'Austrian', 'Backshop', 'Bagels', 'Baguettes', 'Bakeries', 'Bangladeshi', 'Basque', 'Bavarian', 'Barbeque', 'Beer, Wine & Spirits', 'Beer Garden', 'Beer Hall', 'Beisl', 'Belgian', 'Bento', 'Beverage Store', 'Bistros', 'Black Sea', 'Brasseries', 'Brazilian', 'Breakfast & Brunch', 'Breweries', 'British', 'Bubble Tea', 'Buffets', 'Bulgarian', 'Burgers', 'Burmese', 'Butcher', 'Cafes', 'Cafeteria', 'Cajun/Creole', 'Patisserie/Cake Shop', 'Cambodian', 'Canteen', 'Caribbean', 'Catalan', 'Cheesesteaks', 'Chicken Wings', 'Chicken Shop']\n"
     ]
    }
   ],
   "source": [
    "print(subcategories[:50])"
   ]
  },
  {
   "cell_type": "code",
   "execution_count": 434,
   "metadata": {
    "scrolled": false
   },
   "outputs": [
    {
     "data": {
      "text/html": [
       "<div>\n",
       "<style scoped>\n",
       "    .dataframe tbody tr th:only-of-type {\n",
       "        vertical-align: middle;\n",
       "    }\n",
       "\n",
       "    .dataframe tbody tr th {\n",
       "        vertical-align: top;\n",
       "    }\n",
       "\n",
       "    .dataframe thead th {\n",
       "        text-align: right;\n",
       "    }\n",
       "</style>\n",
       "<table border=\"1\" class=\"dataframe\">\n",
       "  <thead>\n",
       "    <tr style=\"text-align: right;\">\n",
       "      <th></th>\n",
       "      <th>business_id</th>\n",
       "      <th>name</th>\n",
       "      <th>neighborhood</th>\n",
       "      <th>address</th>\n",
       "      <th>city</th>\n",
       "      <th>state</th>\n",
       "      <th>postal_code</th>\n",
       "      <th>latitude</th>\n",
       "      <th>longitude</th>\n",
       "      <th>stars</th>\n",
       "      <th>review_count</th>\n",
       "      <th>is_open</th>\n",
       "      <th>categories</th>\n",
       "      <th>restaurant</th>\n",
       "      <th>food</th>\n",
       "      <th>food_and_restaurant</th>\n",
       "      <th>BusinessAcceptsCreditCards</th>\n",
       "      <th>BusinessParking</th>\n",
       "      <th>RestaurantsPriceRange2</th>\n",
       "      <th>RestaurantsTakeOut</th>\n",
       "    </tr>\n",
       "  </thead>\n",
       "  <tbody>\n",
       "    <tr>\n",
       "      <th>1040</th>\n",
       "      <td>seEEDbHdTWaFViq5cDpIdg</td>\n",
       "      <td>Cafe Depot Bombardier</td>\n",
       "      <td>Saint-Laurent</td>\n",
       "      <td>2505 Des Nations Rue</td>\n",
       "      <td>Saint-Laurent</td>\n",
       "      <td>QC</td>\n",
       "      <td>H4R 3C8</td>\n",
       "      <td>45.513224</td>\n",
       "      <td>-73.711708</td>\n",
       "      <td>3.0</td>\n",
       "      <td>4</td>\n",
       "      <td>1</td>\n",
       "      <td>[Food]</td>\n",
       "      <td>0</td>\n",
       "      <td>1</td>\n",
       "      <td>1</td>\n",
       "      <td>NaN</td>\n",
       "      <td>{'garage': False, 'street': False, 'validated'...</td>\n",
       "      <td>2</td>\n",
       "      <td>True</td>\n",
       "    </tr>\n",
       "    <tr>\n",
       "      <th>1592</th>\n",
       "      <td>lYlVsbhDrglWDdhh7OTM2w</td>\n",
       "      <td>Rendezvous Cafe</td>\n",
       "      <td></td>\n",
       "      <td>2341 N Rainbow Blvd</td>\n",
       "      <td>Las Vegas</td>\n",
       "      <td>NV</td>\n",
       "      <td>89108</td>\n",
       "      <td>36.202973</td>\n",
       "      <td>-115.242443</td>\n",
       "      <td>4.5</td>\n",
       "      <td>7</td>\n",
       "      <td>0</td>\n",
       "      <td>[Restaurants]</td>\n",
       "      <td>1</td>\n",
       "      <td>0</td>\n",
       "      <td>1</td>\n",
       "      <td>True</td>\n",
       "      <td>{'garage': False, 'street': False, 'validated'...</td>\n",
       "      <td>1</td>\n",
       "      <td>True</td>\n",
       "    </tr>\n",
       "    <tr>\n",
       "      <th>2403</th>\n",
       "      <td>5Q4Gw1pyZnG8IlFNozxIlw</td>\n",
       "      <td>Native New Yorker Restaurant</td>\n",
       "      <td></td>\n",
       "      <td></td>\n",
       "      <td>Gilbert</td>\n",
       "      <td>AZ</td>\n",
       "      <td>85233</td>\n",
       "      <td>33.351930</td>\n",
       "      <td>-111.821087</td>\n",
       "      <td>3.0</td>\n",
       "      <td>20</td>\n",
       "      <td>1</td>\n",
       "      <td>[Restaurants]</td>\n",
       "      <td>1</td>\n",
       "      <td>0</td>\n",
       "      <td>1</td>\n",
       "      <td>True</td>\n",
       "      <td>NaN</td>\n",
       "      <td>2</td>\n",
       "      <td>True</td>\n",
       "    </tr>\n",
       "    <tr>\n",
       "      <th>2495</th>\n",
       "      <td>uZA-odma2Uje_kQ8ETl42A</td>\n",
       "      <td>Ruby's Diner</td>\n",
       "      <td></td>\n",
       "      <td>3111 W Chandler Blvd Ste 2146</td>\n",
       "      <td>Chandler</td>\n",
       "      <td>AZ</td>\n",
       "      <td>85226</td>\n",
       "      <td>33.301665</td>\n",
       "      <td>-111.898018</td>\n",
       "      <td>4.5</td>\n",
       "      <td>3</td>\n",
       "      <td>0</td>\n",
       "      <td>[Restaurants]</td>\n",
       "      <td>1</td>\n",
       "      <td>0</td>\n",
       "      <td>1</td>\n",
       "      <td>True</td>\n",
       "      <td>{'garage': False, 'street': False, 'validated'...</td>\n",
       "      <td>1</td>\n",
       "      <td>NaN</td>\n",
       "    </tr>\n",
       "    <tr>\n",
       "      <th>2857</th>\n",
       "      <td>KdGkP141oR20eclgA_VFwg</td>\n",
       "      <td>Nothing But Noodles</td>\n",
       "      <td></td>\n",
       "      <td>2160 E Baseline Rd</td>\n",
       "      <td>Phoenix</td>\n",
       "      <td>AZ</td>\n",
       "      <td>85073</td>\n",
       "      <td>33.377932</td>\n",
       "      <td>-112.032903</td>\n",
       "      <td>2.0</td>\n",
       "      <td>6</td>\n",
       "      <td>0</td>\n",
       "      <td>[Restaurants]</td>\n",
       "      <td>1</td>\n",
       "      <td>0</td>\n",
       "      <td>1</td>\n",
       "      <td>NaN</td>\n",
       "      <td>NaN</td>\n",
       "      <td>2</td>\n",
       "      <td>NaN</td>\n",
       "    </tr>\n",
       "  </tbody>\n",
       "</table>\n",
       "</div>"
      ],
      "text/plain": [
       "                 business_id                          name   neighborhood  \\\n",
       "1040  seEEDbHdTWaFViq5cDpIdg         Cafe Depot Bombardier  Saint-Laurent   \n",
       "1592  lYlVsbhDrglWDdhh7OTM2w               Rendezvous Cafe                  \n",
       "2403  5Q4Gw1pyZnG8IlFNozxIlw  Native New Yorker Restaurant                  \n",
       "2495  uZA-odma2Uje_kQ8ETl42A                  Ruby's Diner                  \n",
       "2857  KdGkP141oR20eclgA_VFwg           Nothing But Noodles                  \n",
       "\n",
       "                            address           city state postal_code  \\\n",
       "1040           2505 Des Nations Rue  Saint-Laurent    QC     H4R 3C8   \n",
       "1592            2341 N Rainbow Blvd      Las Vegas    NV       89108   \n",
       "2403                                       Gilbert    AZ       85233   \n",
       "2495  3111 W Chandler Blvd Ste 2146       Chandler    AZ       85226   \n",
       "2857             2160 E Baseline Rd        Phoenix    AZ       85073   \n",
       "\n",
       "       latitude   longitude  stars  review_count  is_open     categories  \\\n",
       "1040  45.513224  -73.711708    3.0             4        1         [Food]   \n",
       "1592  36.202973 -115.242443    4.5             7        0  [Restaurants]   \n",
       "2403  33.351930 -111.821087    3.0            20        1  [Restaurants]   \n",
       "2495  33.301665 -111.898018    4.5             3        0  [Restaurants]   \n",
       "2857  33.377932 -112.032903    2.0             6        0  [Restaurants]   \n",
       "\n",
       "      restaurant  food  food_and_restaurant BusinessAcceptsCreditCards  \\\n",
       "1040           0     1                    1                        NaN   \n",
       "1592           1     0                    1                       True   \n",
       "2403           1     0                    1                       True   \n",
       "2495           1     0                    1                       True   \n",
       "2857           1     0                    1                        NaN   \n",
       "\n",
       "                                        BusinessParking  \\\n",
       "1040  {'garage': False, 'street': False, 'validated'...   \n",
       "1592  {'garage': False, 'street': False, 'validated'...   \n",
       "2403                                                NaN   \n",
       "2495  {'garage': False, 'street': False, 'validated'...   \n",
       "2857                                                NaN   \n",
       "\n",
       "     RestaurantsPriceRange2 RestaurantsTakeOut  \n",
       "1040                      2               True  \n",
       "1592                      1               True  \n",
       "2403                      2               True  \n",
       "2495                      1                NaN  \n",
       "2857                      2                NaN  "
      ]
     },
     "execution_count": 434,
     "metadata": {},
     "output_type": "execute_result"
    }
   ],
   "source": [
    "food_restaurant_business_df[food_restaurant_business_df.categories.apply(lambda x:len(x)==1)][:5]"
   ]
  },
  {
   "cell_type": "markdown",
   "metadata": {},
   "source": [
    "Thus, there are 256 subcategories which are right below the top two categories, 'food' and 'restaurants'. The subcategories for 'food' and those for 'restaurants' do not overlap. Some 'categories' have values only the top category values. Now let's count how many of thses 256 subcateogires are actually in my dataframe."
   ]
  },
  {
   "cell_type": "code",
   "execution_count": 154,
   "metadata": {},
   "outputs": [],
   "source": [
    "subcategories_in_df = [category for category in subcategories if category in food_restaurant_categories]"
   ]
  },
  {
   "cell_type": "code",
   "execution_count": 156,
   "metadata": {},
   "outputs": [
    {
     "data": {
      "text/plain": [
       "192"
      ]
     },
     "execution_count": 156,
     "metadata": {},
     "output_type": "execute_result"
    }
   ],
   "source": [
    "len(subcategories_in_df)"
   ]
  },
  {
   "cell_type": "code",
   "execution_count": 162,
   "metadata": {},
   "outputs": [
    {
     "name": "stdout",
     "output_type": "stream",
     "text": [
      "Subcategories right below the top categories (food and restaurants) existing in the dataframe:\n",
      "\n",
      "['Acai Bowls', 'Afghan', 'African', 'Arabian', 'Argentine', 'Armenian', 'Asian Fusion', 'Australian', 'Austrian', 'Backshop', 'Bagels', 'Baguettes', 'Bakeries', 'Bangladeshi', 'Basque', 'Bavarian', 'Barbeque', 'Beer Garden', 'Beer Hall', 'Belgian', 'Beverage Store', 'Bistros', 'Brasseries', 'Brazilian', 'Breakfast & Brunch', 'Breweries', 'British', 'Bubble Tea', 'Buffets', 'Bulgarian', 'Burgers', 'Burmese', 'Butcher', 'Cafes', 'Cafeteria', 'Cajun/Creole', 'Patisserie/Cake Shop', 'Cambodian', 'Caribbean', 'Cheesesteaks', 'Chicken Wings', 'Chicken Shop', 'Chilean', 'Chinese', 'Churros', 'Cideries', 'Coffee & Tea', 'Coffee Roasteries', 'Coffee & Tea Supplies', 'Comfort Food', 'Convenience Stores', 'Creperies', 'CSA', 'Cuban', 'Cupcakes', 'Custom Cakes', 'Czech', 'Czech/Slovakian', 'Delicatessen', 'Delis', 'Desserts', 'Diners', 'Dinner Theater', 'Distilleries', 'Do-It-Yourself Food', 'Donairs', 'Donuts', 'Eastern European', 'Empanadas', 'Ethical Grocery', 'Ethiopian', 'Farmers Market', 'Filipino', 'Fishmonger', 'Fish & Chips', 'Fondue', 'Food Court', 'Food Delivery Services', 'Food Stands', 'Food Trucks', 'French', 'Game Meat', 'Gastropubs', 'Gelato', 'German', 'Gluten-Free', 'Specialty Food', 'Greek', 'Grocery', 'Guamanian', 'Halal', 'Hawaiian', 'Himalayan/Nepalese', 'Hong Kong Style Cafe', 'Honduran', 'Honey', 'Hot Dogs', 'Fast Food', 'Hot Pot', 'Hungarian', 'Iberian', 'Ice Cream & Frozen Yogurt', 'Imported Food', 'Indonesian', 'Indian', 'International', 'Internet Cafes', 'International Grocery', 'Irish', 'Island Pub', 'Italian', 'Japanese', 'Japanese Sweets', 'Juice Bars & Smoothies', 'Kebab', 'Kombucha', 'Korean', 'Kosher', 'Laotian', 'Latin American', 'Malaysian', 'Mediterranean', 'Mexican', 'Middle Eastern', 'Milkshake Bars', 'Modern European', 'Mongolian', 'Moroccan', 'American (New)', 'Canadian (New)', 'New Mexican Cuisine', 'Nicaraguan', 'Noodles', 'Traditional Norwegian', 'Organic Stores', 'Pakistani', 'Pan Asian', 'Persian/Iranian', 'Peruvian', 'Pita', 'Pizza', 'Poke', 'Polish', 'Pop-Up Restaurants', 'Portuguese', 'Poutineries', 'Pretzels', 'Pub Food', 'Live/Raw Food', 'Rotisserie Chicken', 'Russian', 'Salad', 'Sandwiches', 'Scandinavian', 'Scottish', 'Seafood', 'Serbo Croatian', 'Shaved Ice', 'Shaved Snow', 'Signature Cuisine', 'Singaporean', 'Slovakian', 'Smokehouse', 'Soul Food', 'Soup', 'Southern', 'Spanish', 'Sri Lankan', 'Steakhouses', 'Street Vendors', 'Sugar Shacks', 'Supper Clubs', 'Sushi Bars', 'Swiss Food', 'Syrian', 'Taiwanese', 'Tapas Bars', 'Tapas/Small Plates', 'Tea Rooms', 'Tex-Mex', 'Thai', 'American (Traditional)', 'Turkish', 'Ukrainian', 'Uzbek', 'Vegan', 'Vegetarian', 'Vietnamese', 'Waffles', 'Water Stores', 'Wineries', 'Wraps']\n"
     ]
    }
   ],
   "source": [
    "print(\"Subcategories right below the top categories (food and restaurants) existing in the dataframe:\\n\")\n",
    "print(subcategories_in_df)"
   ]
  },
  {
   "cell_type": "markdown",
   "metadata": {},
   "source": [
    "These seem to be still too many to make a column for each category, but this information can be useful when deciding how similar two businesses are. I will decide how to use this information later."
   ]
  },
  {
   "cell_type": "markdown",
   "metadata": {},
   "source": [
    "#### Saving cleaned dataframes"
   ]
  },
  {
   "cell_type": "code",
   "execution_count": 454,
   "metadata": {},
   "outputs": [],
   "source": [
    "business_df.to_csv('business.csv')"
   ]
  },
  {
   "cell_type": "code",
   "execution_count": 474,
   "metadata": {},
   "outputs": [
    {
     "data": {
      "text/plain": [
       "True"
      ]
     },
     "execution_count": 474,
     "metadata": {},
     "output_type": "execute_result"
    }
   ],
   "source": [
    "food_restaurant_business_df.food_and_restaurant.sum() == len(food_restaurant_business_df)"
   ]
  },
  {
   "cell_type": "markdown",
   "metadata": {},
   "source": [
    "We do not need food_and_restaurant column anymore since it is all 1 in food_restaurant_business_df. Thus, I will drop the column."
   ]
  },
  {
   "cell_type": "code",
   "execution_count": 475,
   "metadata": {},
   "outputs": [],
   "source": [
    "food_restaurant_business_df = food_restaurant_business_df.drop(columns = 'food_and_restaurant')"
   ]
  },
  {
   "cell_type": "code",
   "execution_count": 476,
   "metadata": {},
   "outputs": [],
   "source": [
    "food_restaurant_business_df.to_csv('food_restaurant_business.csv')"
   ]
  },
  {
   "cell_type": "code",
   "execution_count": null,
   "metadata": {},
   "outputs": [],
   "source": []
  },
  {
   "cell_type": "markdown",
   "metadata": {},
   "source": [
    "<a id='Review'></a>\n",
    "\n",
    "### 2. Review Data"
   ]
  },
  {
   "cell_type": "code",
   "execution_count": 423,
   "metadata": {},
   "outputs": [
    {
     "name": "stdout",
     "output_type": "stream",
     "text": [
      "dict_keys(['review_id', 'user_id', 'business_id', 'stars', 'date', 'text', 'useful', 'funny', 'cool']) \n",
      "\n",
      "review_id :   x7mDIiDB3jEiPGPHOmDzyw\n",
      "user_id :   msQe1u7Z_XuqjGoqhB0J5g\n",
      "business_id :   iCQpiavjjPzJ5_3gPD5Ebg\n",
      "stars :   2\n",
      "date :   2011-02-25\n",
      "text :   The pizza was okay. Not the best I've had. I prefer Biaggio's on Flamingo / Fort Apache. The chef there can make a MUCH better NY style pizza. The pizzeria @ Cosmo was over priced for the quality and lack of personality in the food. Biaggio's is a much better pick if youre going for italian - family owned, home made recipes, people that actually CARE if you like their food. You dont get that at a pizzeria in a casino. I dont care what you say...\n",
      "useful :   0\n",
      "funny :   0\n",
      "cool :   0\n"
     ]
    }
   ],
   "source": [
    "with open('yelp_academic_dataset_review.json',encoding=\"utf8\") as fin:\n",
    "    for line in fin:\n",
    "        print(json.loads(line).keys(),\"\\n\")\n",
    "        \n",
    "        for key, value in json.loads(line).items():\n",
    "            print(key,\":  \", value)\n",
    "        break # to check only one line"
   ]
  },
  {
   "cell_type": "code",
   "execution_count": 424,
   "metadata": {},
   "outputs": [],
   "source": [
    "#review_df = pd.read_json('yelp_academic_dataset_review.json', lines=True)"
   ]
  },
  {
   "cell_type": "markdown",
   "metadata": {},
   "source": [
    "Above threw memory error. I will use the csv file converted by json_to_csv_converter_updated.py in order to make df without the 'text' column. The text column can be used later if needed after removing some data not in my interest."
   ]
  },
  {
   "cell_type": "code",
   "execution_count": 425,
   "metadata": {},
   "outputs": [],
   "source": [
    "review_df = pd.read_csv('yelp_academic_dataset_review.csv', \n",
    "                        usecols=['review_id', 'user_id', 'business_id', 'stars', 'date', 'useful', 'funny', 'cool'])"
   ]
  },
  {
   "cell_type": "code",
   "execution_count": 426,
   "metadata": {
    "scrolled": true
   },
   "outputs": [
    {
     "name": "stdout",
     "output_type": "stream",
     "text": [
      "<class 'pandas.core.frame.DataFrame'>\n",
      "RangeIndex: 5996996 entries, 0 to 5996995\n",
      "Data columns (total 8 columns):\n",
      "useful         int64\n",
      "date           object\n",
      "user_id        object\n",
      "review_id      object\n",
      "cool           int64\n",
      "funny          int64\n",
      "business_id    object\n",
      "stars          int64\n",
      "dtypes: int64(4), object(4)\n",
      "memory usage: 366.0+ MB\n"
     ]
    }
   ],
   "source": [
    "review_df.info()"
   ]
  },
  {
   "cell_type": "markdown",
   "metadata": {},
   "source": [
    "There are 5,996,996 reviews (almost 6 millions) originally."
   ]
  },
  {
   "cell_type": "code",
   "execution_count": 427,
   "metadata": {
    "scrolled": true
   },
   "outputs": [
    {
     "data": {
      "text/html": [
       "<div>\n",
       "<style scoped>\n",
       "    .dataframe tbody tr th:only-of-type {\n",
       "        vertical-align: middle;\n",
       "    }\n",
       "\n",
       "    .dataframe tbody tr th {\n",
       "        vertical-align: top;\n",
       "    }\n",
       "\n",
       "    .dataframe thead th {\n",
       "        text-align: right;\n",
       "    }\n",
       "</style>\n",
       "<table border=\"1\" class=\"dataframe\">\n",
       "  <thead>\n",
       "    <tr style=\"text-align: right;\">\n",
       "      <th></th>\n",
       "      <th>useful</th>\n",
       "      <th>date</th>\n",
       "      <th>user_id</th>\n",
       "      <th>review_id</th>\n",
       "      <th>cool</th>\n",
       "      <th>funny</th>\n",
       "      <th>business_id</th>\n",
       "      <th>stars</th>\n",
       "    </tr>\n",
       "  </thead>\n",
       "  <tbody>\n",
       "    <tr>\n",
       "      <th>0</th>\n",
       "      <td>0</td>\n",
       "      <td>b'2011-02-25'</td>\n",
       "      <td>b'msQe1u7Z_XuqjGoqhB0J5g'</td>\n",
       "      <td>b'x7mDIiDB3jEiPGPHOmDzyw'</td>\n",
       "      <td>0</td>\n",
       "      <td>0</td>\n",
       "      <td>b'iCQpiavjjPzJ5_3gPD5Ebg'</td>\n",
       "      <td>2</td>\n",
       "    </tr>\n",
       "    <tr>\n",
       "      <th>1</th>\n",
       "      <td>0</td>\n",
       "      <td>b'2012-11-13'</td>\n",
       "      <td>b'msQe1u7Z_XuqjGoqhB0J5g'</td>\n",
       "      <td>b'dDl8zu1vWPdKGihJrwQbpw'</td>\n",
       "      <td>0</td>\n",
       "      <td>0</td>\n",
       "      <td>b'pomGBqfbxcqPv14c3XH-ZQ'</td>\n",
       "      <td>5</td>\n",
       "    </tr>\n",
       "    <tr>\n",
       "      <th>2</th>\n",
       "      <td>3</td>\n",
       "      <td>b'2014-10-23'</td>\n",
       "      <td>b'msQe1u7Z_XuqjGoqhB0J5g'</td>\n",
       "      <td>b'LZp4UX5zK3e-c5ZGSeo3kA'</td>\n",
       "      <td>1</td>\n",
       "      <td>1</td>\n",
       "      <td>b'jtQARsP6P-LbkyjbO1qNGg'</td>\n",
       "      <td>1</td>\n",
       "    </tr>\n",
       "    <tr>\n",
       "      <th>3</th>\n",
       "      <td>2</td>\n",
       "      <td>b'2011-02-25'</td>\n",
       "      <td>b'msQe1u7Z_XuqjGoqhB0J5g'</td>\n",
       "      <td>b'Er4NBWCmCD4nM8_p1GRdow'</td>\n",
       "      <td>0</td>\n",
       "      <td>0</td>\n",
       "      <td>b'elqbBhBfElMNSrjFqW3now'</td>\n",
       "      <td>2</td>\n",
       "    </tr>\n",
       "    <tr>\n",
       "      <th>4</th>\n",
       "      <td>0</td>\n",
       "      <td>b'2014-09-05'</td>\n",
       "      <td>b'msQe1u7Z_XuqjGoqhB0J5g'</td>\n",
       "      <td>b'jsDu6QEJHbwP2Blom1PLCA'</td>\n",
       "      <td>0</td>\n",
       "      <td>0</td>\n",
       "      <td>b'Ums3gaP2qM3W1XcA5r6SsQ'</td>\n",
       "      <td>5</td>\n",
       "    </tr>\n",
       "  </tbody>\n",
       "</table>\n",
       "</div>"
      ],
      "text/plain": [
       "   useful           date                    user_id  \\\n",
       "0       0  b'2011-02-25'  b'msQe1u7Z_XuqjGoqhB0J5g'   \n",
       "1       0  b'2012-11-13'  b'msQe1u7Z_XuqjGoqhB0J5g'   \n",
       "2       3  b'2014-10-23'  b'msQe1u7Z_XuqjGoqhB0J5g'   \n",
       "3       2  b'2011-02-25'  b'msQe1u7Z_XuqjGoqhB0J5g'   \n",
       "4       0  b'2014-09-05'  b'msQe1u7Z_XuqjGoqhB0J5g'   \n",
       "\n",
       "                   review_id  cool  funny                business_id  stars  \n",
       "0  b'x7mDIiDB3jEiPGPHOmDzyw'     0      0  b'iCQpiavjjPzJ5_3gPD5Ebg'      2  \n",
       "1  b'dDl8zu1vWPdKGihJrwQbpw'     0      0  b'pomGBqfbxcqPv14c3XH-ZQ'      5  \n",
       "2  b'LZp4UX5zK3e-c5ZGSeo3kA'     1      1  b'jtQARsP6P-LbkyjbO1qNGg'      1  \n",
       "3  b'Er4NBWCmCD4nM8_p1GRdow'     0      0  b'elqbBhBfElMNSrjFqW3now'      2  \n",
       "4  b'jsDu6QEJHbwP2Blom1PLCA'     0      0  b'Ums3gaP2qM3W1XcA5r6SsQ'      5  "
      ]
     },
     "execution_count": 427,
     "metadata": {},
     "output_type": "execute_result"
    }
   ],
   "source": [
    "review_df.head()"
   ]
  },
  {
   "cell_type": "code",
   "execution_count": 428,
   "metadata": {
    "scrolled": true
   },
   "outputs": [],
   "source": [
    "#for col in ['review_id', 'user_id', 'business_id', 'date']:\n",
    "#    review_df[col]=review_df[col].apply(lambda x: x.decode('utf-8'))"
   ]
  },
  {
   "cell_type": "code",
   "execution_count": 429,
   "metadata": {},
   "outputs": [],
   "source": [
    "#for col in ['review_id', 'user_id', 'business_id', 'date']:\n",
    "#    review_df[col]=review_df[col].str.decode('utf-8') also does not work"
   ]
  },
  {
   "cell_type": "markdown",
   "metadata": {},
   "source": [
    "The above codes threw an error \"AttributeError: 'str' object has no attribute 'decode'\". Why? (see below for the answer)"
   ]
  },
  {
   "cell_type": "code",
   "execution_count": 430,
   "metadata": {
    "scrolled": true
   },
   "outputs": [
    {
     "data": {
      "text/plain": [
       "\"b'2011-02-25'\""
      ]
     },
     "execution_count": 430,
     "metadata": {},
     "output_type": "execute_result"
    }
   ],
   "source": [
    "review_df['date'][0]"
   ]
  },
  {
   "cell_type": "code",
   "execution_count": 431,
   "metadata": {
    "scrolled": false
   },
   "outputs": [
    {
     "data": {
      "text/plain": [
       "'2011-02-25'"
      ]
     },
     "execution_count": 431,
     "metadata": {},
     "output_type": "execute_result"
    }
   ],
   "source": [
    "review_df['date'][0][2:-1]"
   ]
  },
  {
   "cell_type": "markdown",
   "metadata": {},
   "source": [
    "The error above was caused because b' ' is included inside string (not byte type), so I will just remove them using indexing (from 2 to -1)"
   ]
  },
  {
   "cell_type": "code",
   "execution_count": 432,
   "metadata": {},
   "outputs": [],
   "source": [
    "for col in ['review_id', 'user_id', 'business_id', 'date']:\n",
    "    review_df[col]=review_df[col].apply(lambda x: x[2:-1])"
   ]
  },
  {
   "cell_type": "code",
   "execution_count": 433,
   "metadata": {
    "scrolled": true
   },
   "outputs": [
    {
     "data": {
      "text/html": [
       "<div>\n",
       "<style scoped>\n",
       "    .dataframe tbody tr th:only-of-type {\n",
       "        vertical-align: middle;\n",
       "    }\n",
       "\n",
       "    .dataframe tbody tr th {\n",
       "        vertical-align: top;\n",
       "    }\n",
       "\n",
       "    .dataframe thead th {\n",
       "        text-align: right;\n",
       "    }\n",
       "</style>\n",
       "<table border=\"1\" class=\"dataframe\">\n",
       "  <thead>\n",
       "    <tr style=\"text-align: right;\">\n",
       "      <th></th>\n",
       "      <th>useful</th>\n",
       "      <th>date</th>\n",
       "      <th>user_id</th>\n",
       "      <th>review_id</th>\n",
       "      <th>cool</th>\n",
       "      <th>funny</th>\n",
       "      <th>business_id</th>\n",
       "      <th>stars</th>\n",
       "    </tr>\n",
       "  </thead>\n",
       "  <tbody>\n",
       "    <tr>\n",
       "      <th>0</th>\n",
       "      <td>0</td>\n",
       "      <td>2011-02-25</td>\n",
       "      <td>msQe1u7Z_XuqjGoqhB0J5g</td>\n",
       "      <td>x7mDIiDB3jEiPGPHOmDzyw</td>\n",
       "      <td>0</td>\n",
       "      <td>0</td>\n",
       "      <td>iCQpiavjjPzJ5_3gPD5Ebg</td>\n",
       "      <td>2</td>\n",
       "    </tr>\n",
       "    <tr>\n",
       "      <th>1</th>\n",
       "      <td>0</td>\n",
       "      <td>2012-11-13</td>\n",
       "      <td>msQe1u7Z_XuqjGoqhB0J5g</td>\n",
       "      <td>dDl8zu1vWPdKGihJrwQbpw</td>\n",
       "      <td>0</td>\n",
       "      <td>0</td>\n",
       "      <td>pomGBqfbxcqPv14c3XH-ZQ</td>\n",
       "      <td>5</td>\n",
       "    </tr>\n",
       "    <tr>\n",
       "      <th>2</th>\n",
       "      <td>3</td>\n",
       "      <td>2014-10-23</td>\n",
       "      <td>msQe1u7Z_XuqjGoqhB0J5g</td>\n",
       "      <td>LZp4UX5zK3e-c5ZGSeo3kA</td>\n",
       "      <td>1</td>\n",
       "      <td>1</td>\n",
       "      <td>jtQARsP6P-LbkyjbO1qNGg</td>\n",
       "      <td>1</td>\n",
       "    </tr>\n",
       "    <tr>\n",
       "      <th>3</th>\n",
       "      <td>2</td>\n",
       "      <td>2011-02-25</td>\n",
       "      <td>msQe1u7Z_XuqjGoqhB0J5g</td>\n",
       "      <td>Er4NBWCmCD4nM8_p1GRdow</td>\n",
       "      <td>0</td>\n",
       "      <td>0</td>\n",
       "      <td>elqbBhBfElMNSrjFqW3now</td>\n",
       "      <td>2</td>\n",
       "    </tr>\n",
       "    <tr>\n",
       "      <th>4</th>\n",
       "      <td>0</td>\n",
       "      <td>2014-09-05</td>\n",
       "      <td>msQe1u7Z_XuqjGoqhB0J5g</td>\n",
       "      <td>jsDu6QEJHbwP2Blom1PLCA</td>\n",
       "      <td>0</td>\n",
       "      <td>0</td>\n",
       "      <td>Ums3gaP2qM3W1XcA5r6SsQ</td>\n",
       "      <td>5</td>\n",
       "    </tr>\n",
       "  </tbody>\n",
       "</table>\n",
       "</div>"
      ],
      "text/plain": [
       "   useful        date                 user_id               review_id  cool  \\\n",
       "0       0  2011-02-25  msQe1u7Z_XuqjGoqhB0J5g  x7mDIiDB3jEiPGPHOmDzyw     0   \n",
       "1       0  2012-11-13  msQe1u7Z_XuqjGoqhB0J5g  dDl8zu1vWPdKGihJrwQbpw     0   \n",
       "2       3  2014-10-23  msQe1u7Z_XuqjGoqhB0J5g  LZp4UX5zK3e-c5ZGSeo3kA     1   \n",
       "3       2  2011-02-25  msQe1u7Z_XuqjGoqhB0J5g  Er4NBWCmCD4nM8_p1GRdow     0   \n",
       "4       0  2014-09-05  msQe1u7Z_XuqjGoqhB0J5g  jsDu6QEJHbwP2Blom1PLCA     0   \n",
       "\n",
       "   funny             business_id  stars  \n",
       "0      0  iCQpiavjjPzJ5_3gPD5Ebg      2  \n",
       "1      0  pomGBqfbxcqPv14c3XH-ZQ      5  \n",
       "2      1  jtQARsP6P-LbkyjbO1qNGg      1  \n",
       "3      0  elqbBhBfElMNSrjFqW3now      2  \n",
       "4      0  Ums3gaP2qM3W1XcA5r6SsQ      5  "
      ]
     },
     "execution_count": 433,
     "metadata": {},
     "output_type": "execute_result"
    }
   ],
   "source": [
    "review_df.head()"
   ]
  },
  {
   "cell_type": "code",
   "execution_count": 434,
   "metadata": {},
   "outputs": [
    {
     "name": "stdout",
     "output_type": "stream",
     "text": [
      "\n",
      " string columns: ['date', 'user_id', 'review_id', 'business_id']\n"
     ]
    }
   ],
   "source": [
    "# find string columns\n",
    "str_columns =[]\n",
    "for col in review_df.columns:\n",
    "    if isinstance(review_df[col][0],str):\n",
    "        str_columns.append(col)\n",
    "        \n",
    "print(\"\\n string columns:\", str_columns)"
   ]
  },
  {
   "cell_type": "code",
   "execution_count": 435,
   "metadata": {
    "scrolled": true
   },
   "outputs": [
    {
     "name": "stdout",
     "output_type": "stream",
     "text": [
      "date 0\n",
      "user_id 0\n",
      "review_id 0\n",
      "business_id 0\n"
     ]
    }
   ],
   "source": [
    "# count empty or 'None' strings\n",
    "for col in str_columns:\n",
    "    print(col, sum([1 for x in review_df[col] if (x=='')|(x=='None')]))"
   ]
  },
  {
   "cell_type": "markdown",
   "metadata": {},
   "source": [
    "Non numerical columns now look great and have no missing values. Let's check numerical columns now."
   ]
  },
  {
   "cell_type": "code",
   "execution_count": 436,
   "metadata": {},
   "outputs": [
    {
     "data": {
      "text/plain": [
       "useful         0\n",
       "date           0\n",
       "user_id        0\n",
       "review_id      0\n",
       "cool           0\n",
       "funny          0\n",
       "business_id    0\n",
       "stars          0\n",
       "dtype: int64"
      ]
     },
     "execution_count": 436,
     "metadata": {},
     "output_type": "execute_result"
    }
   ],
   "source": [
    "review_df.isna().sum()"
   ]
  },
  {
   "cell_type": "code",
   "execution_count": 437,
   "metadata": {},
   "outputs": [
    {
     "data": {
      "text/html": [
       "<div>\n",
       "<style scoped>\n",
       "    .dataframe tbody tr th:only-of-type {\n",
       "        vertical-align: middle;\n",
       "    }\n",
       "\n",
       "    .dataframe tbody tr th {\n",
       "        vertical-align: top;\n",
       "    }\n",
       "\n",
       "    .dataframe thead th {\n",
       "        text-align: right;\n",
       "    }\n",
       "</style>\n",
       "<table border=\"1\" class=\"dataframe\">\n",
       "  <thead>\n",
       "    <tr style=\"text-align: right;\">\n",
       "      <th></th>\n",
       "      <th>useful</th>\n",
       "      <th>cool</th>\n",
       "      <th>funny</th>\n",
       "      <th>stars</th>\n",
       "    </tr>\n",
       "  </thead>\n",
       "  <tbody>\n",
       "    <tr>\n",
       "      <th>count</th>\n",
       "      <td>5.996996e+06</td>\n",
       "      <td>5.996996e+06</td>\n",
       "      <td>5.996996e+06</td>\n",
       "      <td>5.996996e+06</td>\n",
       "    </tr>\n",
       "    <tr>\n",
       "      <th>mean</th>\n",
       "      <td>1.368465e+00</td>\n",
       "      <td>5.816597e-01</td>\n",
       "      <td>4.911249e-01</td>\n",
       "      <td>3.736306e+00</td>\n",
       "    </tr>\n",
       "    <tr>\n",
       "      <th>std</th>\n",
       "      <td>3.713469e+00</td>\n",
       "      <td>2.316354e+00</td>\n",
       "      <td>2.406411e+00</td>\n",
       "      <td>1.447924e+00</td>\n",
       "    </tr>\n",
       "    <tr>\n",
       "      <th>min</th>\n",
       "      <td>-1.000000e+00</td>\n",
       "      <td>-1.000000e+00</td>\n",
       "      <td>0.000000e+00</td>\n",
       "      <td>0.000000e+00</td>\n",
       "    </tr>\n",
       "    <tr>\n",
       "      <th>25%</th>\n",
       "      <td>0.000000e+00</td>\n",
       "      <td>0.000000e+00</td>\n",
       "      <td>0.000000e+00</td>\n",
       "      <td>3.000000e+00</td>\n",
       "    </tr>\n",
       "    <tr>\n",
       "      <th>50%</th>\n",
       "      <td>0.000000e+00</td>\n",
       "      <td>0.000000e+00</td>\n",
       "      <td>0.000000e+00</td>\n",
       "      <td>4.000000e+00</td>\n",
       "    </tr>\n",
       "    <tr>\n",
       "      <th>75%</th>\n",
       "      <td>2.000000e+00</td>\n",
       "      <td>1.000000e+00</td>\n",
       "      <td>0.000000e+00</td>\n",
       "      <td>5.000000e+00</td>\n",
       "    </tr>\n",
       "    <tr>\n",
       "      <th>max</th>\n",
       "      <td>1.234000e+03</td>\n",
       "      <td>5.050000e+02</td>\n",
       "      <td>9.910000e+02</td>\n",
       "      <td>5.000000e+00</td>\n",
       "    </tr>\n",
       "  </tbody>\n",
       "</table>\n",
       "</div>"
      ],
      "text/plain": [
       "             useful          cool         funny         stars\n",
       "count  5.996996e+06  5.996996e+06  5.996996e+06  5.996996e+06\n",
       "mean   1.368465e+00  5.816597e-01  4.911249e-01  3.736306e+00\n",
       "std    3.713469e+00  2.316354e+00  2.406411e+00  1.447924e+00\n",
       "min   -1.000000e+00 -1.000000e+00  0.000000e+00  0.000000e+00\n",
       "25%    0.000000e+00  0.000000e+00  0.000000e+00  3.000000e+00\n",
       "50%    0.000000e+00  0.000000e+00  0.000000e+00  4.000000e+00\n",
       "75%    2.000000e+00  1.000000e+00  0.000000e+00  5.000000e+00\n",
       "max    1.234000e+03  5.050000e+02  9.910000e+02  5.000000e+00"
      ]
     },
     "execution_count": 437,
     "metadata": {},
     "output_type": "execute_result"
    }
   ],
   "source": [
    "review_df.describe()"
   ]
  },
  {
   "cell_type": "code",
   "execution_count": 438,
   "metadata": {
    "scrolled": true
   },
   "outputs": [
    {
     "data": {
      "image/png": "[encoded data removed]",
      "text/plain": [
       "<Figure size 576x360 with 4 Axes>"
      ]
     },
     "metadata": {},
     "output_type": "display_data"
    }
   ],
   "source": [
    "review_df.hist(bins=20, figsize=(8,5))\n",
    "plt.show()"
   ]
  },
  {
   "cell_type": "code",
   "execution_count": 439,
   "metadata": {},
   "outputs": [
    {
     "name": "stdout",
     "output_type": "stream",
     "text": [
      "cool min: -1 max: 505\n",
      "funny min: 0 max: 991\n",
      "stars min: 0 max: 5\n",
      "useful min: -1 max: 1234\n"
     ]
    }
   ],
   "source": [
    "# min and max for numerical columns\n",
    "for col in ['cool','funny','stars','useful']:\n",
    "    print(col, \"min:\", review_df[col].min(), \"max:\", review_df[col].max())"
   ]
  },
  {
   "cell_type": "markdown",
   "metadata": {},
   "source": [
    "- The reviews cannot have negative values for 'cool' or 'useful' counts, so I guess -1 fot those columns represents missing values. \n",
    "- There is no zero star option in Yelp ratings, so I assume 0 stars represent missing values."
   ]
  },
  {
   "cell_type": "code",
   "execution_count": 440,
   "metadata": {},
   "outputs": [
    {
     "data": {
      "text/html": [
       "<div>\n",
       "<style scoped>\n",
       "    .dataframe tbody tr th:only-of-type {\n",
       "        vertical-align: middle;\n",
       "    }\n",
       "\n",
       "    .dataframe tbody tr th {\n",
       "        vertical-align: top;\n",
       "    }\n",
       "\n",
       "    .dataframe thead th {\n",
       "        text-align: right;\n",
       "    }\n",
       "</style>\n",
       "<table border=\"1\" class=\"dataframe\">\n",
       "  <thead>\n",
       "    <tr style=\"text-align: right;\">\n",
       "      <th></th>\n",
       "      <th>useful</th>\n",
       "      <th>date</th>\n",
       "      <th>user_id</th>\n",
       "      <th>review_id</th>\n",
       "      <th>cool</th>\n",
       "      <th>funny</th>\n",
       "      <th>business_id</th>\n",
       "      <th>stars</th>\n",
       "    </tr>\n",
       "  </thead>\n",
       "  <tbody>\n",
       "    <tr>\n",
       "      <th>3445401</th>\n",
       "      <td>-1</td>\n",
       "      <td>2017-05-15</td>\n",
       "      <td>S7oukZE-NH_33uuWuR47LQ</td>\n",
       "      <td>hx5oI9l2xXwZMqyoiMXbeg</td>\n",
       "      <td>-1</td>\n",
       "      <td>0</td>\n",
       "      <td>ohEnmKpF7i2_ujme1p_vUQ</td>\n",
       "      <td>5</td>\n",
       "    </tr>\n",
       "  </tbody>\n",
       "</table>\n",
       "</div>"
      ],
      "text/plain": [
       "         useful        date                 user_id               review_id  \\\n",
       "3445401      -1  2017-05-15  S7oukZE-NH_33uuWuR47LQ  hx5oI9l2xXwZMqyoiMXbeg   \n",
       "\n",
       "         cool  funny             business_id  stars  \n",
       "3445401    -1      0  ohEnmKpF7i2_ujme1p_vUQ      5  "
      ]
     },
     "execution_count": 440,
     "metadata": {},
     "output_type": "execute_result"
    }
   ],
   "source": [
    "review_df[review_df.cool == -1]"
   ]
  },
  {
   "cell_type": "code",
   "execution_count": 441,
   "metadata": {
    "scrolled": true
   },
   "outputs": [
    {
     "data": {
      "text/html": [
       "<div>\n",
       "<style scoped>\n",
       "    .dataframe tbody tr th:only-of-type {\n",
       "        vertical-align: middle;\n",
       "    }\n",
       "\n",
       "    .dataframe tbody tr th {\n",
       "        vertical-align: top;\n",
       "    }\n",
       "\n",
       "    .dataframe thead th {\n",
       "        text-align: right;\n",
       "    }\n",
       "</style>\n",
       "<table border=\"1\" class=\"dataframe\">\n",
       "  <thead>\n",
       "    <tr style=\"text-align: right;\">\n",
       "      <th></th>\n",
       "      <th>useful</th>\n",
       "      <th>date</th>\n",
       "      <th>user_id</th>\n",
       "      <th>review_id</th>\n",
       "      <th>cool</th>\n",
       "      <th>funny</th>\n",
       "      <th>business_id</th>\n",
       "      <th>stars</th>\n",
       "    </tr>\n",
       "  </thead>\n",
       "  <tbody>\n",
       "    <tr>\n",
       "      <th>3445401</th>\n",
       "      <td>-1</td>\n",
       "      <td>2017-05-15</td>\n",
       "      <td>S7oukZE-NH_33uuWuR47LQ</td>\n",
       "      <td>hx5oI9l2xXwZMqyoiMXbeg</td>\n",
       "      <td>-1</td>\n",
       "      <td>0</td>\n",
       "      <td>ohEnmKpF7i2_ujme1p_vUQ</td>\n",
       "      <td>5</td>\n",
       "    </tr>\n",
       "  </tbody>\n",
       "</table>\n",
       "</div>"
      ],
      "text/plain": [
       "         useful        date                 user_id               review_id  \\\n",
       "3445401      -1  2017-05-15  S7oukZE-NH_33uuWuR47LQ  hx5oI9l2xXwZMqyoiMXbeg   \n",
       "\n",
       "         cool  funny             business_id  stars  \n",
       "3445401    -1      0  ohEnmKpF7i2_ujme1p_vUQ      5  "
      ]
     },
     "execution_count": 441,
     "metadata": {},
     "output_type": "execute_result"
    }
   ],
   "source": [
    "review_df[review_df.useful == -1]"
   ]
  },
  {
   "cell_type": "markdown",
   "metadata": {},
   "source": [
    "It is the same review that has -1 for 'cool' and 'useful' and there is only 1 case. Thus, I will remove this review."
   ]
  },
  {
   "cell_type": "code",
   "execution_count": 442,
   "metadata": {},
   "outputs": [
    {
     "data": {
      "text/html": [
       "<div>\n",
       "<style scoped>\n",
       "    .dataframe tbody tr th:only-of-type {\n",
       "        vertical-align: middle;\n",
       "    }\n",
       "\n",
       "    .dataframe tbody tr th {\n",
       "        vertical-align: top;\n",
       "    }\n",
       "\n",
       "    .dataframe thead th {\n",
       "        text-align: right;\n",
       "    }\n",
       "</style>\n",
       "<table border=\"1\" class=\"dataframe\">\n",
       "  <thead>\n",
       "    <tr style=\"text-align: right;\">\n",
       "      <th></th>\n",
       "      <th>useful</th>\n",
       "      <th>date</th>\n",
       "      <th>user_id</th>\n",
       "      <th>review_id</th>\n",
       "      <th>cool</th>\n",
       "      <th>funny</th>\n",
       "      <th>business_id</th>\n",
       "      <th>stars</th>\n",
       "    </tr>\n",
       "  </thead>\n",
       "  <tbody>\n",
       "    <tr>\n",
       "      <th>4744944</th>\n",
       "      <td>0</td>\n",
       "      <td>2018-06-17</td>\n",
       "      <td>wrqh88xVEE1U5d_5TjzN4Q</td>\n",
       "      <td>QW01qOsaqlxMKoMazOw1Bg</td>\n",
       "      <td>0</td>\n",
       "      <td>0</td>\n",
       "      <td>FgNgBLayRFm6H6Qr66ecbQ</td>\n",
       "      <td>0</td>\n",
       "    </tr>\n",
       "  </tbody>\n",
       "</table>\n",
       "</div>"
      ],
      "text/plain": [
       "         useful        date                 user_id               review_id  \\\n",
       "4744944       0  2018-06-17  wrqh88xVEE1U5d_5TjzN4Q  QW01qOsaqlxMKoMazOw1Bg   \n",
       "\n",
       "         cool  funny             business_id  stars  \n",
       "4744944     0      0  FgNgBLayRFm6H6Qr66ecbQ      0  "
      ]
     },
     "execution_count": 442,
     "metadata": {},
     "output_type": "execute_result"
    }
   ],
   "source": [
    "review_df[review_df.stars == 0 ]"
   ]
  },
  {
   "cell_type": "markdown",
   "metadata": {},
   "source": [
    "There is also only one review that had 0 star (which is invalid), so I will drop this review as well."
   ]
  },
  {
   "cell_type": "code",
   "execution_count": 443,
   "metadata": {},
   "outputs": [],
   "source": [
    "review_df = review_df.drop([3445401,4744944])"
   ]
  },
  {
   "cell_type": "code",
   "execution_count": 444,
   "metadata": {},
   "outputs": [
    {
     "name": "stdout",
     "output_type": "stream",
     "text": [
      "cool min: 0 max: 505\n",
      "funny min: 0 max: 991\n",
      "stars min: 1 max: 5\n",
      "useful min: 0 max: 1234\n"
     ]
    }
   ],
   "source": [
    "# min and max for numerical columns\n",
    "for col in ['cool','funny','stars','useful']:\n",
    "    print(col, \"min:\", review_df[col].min(), \"max:\", review_df[col].max())"
   ]
  },
  {
   "cell_type": "markdown",
   "metadata": {},
   "source": [
    "Now those reviews are gone!"
   ]
  },
  {
   "cell_type": "markdown",
   "metadata": {},
   "source": [
    "#### Select Food and Restaurant reviews\n",
    "\n",
    "Since my analysis will focus on food and restaurant businesses, I will make a new dataframe for food and restaurant reviews. I can obtain business ids from the dataframe 'food_restaurant_business_df' which was cleaned above."
   ]
  },
  {
   "cell_type": "code",
   "execution_count": 445,
   "metadata": {},
   "outputs": [
    {
     "data": {
      "text/plain": [
       "0    Apn5Q_b6Nz61Tq4XzPdf9A\n",
       "1    AjEbIBw6ZFfln7ePHha9PA\n",
       "2    O8S5hYJ1SMc8fA4QBtVujA\n",
       "5    45bWSZtniwPRiqlivpS8Og\n",
       "6    9A2quhZLyWk0akUetBd8hQ\n",
       "Name: business_id, dtype: object"
      ]
     },
     "execution_count": 445,
     "metadata": {},
     "output_type": "execute_result"
    }
   ],
   "source": [
    "food_restaurant_business_df.business_id[:5]"
   ]
  },
  {
   "cell_type": "code",
   "execution_count": 446,
   "metadata": {},
   "outputs": [
    {
     "data": {
      "text/plain": [
       "72624"
      ]
     },
     "execution_count": 446,
     "metadata": {},
     "output_type": "execute_result"
    }
   ],
   "source": [
    "len(food_restaurant_business_df.business_id)"
   ]
  },
  {
   "cell_type": "code",
   "execution_count": 447,
   "metadata": {},
   "outputs": [
    {
     "data": {
      "text/plain": [
       "72624"
      ]
     },
     "execution_count": 447,
     "metadata": {},
     "output_type": "execute_result"
    }
   ],
   "source": [
    "food_restaurant_business_df.business_id.nunique()"
   ]
  },
  {
   "cell_type": "code",
   "execution_count": 449,
   "metadata": {},
   "outputs": [],
   "source": [
    "food_restaurant_review_df = review_df[review_df.business_id.isin(food_restaurant_business_df.business_id)]"
   ]
  },
  {
   "cell_type": "code",
   "execution_count": 450,
   "metadata": {},
   "outputs": [
    {
     "data": {
      "text/plain": [
       "4017884"
      ]
     },
     "execution_count": 450,
     "metadata": {},
     "output_type": "execute_result"
    }
   ],
   "source": [
    "len(food_restaurant_review_df)"
   ]
  },
  {
   "cell_type": "markdown",
   "metadata": {},
   "source": [
    "There were 5,996,996 reviews originally and now 4,017,884 are left after selecting the reviews for food and restaurants businesses."
   ]
  },
  {
   "cell_type": "markdown",
   "metadata": {},
   "source": [
    "#### Saving cleaned dataframes"
   ]
  },
  {
   "cell_type": "code",
   "execution_count": 453,
   "metadata": {},
   "outputs": [],
   "source": [
    "review_df.to_csv('review.csv')"
   ]
  },
  {
   "cell_type": "code",
   "execution_count": 451,
   "metadata": {},
   "outputs": [],
   "source": [
    "food_restaurant_review_df.to_csv('food_restaurant_review.csv')"
   ]
  },
  {
   "cell_type": "code",
   "execution_count": null,
   "metadata": {},
   "outputs": [],
   "source": []
  },
  {
   "cell_type": "markdown",
   "metadata": {},
   "source": [
    "<a id='User'></a>\n",
    "\n",
    "### 3. User Data"
   ]
  },
  {
   "cell_type": "code",
   "execution_count": 163,
   "metadata": {
    "scrolled": false
   },
   "outputs": [
    {
     "name": "stdout",
     "output_type": "stream",
     "text": [
      "dict_keys(['user_id', 'name', 'review_count', 'yelping_since', 'friends', 'useful', 'funny', 'cool', 'fans', 'elite', 'average_stars', 'compliment_hot', 'compliment_more', 'compliment_profile', 'compliment_cute', 'compliment_list', 'compliment_note', 'compliment_plain', 'compliment_cool', 'compliment_funny', 'compliment_writer', 'compliment_photos']) \n",
      "\n",
      "user_id :   lzlZwIpuSWXEnNS91wxjHw\n",
      "name :   Susan\n",
      "review_count :   1\n",
      "yelping_since :   2015-09-28\n",
      "friends :   None\n",
      "useful :   0\n",
      "funny :   0\n",
      "cool :   0\n",
      "fans :   0\n",
      "elite :   None\n",
      "average_stars :   2.0\n",
      "compliment_hot :   0\n",
      "compliment_more :   0\n",
      "compliment_profile :   0\n",
      "compliment_cute :   0\n",
      "compliment_list :   0\n",
      "compliment_note :   0\n",
      "compliment_plain :   0\n",
      "compliment_cool :   0\n",
      "compliment_funny :   0\n",
      "compliment_writer :   0\n",
      "compliment_photos :   0\n"
     ]
    }
   ],
   "source": [
    "with open('yelp_academic_dataset_user.json',encoding=\"utf8\") as fin:\n",
    "    for line in fin:\n",
    "        print(json.loads(line).keys(),\"\\n\")\n",
    "        \n",
    "        for key, value in json.loads(line).items():\n",
    "            print(key,\":  \", value)\n",
    "        break # to check only one line"
   ]
  },
  {
   "cell_type": "code",
   "execution_count": 165,
   "metadata": {},
   "outputs": [],
   "source": [
    "user_df = pd.read_json('yelp_academic_dataset_user.json', lines=True)"
   ]
  },
  {
   "cell_type": "code",
   "execution_count": 167,
   "metadata": {
    "scrolled": true
   },
   "outputs": [
    {
     "data": {
      "text/html": [
       "<div>\n",
       "<style scoped>\n",
       "    .dataframe tbody tr th:only-of-type {\n",
       "        vertical-align: middle;\n",
       "    }\n",
       "\n",
       "    .dataframe tbody tr th {\n",
       "        vertical-align: top;\n",
       "    }\n",
       "\n",
       "    .dataframe thead th {\n",
       "        text-align: right;\n",
       "    }\n",
       "</style>\n",
       "<table border=\"1\" class=\"dataframe\">\n",
       "  <thead>\n",
       "    <tr style=\"text-align: right;\">\n",
       "      <th></th>\n",
       "      <th>average_stars</th>\n",
       "      <th>compliment_cool</th>\n",
       "      <th>compliment_cute</th>\n",
       "      <th>compliment_funny</th>\n",
       "      <th>compliment_hot</th>\n",
       "      <th>compliment_list</th>\n",
       "      <th>compliment_more</th>\n",
       "      <th>compliment_note</th>\n",
       "      <th>compliment_photos</th>\n",
       "      <th>compliment_plain</th>\n",
       "      <th>...</th>\n",
       "      <th>cool</th>\n",
       "      <th>elite</th>\n",
       "      <th>fans</th>\n",
       "      <th>friends</th>\n",
       "      <th>funny</th>\n",
       "      <th>name</th>\n",
       "      <th>review_count</th>\n",
       "      <th>useful</th>\n",
       "      <th>user_id</th>\n",
       "      <th>yelping_since</th>\n",
       "    </tr>\n",
       "  </thead>\n",
       "  <tbody>\n",
       "    <tr>\n",
       "      <th>0</th>\n",
       "      <td>2.00</td>\n",
       "      <td>0</td>\n",
       "      <td>0</td>\n",
       "      <td>0</td>\n",
       "      <td>0</td>\n",
       "      <td>0</td>\n",
       "      <td>0</td>\n",
       "      <td>0</td>\n",
       "      <td>0</td>\n",
       "      <td>0</td>\n",
       "      <td>...</td>\n",
       "      <td>0</td>\n",
       "      <td>None</td>\n",
       "      <td>0</td>\n",
       "      <td>None</td>\n",
       "      <td>0</td>\n",
       "      <td>Susan</td>\n",
       "      <td>1</td>\n",
       "      <td>0</td>\n",
       "      <td>lzlZwIpuSWXEnNS91wxjHw</td>\n",
       "      <td>2015-09-28</td>\n",
       "    </tr>\n",
       "    <tr>\n",
       "      <th>1</th>\n",
       "      <td>5.00</td>\n",
       "      <td>0</td>\n",
       "      <td>0</td>\n",
       "      <td>0</td>\n",
       "      <td>0</td>\n",
       "      <td>0</td>\n",
       "      <td>0</td>\n",
       "      <td>0</td>\n",
       "      <td>0</td>\n",
       "      <td>0</td>\n",
       "      <td>...</td>\n",
       "      <td>0</td>\n",
       "      <td>None</td>\n",
       "      <td>0</td>\n",
       "      <td>None</td>\n",
       "      <td>0</td>\n",
       "      <td>Daipayan</td>\n",
       "      <td>2</td>\n",
       "      <td>0</td>\n",
       "      <td>XvLBr-9smbI0m_a7dXtB7w</td>\n",
       "      <td>2015-09-05</td>\n",
       "    </tr>\n",
       "    <tr>\n",
       "      <th>2</th>\n",
       "      <td>4.00</td>\n",
       "      <td>0</td>\n",
       "      <td>0</td>\n",
       "      <td>0</td>\n",
       "      <td>0</td>\n",
       "      <td>0</td>\n",
       "      <td>0</td>\n",
       "      <td>0</td>\n",
       "      <td>0</td>\n",
       "      <td>0</td>\n",
       "      <td>...</td>\n",
       "      <td>0</td>\n",
       "      <td>None</td>\n",
       "      <td>0</td>\n",
       "      <td>None</td>\n",
       "      <td>0</td>\n",
       "      <td>Andy</td>\n",
       "      <td>1</td>\n",
       "      <td>0</td>\n",
       "      <td>QPT4Ud4H5sJVr68yXhoWFw</td>\n",
       "      <td>2016-07-21</td>\n",
       "    </tr>\n",
       "    <tr>\n",
       "      <th>3</th>\n",
       "      <td>4.05</td>\n",
       "      <td>0</td>\n",
       "      <td>0</td>\n",
       "      <td>0</td>\n",
       "      <td>0</td>\n",
       "      <td>0</td>\n",
       "      <td>0</td>\n",
       "      <td>0</td>\n",
       "      <td>0</td>\n",
       "      <td>0</td>\n",
       "      <td>...</td>\n",
       "      <td>0</td>\n",
       "      <td>None</td>\n",
       "      <td>0</td>\n",
       "      <td>None</td>\n",
       "      <td>0</td>\n",
       "      <td>Jonathan</td>\n",
       "      <td>19</td>\n",
       "      <td>0</td>\n",
       "      <td>i5YitlHZpf0B3R0s_8NVuw</td>\n",
       "      <td>2014-08-04</td>\n",
       "    </tr>\n",
       "    <tr>\n",
       "      <th>4</th>\n",
       "      <td>3.00</td>\n",
       "      <td>0</td>\n",
       "      <td>0</td>\n",
       "      <td>0</td>\n",
       "      <td>0</td>\n",
       "      <td>0</td>\n",
       "      <td>0</td>\n",
       "      <td>0</td>\n",
       "      <td>0</td>\n",
       "      <td>0</td>\n",
       "      <td>...</td>\n",
       "      <td>0</td>\n",
       "      <td>None</td>\n",
       "      <td>0</td>\n",
       "      <td>None</td>\n",
       "      <td>0</td>\n",
       "      <td>Shashank</td>\n",
       "      <td>3</td>\n",
       "      <td>0</td>\n",
       "      <td>s4FoIXE_LSGviTHBe8dmcg</td>\n",
       "      <td>2017-06-18</td>\n",
       "    </tr>\n",
       "  </tbody>\n",
       "</table>\n",
       "<p>5 rows × 22 columns</p>\n",
       "</div>"
      ],
      "text/plain": [
       "   average_stars  compliment_cool  compliment_cute  compliment_funny  \\\n",
       "0           2.00                0                0                 0   \n",
       "1           5.00                0                0                 0   \n",
       "2           4.00                0                0                 0   \n",
       "3           4.05                0                0                 0   \n",
       "4           3.00                0                0                 0   \n",
       "\n",
       "   compliment_hot  compliment_list  compliment_more  compliment_note  \\\n",
       "0               0                0                0                0   \n",
       "1               0                0                0                0   \n",
       "2               0                0                0                0   \n",
       "3               0                0                0                0   \n",
       "4               0                0                0                0   \n",
       "\n",
       "   compliment_photos  compliment_plain      ...        cool  elite  fans  \\\n",
       "0                  0                 0      ...           0   None     0   \n",
       "1                  0                 0      ...           0   None     0   \n",
       "2                  0                 0      ...           0   None     0   \n",
       "3                  0                 0      ...           0   None     0   \n",
       "4                  0                 0      ...           0   None     0   \n",
       "\n",
       "  friends  funny      name  review_count useful                 user_id  \\\n",
       "0    None      0     Susan             1      0  lzlZwIpuSWXEnNS91wxjHw   \n",
       "1    None      0  Daipayan             2      0  XvLBr-9smbI0m_a7dXtB7w   \n",
       "2    None      0      Andy             1      0  QPT4Ud4H5sJVr68yXhoWFw   \n",
       "3    None      0  Jonathan            19      0  i5YitlHZpf0B3R0s_8NVuw   \n",
       "4    None      0  Shashank             3      0  s4FoIXE_LSGviTHBe8dmcg   \n",
       "\n",
       "   yelping_since  \n",
       "0     2015-09-28  \n",
       "1     2015-09-05  \n",
       "2     2016-07-21  \n",
       "3     2014-08-04  \n",
       "4     2017-06-18  \n",
       "\n",
       "[5 rows x 22 columns]"
      ]
     },
     "execution_count": 167,
     "metadata": {},
     "output_type": "execute_result"
    }
   ],
   "source": [
    "user_df.head()"
   ]
  },
  {
   "cell_type": "code",
   "execution_count": 166,
   "metadata": {
    "scrolled": false
   },
   "outputs": [
    {
     "name": "stdout",
     "output_type": "stream",
     "text": [
      "<class 'pandas.core.frame.DataFrame'>\n",
      "RangeIndex: 1518169 entries, 0 to 1518168\n",
      "Data columns (total 22 columns):\n",
      "average_stars         1518169 non-null float64\n",
      "compliment_cool       1518169 non-null int64\n",
      "compliment_cute       1518169 non-null int64\n",
      "compliment_funny      1518169 non-null int64\n",
      "compliment_hot        1518169 non-null int64\n",
      "compliment_list       1518169 non-null int64\n",
      "compliment_more       1518169 non-null int64\n",
      "compliment_note       1518169 non-null int64\n",
      "compliment_photos     1518169 non-null int64\n",
      "compliment_plain      1518169 non-null int64\n",
      "compliment_profile    1518169 non-null int64\n",
      "compliment_writer     1518169 non-null int64\n",
      "cool                  1518169 non-null int64\n",
      "elite                 1518169 non-null object\n",
      "fans                  1518169 non-null int64\n",
      "friends               1518169 non-null object\n",
      "funny                 1518169 non-null int64\n",
      "name                  1518169 non-null object\n",
      "review_count          1518169 non-null int64\n",
      "useful                1518169 non-null int64\n",
      "user_id               1518169 non-null object\n",
      "yelping_since         1518169 non-null object\n",
      "dtypes: float64(1), int64(16), object(5)\n",
      "memory usage: 254.8+ MB\n"
     ]
    }
   ],
   "source": [
    "user_df.info()"
   ]
  },
  {
   "cell_type": "markdown",
   "metadata": {},
   "source": [
    "The above info does not show any missing values, but nonnumerical type columns ('elite','friends', 'name', 'user_id', 'yelping_since') have to be checked further."
   ]
  },
  {
   "cell_type": "code",
   "execution_count": 353,
   "metadata": {},
   "outputs": [
    {
     "data": {
      "image/png": "[encoded data removed]",
      "text/plain": [
       "<Figure size 1440x1080 with 20 Axes>"
      ]
     },
     "metadata": {},
     "output_type": "display_data"
    }
   ],
   "source": [
    "user_df.hist(bins=20, figsize=(20,15))\n",
    "plt.yscale('log')\n",
    "plt.show()"
   ]
  },
  {
   "cell_type": "code",
   "execution_count": 355,
   "metadata": {},
   "outputs": [
    {
     "data": {
      "image/png": "[encoded data removed]",
      "text/plain": [
       "<Figure size 432x288 with 1 Axes>"
      ]
     },
     "metadata": {},
     "output_type": "display_data"
    }
   ],
   "source": [
    "user_df.review_count.hist(bins=50)\n",
    "plt.yscale('log')\n",
    "plt.title('Histogram of user review count')\n",
    "plt.ylabel('frequency')\n",
    "plt.xlabel('review_count')\n",
    "plt.show()"
   ]
  },
  {
   "cell_type": "code",
   "execution_count": 356,
   "metadata": {
    "scrolled": false
   },
   "outputs": [
    {
     "data": {
      "text/plain": [
       "1     284651\n",
       "2     192464\n",
       "3     144728\n",
       "4     102726\n",
       "5      78109\n",
       "6      62142\n",
       "7      50886\n",
       "8      42648\n",
       "9      36907\n",
       "10     32757\n",
       "Name: review_count, dtype: int64"
      ]
     },
     "execution_count": 356,
     "metadata": {},
     "output_type": "execute_result"
    }
   ],
   "source": [
    "user_df.review_count.value_counts()[:10]"
   ]
  },
  {
   "cell_type": "markdown",
   "metadata": {},
   "source": [
    "It is severely right-skewed and there are even users who left more than 10,000 reviews. I will explore these users in my EDA.\n",
    "Should I filter some users with small review counts? I will also decide this later.\n",
    "\n",
    "Now I will check nonnumerical columns."
   ]
  },
  {
   "cell_type": "code",
   "execution_count": 466,
   "metadata": {
    "scrolled": true
   },
   "outputs": [
    {
     "name": "stdout",
     "output_type": "stream",
     "text": [
      "\n",
      " string columns: ['elite', 'friends', 'name', 'user_id', 'yelping_since']\n"
     ]
    }
   ],
   "source": [
    "# find string columns\n",
    "str_columns =[]\n",
    "for col in user_df.columns:\n",
    "    if isinstance(user_df[col][0],str):\n",
    "        str_columns.append(col)\n",
    "        \n",
    "print(\"\\n string columns:\", str_columns)"
   ]
  },
  {
   "cell_type": "markdown",
   "metadata": {},
   "source": [
    "All non numerical columns are string types."
   ]
  },
  {
   "cell_type": "code",
   "execution_count": 361,
   "metadata": {
    "scrolled": true
   },
   "outputs": [
    {
     "data": {
      "text/html": [
       "<div>\n",
       "<style scoped>\n",
       "    .dataframe tbody tr th:only-of-type {\n",
       "        vertical-align: middle;\n",
       "    }\n",
       "\n",
       "    .dataframe tbody tr th {\n",
       "        vertical-align: top;\n",
       "    }\n",
       "\n",
       "    .dataframe thead th {\n",
       "        text-align: right;\n",
       "    }\n",
       "</style>\n",
       "<table border=\"1\" class=\"dataframe\">\n",
       "  <thead>\n",
       "    <tr style=\"text-align: right;\">\n",
       "      <th></th>\n",
       "      <th>elite</th>\n",
       "      <th>friends</th>\n",
       "      <th>name</th>\n",
       "      <th>user_id</th>\n",
       "      <th>yelping_since</th>\n",
       "    </tr>\n",
       "  </thead>\n",
       "  <tbody>\n",
       "    <tr>\n",
       "      <th>0</th>\n",
       "      <td>None</td>\n",
       "      <td>None</td>\n",
       "      <td>Susan</td>\n",
       "      <td>lzlZwIpuSWXEnNS91wxjHw</td>\n",
       "      <td>2015-09-28</td>\n",
       "    </tr>\n",
       "    <tr>\n",
       "      <th>1</th>\n",
       "      <td>None</td>\n",
       "      <td>None</td>\n",
       "      <td>Daipayan</td>\n",
       "      <td>XvLBr-9smbI0m_a7dXtB7w</td>\n",
       "      <td>2015-09-05</td>\n",
       "    </tr>\n",
       "    <tr>\n",
       "      <th>2</th>\n",
       "      <td>None</td>\n",
       "      <td>None</td>\n",
       "      <td>Andy</td>\n",
       "      <td>QPT4Ud4H5sJVr68yXhoWFw</td>\n",
       "      <td>2016-07-21</td>\n",
       "    </tr>\n",
       "    <tr>\n",
       "      <th>3</th>\n",
       "      <td>None</td>\n",
       "      <td>None</td>\n",
       "      <td>Jonathan</td>\n",
       "      <td>i5YitlHZpf0B3R0s_8NVuw</td>\n",
       "      <td>2014-08-04</td>\n",
       "    </tr>\n",
       "    <tr>\n",
       "      <th>4</th>\n",
       "      <td>None</td>\n",
       "      <td>None</td>\n",
       "      <td>Shashank</td>\n",
       "      <td>s4FoIXE_LSGviTHBe8dmcg</td>\n",
       "      <td>2017-06-18</td>\n",
       "    </tr>\n",
       "  </tbody>\n",
       "</table>\n",
       "</div>"
      ],
      "text/plain": [
       "  elite friends      name                 user_id yelping_since\n",
       "0  None    None     Susan  lzlZwIpuSWXEnNS91wxjHw    2015-09-28\n",
       "1  None    None  Daipayan  XvLBr-9smbI0m_a7dXtB7w    2015-09-05\n",
       "2  None    None      Andy  QPT4Ud4H5sJVr68yXhoWFw    2016-07-21\n",
       "3  None    None  Jonathan  i5YitlHZpf0B3R0s_8NVuw    2014-08-04\n",
       "4  None    None  Shashank  s4FoIXE_LSGviTHBe8dmcg    2017-06-18"
      ]
     },
     "execution_count": 361,
     "metadata": {},
     "output_type": "execute_result"
    }
   ],
   "source": [
    "user_df[str_columns].head()"
   ]
  },
  {
   "cell_type": "code",
   "execution_count": 363,
   "metadata": {},
   "outputs": [
    {
     "name": "stdout",
     "output_type": "stream",
     "text": [
      "elite 0\n",
      "friends 0\n",
      "name 473\n",
      "user_id 0\n",
      "yelping_since 0\n"
     ]
    }
   ],
   "source": [
    "# count empty strings\n",
    "for col in str_columns:\n",
    "    print(col, sum([1 for x in user_df[col] if (x=='')]))"
   ]
  },
  {
   "cell_type": "code",
   "execution_count": 467,
   "metadata": {},
   "outputs": [
    {
     "name": "stdout",
     "output_type": "stream",
     "text": [
      "elite 1451060\n",
      "friends 638278\n",
      "name 18\n",
      "user_id 0\n",
      "yelping_since 0\n"
     ]
    }
   ],
   "source": [
    "# count 'None' strings\n",
    "for col in str_columns:\n",
    "    print(col, sum([1 for x in user_df[col] if (x=='None')]))"
   ]
  },
  {
   "cell_type": "code",
   "execution_count": 464,
   "metadata": {},
   "outputs": [
    {
     "data": {
      "text/plain": [
       "0.9557960938472594"
      ]
     },
     "execution_count": 464,
     "metadata": {},
     "output_type": "execute_result"
    }
   ],
   "source": [
    "1451060/len(user_df)"
   ]
  },
  {
   "cell_type": "markdown",
   "metadata": {},
   "source": [
    "https://www.yelp.com/dataset/documentation/main shows \n",
    "- The column 'elite' is an array of years the user was elite  \n",
    "- The column 'friends' is an array of the user's friends as user_ids\n",
    "- The column 'name' is the user's first name\n",
    "\n",
    "It looks like 'elite' and 'friends' columns use 'None' to show users who were never elite users and users with no firends in Yelp, respectively. The 'name' column has both 'None' and ''(empty string), so it looks like it has some missing values. I am not likely to use these columns, but I will keep the columns just in case."
   ]
  },
  {
   "cell_type": "markdown",
   "metadata": {},
   "source": [
    "#### Select users with food and restaurant reviews"
   ]
  },
  {
   "cell_type": "code",
   "execution_count": 458,
   "metadata": {},
   "outputs": [
    {
     "data": {
      "text/plain": [
       "1518169"
      ]
     },
     "execution_count": 458,
     "metadata": {},
     "output_type": "execute_result"
    }
   ],
   "source": [
    "len(user_df)"
   ]
  },
  {
   "cell_type": "code",
   "execution_count": 457,
   "metadata": {},
   "outputs": [
    {
     "data": {
      "text/plain": [
       "1073581"
      ]
     },
     "execution_count": 457,
     "metadata": {},
     "output_type": "execute_result"
    }
   ],
   "source": [
    "food_restaurant_review_df.user_id.nunique()"
   ]
  },
  {
   "cell_type": "code",
   "execution_count": 459,
   "metadata": {},
   "outputs": [],
   "source": [
    "food_restaurant_user_df = user_df[user_df.user_id.isin(food_restaurant_review_df.user_id.unique())]"
   ]
  },
  {
   "cell_type": "code",
   "execution_count": 460,
   "metadata": {},
   "outputs": [
    {
     "data": {
      "text/plain": [
       "1073581"
      ]
     },
     "execution_count": 460,
     "metadata": {},
     "output_type": "execute_result"
    }
   ],
   "source": [
    "len(food_restaurant_user_df)"
   ]
  },
  {
   "cell_type": "markdown",
   "metadata": {},
   "source": [
    "#### Saving cleaned dataframes"
   ]
  },
  {
   "cell_type": "code",
   "execution_count": 422,
   "metadata": {},
   "outputs": [],
   "source": [
    "user_df.to_csv('user.csv')"
   ]
  },
  {
   "cell_type": "code",
   "execution_count": 461,
   "metadata": {},
   "outputs": [],
   "source": [
    "food_restaurant_user_df.to_csv('food_restaurant_user.csv')"
   ]
  },
  {
   "cell_type": "code",
   "execution_count": null,
   "metadata": {},
   "outputs": [],
   "source": []
  },
  {
   "cell_type": "markdown",
   "metadata": {},
   "source": [
    "<a id='summary'></a>\n",
    "\n",
    "### Summary\n",
    "\n",
    "There were 3 datasets in json format:\n",
    "\n",
    "1. 'yelp_academic_dataset_business.json' (Business)\n",
    "1. 'yelp_academic_dataset_review.json' (Review) \n",
    "1. 'yelp_academic_dataset_user.json' (User)\n",
    "\n",
    "#### Business data\n",
    "_Food and restaurant businesses_\n",
    "\n",
    "1. Made 'categories' column with all top and subcategories in one string into a list of categories.\n",
    "1. Found top categories related to places to eat are only 'food' and 'restaurants' categories.\n",
    "1. Made 3 new columns with 0 and 1 indicating \n",
    " 1. whether the business belongs to 'food' category\n",
    " 1. whether the business belongs to 'restaurant category\n",
    " 1. whether the business belongs to 'food' or 'restaurant category\n",
    "1. Selected only the food and restaurant businesses which are in my interest. There were originally 188,593 businesses, but the number was reduced to 72,624.\n",
    "\n",
    "_Missing values_\n",
    "\n",
    "I took care of numeric, string, list and dictionary columns separately\n",
    " 1. numeric: One missing latitude was filled using its address\n",
    " 1. string\n",
    "   1. 3 columns, 'neighborhood', 'address', and  'postal_code' were dropped since they have many missing values and are not likely to be useful in my analysis. Location information is still in latitude and longitude columns.\n",
    "   1. 3 missing city names were filled using longitude and latitude\n",
    " 1. list (no missing value)\n",
    " 1. dictionary\n",
    "  1. ‘hours’ was removed since it has missing values over 20%.\n",
    "  1. ‘attribute’ column with 39 possible business attributes as dictionary keys were made into 39 columns, but only 4 of them ('BusinessAcceptsCreditCards', 'BusinessParking', 'RestaurantsPriceRange2', 'RestaurantsTakeOut') survived after removing columns over 20% missing values. Three of the 4 were numerical columns about price range, takeout, and credit card and their missing values were filled with medians. The other column left ‘BusinessParking’ was about parking information in  dictionaries with 5 parking types as dictionary keys. The column was removed since is not likely useful in my analysis.  \n",
    " \n",
    "_Outliers_\n",
    "\n",
    "All numeric columns except for reivew_count have values in normal range and do not show any suspicious values or outliers. The column 'review_count' has some extremely high values, but it will be more closely investigated in EDA.\n",
    "\n",
    "\n",
    "#### Review data\n",
    "1. All four string columns 'review_id', 'user_id', 'business_id', and  'date' had an actual string value inside \"b  \", but it was not byte type. (e.g.,  \"b'2011-02-25'\" instead of  '2011-02-25') Thus, I remove \"b  \". Non numerical columns had no missing values. \n",
    "1. Numerical columns show some values in a wrong range. The reviews cannot have negative values for 'cool' or 'useful' counts, so I guessed -1 fot those columns represents missing values. There is no zero star option in Yelp ratings, so I assume 0 stars represent missing values. There were only 1 row for each missing case, so I removed the rows.\n",
    "1. There were 5,996,996 reviews originally and 4,017,884 were left after selecting reviews for food and restaurants businesses.\n",
    "\n",
    "####  User data\n",
    "1. The numerical columns had  no  missing values. The distribution of review counts for users is severely right-skewed (some with over 10,000 reviews). I will explore these users in my EDA. \n",
    "1. All non numerical columns were string types. There were many empty strings for user names and ‘None’ for  'elite' and 'friends' columns. Empty strings are likely to be missing values, but  ‘None' were not. I kept the columns just in case although I am not likely to use them.\n"
   ]
  },
  {
   "cell_type": "markdown",
   "metadata": {},
   "source": [
    "<a href = '#Top'>Return to top</a>"
   ]
  }
 ],
 "metadata": {
  "kernelspec": {
   "display_name": "Python 3",
   "language": "python",
   "name": "python3"
  },
  "language_info": {
   "codemirror_mode": {
    "name": "ipython",
    "version": 3
   },
   "file_extension": ".py",
   "mimetype": "text/x-python",
   "name": "python",
   "nbconvert_exporter": "python",
   "pygments_lexer": "ipython3",
   "version": "3.6.4"
  }
 },
 "nbformat": 4,
 "nbformat_minor": 2
}
